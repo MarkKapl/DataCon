{
  "cells": [
    {
      "cell_type": "markdown",
      "source": [
        "# Команда 11: Борисова Анна, Кутузов Ярослав, Капланский Марк\n",
        "\n",
        "## Подготовка баз данных"
      ],
      "metadata": {
        "id": "4X0ozb5o_nRs"
      }
    },
    {
      "cell_type": "markdown",
      "source": [
        "Начнём построение алгоритма с установки необходимых библиотек обработки данных и методов машинного обучения"
      ],
      "metadata": {
        "id": "vWSPE2ILGE6G"
      }
    },
    {
      "cell_type": "code",
      "execution_count": null,
      "metadata": {
        "id": "i304M4rE-pXt"
      },
      "outputs": [],
      "source": [
        "from sklearn.model_selection import train_test_split\n",
        "import matplotlib.pyplot as plt\n",
        "import pandas as pd\n",
        "import numpy as np\n",
        "import plotly.express as px\n",
        "from sklearn.cross_decomposition import PLSRegression\n",
        "from sklearn.metrics import mean_squared_error, r2_score\n",
        "from sklearn.model_selection import cross_val_predict, LeaveOneOut\n",
        "from sklearn import preprocessing\n",
        "from sklearn.metrics import r2_score\n",
        "from scipy import linalg\n",
        "from sklearn.metrics import mean_absolute_error\n",
        "import tensorflow as tf\n",
        "import io\n",
        "import pandas as pd\n",
        "from google.colab import files\n",
        "import seaborn as sns\n",
        "import os"
      ]
    },
    {
      "cell_type": "markdown",
      "source": [
        "Загружаем сырые базы данных в среду обработки и сохраняем их содержимое в переменных df1, df2, df3, df4, df5 "
      ],
      "metadata": {
        "id": "Jq3EsGpZGiDo"
      }
    },
    {
      "cell_type": "code",
      "execution_count": 247,
      "metadata": {
        "id": "KV9W41GbkasR"
      },
      "outputs": [],
      "source": [
        "#Если с GitHub автоматически не скачиваются базы данных, то используйте эту функцию, чтобы ввести их вручную\n",
        "\n",
        "#uploaded = files.upload()"
      ]
    },
    {
      "cell_type": "code",
      "execution_count": null,
      "metadata": {
        "id": "Lc9aAsdZ-2Js"
      },
      "outputs": [],
      "source": [
        "df1 = pd.read_excel('Database_1.xlsx')\n",
        "df2 = pd.read_excel('Database_2.xlsx')\n",
        "df3 = pd.read_excel('Database_3.xlsx')\n",
        "df4 = pd.read_excel('Database_4.xlsx')\n",
        "df5 = pd.read_excel('Database_5.xlsx')"
      ]
    },
    {
      "cell_type": "markdown",
      "metadata": {
        "id": "nWrMXe7HlHMM"
      },
      "source": [
        "Поскольку базы данных содержат различные данные о свойствах наночастиц, мы выделили некоторые общие параметры, чтобы использовать их для построении модели МО. Свойства наночастиц для анализа:\n",
        "\n",
        "1. Природа материала (Material type)\n",
        "2. Линейный размер наночастиц (Hydro size (nm)/ Size_in_water)\n",
        "3. Электроповерхностная характеристика (Surface charge (mV)/ Zeta_in_water)\n",
        "4. Концентрация (Exposure dose (ug/mL)/ Concentration  μM/ dose)\n",
        "\n",
        "5. Предсказываем биологическую активность: Viability (%)\n",
        "\n",
        "Этот подход позволяет включить в рассмотрение почти все наночастицы из баз данных без внесения заметных информационных шумов. Однако построенная модель не будет зависеть от типа клеточной линии. Это придаёт предсказываемому параметру Viability некоторую абстрактность, что является ограничением подхода. Тем не менее, датасеты с большим числом сэмплом и не очень большим числом параметров являются более подходящими для гибких моделей. \n",
        "\n",
        "\n",
        "---\n",
        "\n"
      ]
    },
    {
      "cell_type": "markdown",
      "source": [
        "Первым этапом создадим общий DataFrame из рассматриваемых данных по наночастицам. Для этого сохраним в переменную Name_col список списков, состоящих из названий столбцов баз данных"
      ],
      "metadata": {
        "id": "o6f8k0J5LLUm"
      }
    },
    {
      "cell_type": "code",
      "execution_count": null,
      "metadata": {
        "id": "FygoKVlAp6XJ"
      },
      "outputs": [],
      "source": [
        "Name_col = [['Material type','Hydro size (nm)','Surface charge (mV)','Exposure dose (ug/mL)','Viability (%)'],\n",
        "            ['Nanoparticle','Diameter (nm)', 'Zeta potential (mV)', 'Concentration μM', '% Cell viability'],\n",
        "            ['Material','Size_in_Water (nm)','Zeta_in_Water (mV)','Concentration (ug/ml)', 'Cell_Viability (%)'],\n",
        "            ['Material type','Hydro size (nm)','Surface charge (mV)','Exposure dose (ug/mL)','Viability (%)'],\n",
        "            ['material', 'hydro_size', 'surf_charge','dose','viability']]"
      ]
    },
    {
      "cell_type": "markdown",
      "metadata": {
        "id": "OEe3uNY4tfb6"
      },
      "source": [
        "Переименуем столбцы каждого датасета единообразно, чтобы упростить их объединение. Полученные DataFrames сохраним в новые переменные df1_cols, df2_cols, df3_cols, df4_cols, df5_cols\n"
      ]
    },
    {
      "cell_type": "code",
      "execution_count": null,
      "metadata": {
        "id": "ZPWopEXwnNsm"
      },
      "outputs": [],
      "source": [
        "df1_cols = df1.loc[:,Name_col[0]]\n",
        "df1_cols = df1_cols.rename(columns={'Hydro size (nm)': 'Diameter, nm',\n",
        "                           'Surface charge (mV)': 'Surface charge, mV',\n",
        "                           'Exposure dose (ug/mL)': 'Dose, ug/mL',\n",
        "                           'Nanoparticle': 'Material type',\n",
        "                           'Viability (%)': 'Viability, %'                                                   \n",
        "                           })\n",
        "\n",
        "df2_cols = df2.loc[:,Name_col[1]]\n",
        "df2_cols = df2_cols.rename(columns={'Nanoparticle': 'Material type',\n",
        "                           'Diameter (nm)': 'Diameter, nm',\n",
        "                           'Zeta potential (mV)': 'Surface charge, mV', \n",
        "                           '% Cell viability': 'Viability, %'                                                   \n",
        "                           })\n",
        "\n",
        "df3_cols = df3.loc[:,Name_col[2]]\n",
        "df3_cols = df3_cols.rename(columns={'Material': 'Material type',\n",
        "                           'Size_in_Water (nm)': 'Diameter, nm',\n",
        "                           'Zeta_in_Water (mV)': 'Surface charge, mV',\n",
        "                           'Concentration (ug/ml)': 'Dose, ug/mL',\n",
        "                           'Cell_Viability (%)': 'Viability, %'                                                   \n",
        "                           })\n",
        "\n",
        "df4_cols = df4.loc[:,Name_col[3]]\n",
        "df4_cols = df4_cols.rename(columns={'Hydro size (nm)': 'Diameter, nm',\n",
        "                           'Surface charge (mV)': 'Surface charge, mV',\n",
        "                           'Exposure dose (ug/mL)': 'Dose, ug/mL',\n",
        "                           'Nanoparticle': 'Material type',\n",
        "                           'Viability (%)': 'Viability, %'                                                   \n",
        "                           })\n",
        "\n",
        "df5_cols = df5.loc[:,Name_col[4]]\n",
        "df5_cols = df5_cols.rename(columns={'material': 'Material type',\n",
        "                           'hydro_size': 'Diameter, nm', \n",
        "                           'surf_charge': 'Surface charge, mV',\n",
        "                           'dose': 'Dose, ug/mL',\n",
        "                           'viability': 'Viability, %'                                                  \n",
        "                           })"
      ]
    },
    {
      "cell_type": "markdown",
      "source": [
        "---\n",
        "\n",
        "В переменной df2_cols содержится концентрация частиц, выраженная в μM. Для построения модели необходимо привести всё к одним единицам измерения.\n",
        "  \n",
        "Полагая, что концентрация в DataFrames несёт информацию о содержании материала наночастиц, а не самих наночастиц, перейдём от μM к ug/ml следующим образом:\n",
        "\n",
        "$C = M\\cdot C/ 1000$\n",
        "\n",
        "*C* - концентрация, выраженная в ug/ml;\n",
        "**C** - концентрация, выраженная в μM;\n",
        "*M* - молярная масса материала наночастицы\n",
        "коэффициент 1 / 1000 возник при переводе единиц объёма \"л\" в \"мл\".\n",
        "\n",
        "---"
      ],
      "metadata": {
        "id": "C4BMO4mLs-Jt"
      }
    },
    {
      "cell_type": "markdown",
      "source": [
        "Исключим из датасета в переменной df2_cols наночастицы, для которых не найдено  молярной массы"
      ],
      "metadata": {
        "id": "5QiKEyyXRp45"
      }
    },
    {
      "cell_type": "code",
      "source": [
        "df2_cols = df2_cols[df2_cols['Material type'] != 'Liposomes']\n",
        "df2_cols = df2_cols[df2_cols['Material type'] != 'SLN']\n",
        "df2_cols = df2_cols[df2_cols['Material type'] != 'Dendrimer']\n",
        "df2_cols = df2_cols[df2_cols['Material type'] != 'QDs']"
      ],
      "metadata": {
        "id": "qNc8ki_NtI0Z"
      },
      "execution_count": null,
      "outputs": []
    },
    {
      "cell_type": "markdown",
      "source": [
        "Назовём наночастицы в df2_cols единообразно"
      ],
      "metadata": {
        "id": "Ld0y8esuSAMF"
      }
    },
    {
      "cell_type": "code",
      "source": [
        "df2_cols = df2_cols.replace({'Material type':{'Copper Oxide':'CuO', \"Zinc oxide\":'ZnO','Iron oxide':'Fe3O4',\n",
        "                                              'Hydroxyapatite':'HPA'}}) "
      ],
      "metadata": {
        "id": "LnebQg3_OgT0"
      },
      "execution_count": null,
      "outputs": []
    },
    {
      "cell_type": "markdown",
      "source": [
        "Обновим порядок следования индексов"
      ],
      "metadata": {
        "id": "nAS258G8SNAT"
      }
    },
    {
      "cell_type": "code",
      "source": [
        "df2_cols = df2_cols.reset_index()\n",
        "del df2_cols['index']\n",
        "df2_cols"
      ],
      "metadata": {
        "colab": {
          "base_uri": "https://localhost:8080/",
          "height": 424
        },
        "id": "Aw-KPtfzOtAs",
        "outputId": "cdec52bc-dce5-4f21-8e85-96b0c3c95c84"
      },
      "execution_count": null,
      "outputs": [
        {
          "output_type": "execute_result",
          "data": {
            "text/plain": [
              "     Material type  Diameter, nm  Surface charge, mV  Concentration μM  \\\n",
              "0             CeO2          20.3                 NaN          0.002478   \n",
              "1             CeO2          20.3                 NaN          0.004956   \n",
              "2             CeO2          20.3                 NaN          0.009911   \n",
              "3             CeO2          20.3                 NaN          0.019823   \n",
              "4             CeO2          20.3                 NaN          0.039645   \n",
              "...            ...           ...                 ...               ...   \n",
              "2585      Chitosan         260.0                47.0          0.000180   \n",
              "2586      Chitosan         260.0                47.0          0.000180   \n",
              "2587      Chitosan         260.0                47.0          0.000180   \n",
              "2588      Chitosan         260.0                47.0          0.000180   \n",
              "2589      Chitosan         260.0                47.0          0.000180   \n",
              "\n",
              "      Viability, %  \n",
              "0        105.58918  \n",
              "1        103.02621  \n",
              "2        104.85748  \n",
              "3        100.09670  \n",
              "4         97.53237  \n",
              "...            ...  \n",
              "2585      95.50218  \n",
              "2586      90.26201  \n",
              "2587      89.56332  \n",
              "2588      85.37118  \n",
              "2589      78.55895  \n",
              "\n",
              "[2590 rows x 5 columns]"
            ],
            "text/html": [
              "\n",
              "  <div id=\"df-751e3313-5c0c-4591-8435-908f1dac35de\">\n",
              "    <div class=\"colab-df-container\">\n",
              "      <div>\n",
              "<style scoped>\n",
              "    .dataframe tbody tr th:only-of-type {\n",
              "        vertical-align: middle;\n",
              "    }\n",
              "\n",
              "    .dataframe tbody tr th {\n",
              "        vertical-align: top;\n",
              "    }\n",
              "\n",
              "    .dataframe thead th {\n",
              "        text-align: right;\n",
              "    }\n",
              "</style>\n",
              "<table border=\"1\" class=\"dataframe\">\n",
              "  <thead>\n",
              "    <tr style=\"text-align: right;\">\n",
              "      <th></th>\n",
              "      <th>Material type</th>\n",
              "      <th>Diameter, nm</th>\n",
              "      <th>Surface charge, mV</th>\n",
              "      <th>Concentration μM</th>\n",
              "      <th>Viability, %</th>\n",
              "    </tr>\n",
              "  </thead>\n",
              "  <tbody>\n",
              "    <tr>\n",
              "      <th>0</th>\n",
              "      <td>CeO2</td>\n",
              "      <td>20.3</td>\n",
              "      <td>NaN</td>\n",
              "      <td>0.002478</td>\n",
              "      <td>105.58918</td>\n",
              "    </tr>\n",
              "    <tr>\n",
              "      <th>1</th>\n",
              "      <td>CeO2</td>\n",
              "      <td>20.3</td>\n",
              "      <td>NaN</td>\n",
              "      <td>0.004956</td>\n",
              "      <td>103.02621</td>\n",
              "    </tr>\n",
              "    <tr>\n",
              "      <th>2</th>\n",
              "      <td>CeO2</td>\n",
              "      <td>20.3</td>\n",
              "      <td>NaN</td>\n",
              "      <td>0.009911</td>\n",
              "      <td>104.85748</td>\n",
              "    </tr>\n",
              "    <tr>\n",
              "      <th>3</th>\n",
              "      <td>CeO2</td>\n",
              "      <td>20.3</td>\n",
              "      <td>NaN</td>\n",
              "      <td>0.019823</td>\n",
              "      <td>100.09670</td>\n",
              "    </tr>\n",
              "    <tr>\n",
              "      <th>4</th>\n",
              "      <td>CeO2</td>\n",
              "      <td>20.3</td>\n",
              "      <td>NaN</td>\n",
              "      <td>0.039645</td>\n",
              "      <td>97.53237</td>\n",
              "    </tr>\n",
              "    <tr>\n",
              "      <th>...</th>\n",
              "      <td>...</td>\n",
              "      <td>...</td>\n",
              "      <td>...</td>\n",
              "      <td>...</td>\n",
              "      <td>...</td>\n",
              "    </tr>\n",
              "    <tr>\n",
              "      <th>2585</th>\n",
              "      <td>Chitosan</td>\n",
              "      <td>260.0</td>\n",
              "      <td>47.0</td>\n",
              "      <td>0.000180</td>\n",
              "      <td>95.50218</td>\n",
              "    </tr>\n",
              "    <tr>\n",
              "      <th>2586</th>\n",
              "      <td>Chitosan</td>\n",
              "      <td>260.0</td>\n",
              "      <td>47.0</td>\n",
              "      <td>0.000180</td>\n",
              "      <td>90.26201</td>\n",
              "    </tr>\n",
              "    <tr>\n",
              "      <th>2587</th>\n",
              "      <td>Chitosan</td>\n",
              "      <td>260.0</td>\n",
              "      <td>47.0</td>\n",
              "      <td>0.000180</td>\n",
              "      <td>89.56332</td>\n",
              "    </tr>\n",
              "    <tr>\n",
              "      <th>2588</th>\n",
              "      <td>Chitosan</td>\n",
              "      <td>260.0</td>\n",
              "      <td>47.0</td>\n",
              "      <td>0.000180</td>\n",
              "      <td>85.37118</td>\n",
              "    </tr>\n",
              "    <tr>\n",
              "      <th>2589</th>\n",
              "      <td>Chitosan</td>\n",
              "      <td>260.0</td>\n",
              "      <td>47.0</td>\n",
              "      <td>0.000180</td>\n",
              "      <td>78.55895</td>\n",
              "    </tr>\n",
              "  </tbody>\n",
              "</table>\n",
              "<p>2590 rows × 5 columns</p>\n",
              "</div>\n",
              "      <button class=\"colab-df-convert\" onclick=\"convertToInteractive('df-751e3313-5c0c-4591-8435-908f1dac35de')\"\n",
              "              title=\"Convert this dataframe to an interactive table.\"\n",
              "              style=\"display:none;\">\n",
              "        \n",
              "  <svg xmlns=\"http://www.w3.org/2000/svg\" height=\"24px\"viewBox=\"0 0 24 24\"\n",
              "       width=\"24px\">\n",
              "    <path d=\"M0 0h24v24H0V0z\" fill=\"none\"/>\n",
              "    <path d=\"M18.56 5.44l.94 2.06.94-2.06 2.06-.94-2.06-.94-.94-2.06-.94 2.06-2.06.94zm-11 1L8.5 8.5l.94-2.06 2.06-.94-2.06-.94L8.5 2.5l-.94 2.06-2.06.94zm10 10l.94 2.06.94-2.06 2.06-.94-2.06-.94-.94-2.06-.94 2.06-2.06.94z\"/><path d=\"M17.41 7.96l-1.37-1.37c-.4-.4-.92-.59-1.43-.59-.52 0-1.04.2-1.43.59L10.3 9.45l-7.72 7.72c-.78.78-.78 2.05 0 2.83L4 21.41c.39.39.9.59 1.41.59.51 0 1.02-.2 1.41-.59l7.78-7.78 2.81-2.81c.8-.78.8-2.07 0-2.86zM5.41 20L4 18.59l7.72-7.72 1.47 1.35L5.41 20z\"/>\n",
              "  </svg>\n",
              "      </button>\n",
              "      \n",
              "  <style>\n",
              "    .colab-df-container {\n",
              "      display:flex;\n",
              "      flex-wrap:wrap;\n",
              "      gap: 12px;\n",
              "    }\n",
              "\n",
              "    .colab-df-convert {\n",
              "      background-color: #E8F0FE;\n",
              "      border: none;\n",
              "      border-radius: 50%;\n",
              "      cursor: pointer;\n",
              "      display: none;\n",
              "      fill: #1967D2;\n",
              "      height: 32px;\n",
              "      padding: 0 0 0 0;\n",
              "      width: 32px;\n",
              "    }\n",
              "\n",
              "    .colab-df-convert:hover {\n",
              "      background-color: #E2EBFA;\n",
              "      box-shadow: 0px 1px 2px rgba(60, 64, 67, 0.3), 0px 1px 3px 1px rgba(60, 64, 67, 0.15);\n",
              "      fill: #174EA6;\n",
              "    }\n",
              "\n",
              "    [theme=dark] .colab-df-convert {\n",
              "      background-color: #3B4455;\n",
              "      fill: #D2E3FC;\n",
              "    }\n",
              "\n",
              "    [theme=dark] .colab-df-convert:hover {\n",
              "      background-color: #434B5C;\n",
              "      box-shadow: 0px 1px 3px 1px rgba(0, 0, 0, 0.15);\n",
              "      filter: drop-shadow(0px 1px 2px rgba(0, 0, 0, 0.3));\n",
              "      fill: #FFFFFF;\n",
              "    }\n",
              "  </style>\n",
              "\n",
              "      <script>\n",
              "        const buttonEl =\n",
              "          document.querySelector('#df-751e3313-5c0c-4591-8435-908f1dac35de button.colab-df-convert');\n",
              "        buttonEl.style.display =\n",
              "          google.colab.kernel.accessAllowed ? 'block' : 'none';\n",
              "\n",
              "        async function convertToInteractive(key) {\n",
              "          const element = document.querySelector('#df-751e3313-5c0c-4591-8435-908f1dac35de');\n",
              "          const dataTable =\n",
              "            await google.colab.kernel.invokeFunction('convertToInteractive',\n",
              "                                                     [key], {});\n",
              "          if (!dataTable) return;\n",
              "\n",
              "          const docLinkHtml = 'Like what you see? Visit the ' +\n",
              "            '<a target=\"_blank\" href=https://colab.research.google.com/notebooks/data_table.ipynb>data table notebook</a>'\n",
              "            + ' to learn more about interactive tables.';\n",
              "          element.innerHTML = '';\n",
              "          dataTable['output_type'] = 'display_data';\n",
              "          await google.colab.output.renderOutput(dataTable, element);\n",
              "          const docLink = document.createElement('div');\n",
              "          docLink.innerHTML = docLinkHtml;\n",
              "          element.appendChild(docLink);\n",
              "        }\n",
              "      </script>\n",
              "    </div>\n",
              "  </div>\n",
              "  "
            ]
          },
          "metadata": {},
          "execution_count": 58
        }
      ]
    },
    {
      "cell_type": "markdown",
      "source": [
        "Создадим промежуточные списки материалов наночастиц и соответствующих им молярных масс. В случае полимерных наночастиц брали молярную массу мономерного звена "
      ],
      "metadata": {
        "id": "AMhwUh1Hwazc"
      }
    },
    {
      "cell_type": "code",
      "source": [
        "df2_material = df2_cols['Material type'].unique()\n",
        "df2_molmass=[172.115,78.96, 79.545, 95.611, 81.38, 231.533, 79.866, 47.867, 52.0,58.93,240.8,128.4112, 70.9374,208.98,95.95,195.084,502.31,143.09,40.3, 101.96, 60.08, 196.97, 107.87, 231.29, 148.11, 104.15, 12, 12, 1526.5]"
      ],
      "metadata": {
        "id": "cUiaWRhRPHCq"
      },
      "execution_count": null,
      "outputs": []
    },
    {
      "cell_type": "markdown",
      "source": [
        "Приведём все значения концентрации в столбце \"Concentration μM\" к концентрации в единицах ug/ml"
      ],
      "metadata": {
        "id": "7UzOFid-A6aT"
      }
    },
    {
      "cell_type": "code",
      "source": [
        "for i in range(len(df2_cols['Material type'])):\n",
        "  for j in range(len(df2_material)):\n",
        "    if df2_cols['Material type'][i] == df2_material[j]:\n",
        "        df2_cols['Concentration μM'][i] =  (df2_cols['Concentration μM'][i] * df2_molmass[j])/1000"
      ],
      "metadata": {
        "colab": {
          "base_uri": "https://localhost:8080/"
        },
        "id": "K3GFDCEoPSRa",
        "outputId": "fc8455e0-5d6c-4dbd-b2d2-a497717c8352"
      },
      "execution_count": null,
      "outputs": [
        {
          "output_type": "stream",
          "name": "stderr",
          "text": [
            "/usr/local/lib/python3.7/dist-packages/ipykernel_launcher.py:4: SettingWithCopyWarning: \n",
            "A value is trying to be set on a copy of a slice from a DataFrame\n",
            "\n",
            "See the caveats in the documentation: https://pandas.pydata.org/pandas-docs/stable/user_guide/indexing.html#returning-a-view-versus-a-copy\n",
            "  after removing the cwd from sys.path.\n"
          ]
        }
      ]
    },
    {
      "cell_type": "code",
      "source": [
        "df2_cols = df2_cols.rename(columns={'Concentration μM': 'Dose, ug/mL'})\n",
        "df2_cols"
      ],
      "metadata": {
        "id": "DpZqs4E0PZfW",
        "colab": {
          "base_uri": "https://localhost:8080/",
          "height": 424
        },
        "outputId": "8e5943b5-6c87-40ed-ef85-dde4ad01908b"
      },
      "execution_count": null,
      "outputs": [
        {
          "output_type": "execute_result",
          "data": {
            "text/plain": [
              "     Material type  Diameter, nm  Surface charge, mV  Dose, ug/mL  \\\n",
              "0             CeO2          20.3                 NaN     0.000426   \n",
              "1             CeO2          20.3                 NaN     0.000853   \n",
              "2             CeO2          20.3                 NaN     0.001706   \n",
              "3             CeO2          20.3                 NaN     0.003412   \n",
              "4             CeO2          20.3                 NaN     0.006824   \n",
              "...            ...           ...                 ...          ...   \n",
              "2585      Chitosan         260.0                47.0     0.000275   \n",
              "2586      Chitosan         260.0                47.0     0.000275   \n",
              "2587      Chitosan         260.0                47.0     0.000275   \n",
              "2588      Chitosan         260.0                47.0     0.000275   \n",
              "2589      Chitosan         260.0                47.0     0.000275   \n",
              "\n",
              "      Viability, %  \n",
              "0        105.58918  \n",
              "1        103.02621  \n",
              "2        104.85748  \n",
              "3        100.09670  \n",
              "4         97.53237  \n",
              "...            ...  \n",
              "2585      95.50218  \n",
              "2586      90.26201  \n",
              "2587      89.56332  \n",
              "2588      85.37118  \n",
              "2589      78.55895  \n",
              "\n",
              "[2590 rows x 5 columns]"
            ],
            "text/html": [
              "\n",
              "  <div id=\"df-c33b37b0-0c29-4ce6-b580-82f08c514327\">\n",
              "    <div class=\"colab-df-container\">\n",
              "      <div>\n",
              "<style scoped>\n",
              "    .dataframe tbody tr th:only-of-type {\n",
              "        vertical-align: middle;\n",
              "    }\n",
              "\n",
              "    .dataframe tbody tr th {\n",
              "        vertical-align: top;\n",
              "    }\n",
              "\n",
              "    .dataframe thead th {\n",
              "        text-align: right;\n",
              "    }\n",
              "</style>\n",
              "<table border=\"1\" class=\"dataframe\">\n",
              "  <thead>\n",
              "    <tr style=\"text-align: right;\">\n",
              "      <th></th>\n",
              "      <th>Material type</th>\n",
              "      <th>Diameter, nm</th>\n",
              "      <th>Surface charge, mV</th>\n",
              "      <th>Dose, ug/mL</th>\n",
              "      <th>Viability, %</th>\n",
              "    </tr>\n",
              "  </thead>\n",
              "  <tbody>\n",
              "    <tr>\n",
              "      <th>0</th>\n",
              "      <td>CeO2</td>\n",
              "      <td>20.3</td>\n",
              "      <td>NaN</td>\n",
              "      <td>0.000426</td>\n",
              "      <td>105.58918</td>\n",
              "    </tr>\n",
              "    <tr>\n",
              "      <th>1</th>\n",
              "      <td>CeO2</td>\n",
              "      <td>20.3</td>\n",
              "      <td>NaN</td>\n",
              "      <td>0.000853</td>\n",
              "      <td>103.02621</td>\n",
              "    </tr>\n",
              "    <tr>\n",
              "      <th>2</th>\n",
              "      <td>CeO2</td>\n",
              "      <td>20.3</td>\n",
              "      <td>NaN</td>\n",
              "      <td>0.001706</td>\n",
              "      <td>104.85748</td>\n",
              "    </tr>\n",
              "    <tr>\n",
              "      <th>3</th>\n",
              "      <td>CeO2</td>\n",
              "      <td>20.3</td>\n",
              "      <td>NaN</td>\n",
              "      <td>0.003412</td>\n",
              "      <td>100.09670</td>\n",
              "    </tr>\n",
              "    <tr>\n",
              "      <th>4</th>\n",
              "      <td>CeO2</td>\n",
              "      <td>20.3</td>\n",
              "      <td>NaN</td>\n",
              "      <td>0.006824</td>\n",
              "      <td>97.53237</td>\n",
              "    </tr>\n",
              "    <tr>\n",
              "      <th>...</th>\n",
              "      <td>...</td>\n",
              "      <td>...</td>\n",
              "      <td>...</td>\n",
              "      <td>...</td>\n",
              "      <td>...</td>\n",
              "    </tr>\n",
              "    <tr>\n",
              "      <th>2585</th>\n",
              "      <td>Chitosan</td>\n",
              "      <td>260.0</td>\n",
              "      <td>47.0</td>\n",
              "      <td>0.000275</td>\n",
              "      <td>95.50218</td>\n",
              "    </tr>\n",
              "    <tr>\n",
              "      <th>2586</th>\n",
              "      <td>Chitosan</td>\n",
              "      <td>260.0</td>\n",
              "      <td>47.0</td>\n",
              "      <td>0.000275</td>\n",
              "      <td>90.26201</td>\n",
              "    </tr>\n",
              "    <tr>\n",
              "      <th>2587</th>\n",
              "      <td>Chitosan</td>\n",
              "      <td>260.0</td>\n",
              "      <td>47.0</td>\n",
              "      <td>0.000275</td>\n",
              "      <td>89.56332</td>\n",
              "    </tr>\n",
              "    <tr>\n",
              "      <th>2588</th>\n",
              "      <td>Chitosan</td>\n",
              "      <td>260.0</td>\n",
              "      <td>47.0</td>\n",
              "      <td>0.000275</td>\n",
              "      <td>85.37118</td>\n",
              "    </tr>\n",
              "    <tr>\n",
              "      <th>2589</th>\n",
              "      <td>Chitosan</td>\n",
              "      <td>260.0</td>\n",
              "      <td>47.0</td>\n",
              "      <td>0.000275</td>\n",
              "      <td>78.55895</td>\n",
              "    </tr>\n",
              "  </tbody>\n",
              "</table>\n",
              "<p>2590 rows × 5 columns</p>\n",
              "</div>\n",
              "      <button class=\"colab-df-convert\" onclick=\"convertToInteractive('df-c33b37b0-0c29-4ce6-b580-82f08c514327')\"\n",
              "              title=\"Convert this dataframe to an interactive table.\"\n",
              "              style=\"display:none;\">\n",
              "        \n",
              "  <svg xmlns=\"http://www.w3.org/2000/svg\" height=\"24px\"viewBox=\"0 0 24 24\"\n",
              "       width=\"24px\">\n",
              "    <path d=\"M0 0h24v24H0V0z\" fill=\"none\"/>\n",
              "    <path d=\"M18.56 5.44l.94 2.06.94-2.06 2.06-.94-2.06-.94-.94-2.06-.94 2.06-2.06.94zm-11 1L8.5 8.5l.94-2.06 2.06-.94-2.06-.94L8.5 2.5l-.94 2.06-2.06.94zm10 10l.94 2.06.94-2.06 2.06-.94-2.06-.94-.94-2.06-.94 2.06-2.06.94z\"/><path d=\"M17.41 7.96l-1.37-1.37c-.4-.4-.92-.59-1.43-.59-.52 0-1.04.2-1.43.59L10.3 9.45l-7.72 7.72c-.78.78-.78 2.05 0 2.83L4 21.41c.39.39.9.59 1.41.59.51 0 1.02-.2 1.41-.59l7.78-7.78 2.81-2.81c.8-.78.8-2.07 0-2.86zM5.41 20L4 18.59l7.72-7.72 1.47 1.35L5.41 20z\"/>\n",
              "  </svg>\n",
              "      </button>\n",
              "      \n",
              "  <style>\n",
              "    .colab-df-container {\n",
              "      display:flex;\n",
              "      flex-wrap:wrap;\n",
              "      gap: 12px;\n",
              "    }\n",
              "\n",
              "    .colab-df-convert {\n",
              "      background-color: #E8F0FE;\n",
              "      border: none;\n",
              "      border-radius: 50%;\n",
              "      cursor: pointer;\n",
              "      display: none;\n",
              "      fill: #1967D2;\n",
              "      height: 32px;\n",
              "      padding: 0 0 0 0;\n",
              "      width: 32px;\n",
              "    }\n",
              "\n",
              "    .colab-df-convert:hover {\n",
              "      background-color: #E2EBFA;\n",
              "      box-shadow: 0px 1px 2px rgba(60, 64, 67, 0.3), 0px 1px 3px 1px rgba(60, 64, 67, 0.15);\n",
              "      fill: #174EA6;\n",
              "    }\n",
              "\n",
              "    [theme=dark] .colab-df-convert {\n",
              "      background-color: #3B4455;\n",
              "      fill: #D2E3FC;\n",
              "    }\n",
              "\n",
              "    [theme=dark] .colab-df-convert:hover {\n",
              "      background-color: #434B5C;\n",
              "      box-shadow: 0px 1px 3px 1px rgba(0, 0, 0, 0.15);\n",
              "      filter: drop-shadow(0px 1px 2px rgba(0, 0, 0, 0.3));\n",
              "      fill: #FFFFFF;\n",
              "    }\n",
              "  </style>\n",
              "\n",
              "      <script>\n",
              "        const buttonEl =\n",
              "          document.querySelector('#df-c33b37b0-0c29-4ce6-b580-82f08c514327 button.colab-df-convert');\n",
              "        buttonEl.style.display =\n",
              "          google.colab.kernel.accessAllowed ? 'block' : 'none';\n",
              "\n",
              "        async function convertToInteractive(key) {\n",
              "          const element = document.querySelector('#df-c33b37b0-0c29-4ce6-b580-82f08c514327');\n",
              "          const dataTable =\n",
              "            await google.colab.kernel.invokeFunction('convertToInteractive',\n",
              "                                                     [key], {});\n",
              "          if (!dataTable) return;\n",
              "\n",
              "          const docLinkHtml = 'Like what you see? Visit the ' +\n",
              "            '<a target=\"_blank\" href=https://colab.research.google.com/notebooks/data_table.ipynb>data table notebook</a>'\n",
              "            + ' to learn more about interactive tables.';\n",
              "          element.innerHTML = '';\n",
              "          dataTable['output_type'] = 'display_data';\n",
              "          await google.colab.output.renderOutput(dataTable, element);\n",
              "          const docLink = document.createElement('div');\n",
              "          docLink.innerHTML = docLinkHtml;\n",
              "          element.appendChild(docLink);\n",
              "        }\n",
              "      </script>\n",
              "    </div>\n",
              "  </div>\n",
              "  "
            ]
          },
          "metadata": {},
          "execution_count": 61
        }
      ]
    },
    {
      "cell_type": "markdown",
      "source": [
        "Объединим все базы данных в единую БД. Сохраним её в переменной df_Total"
      ],
      "metadata": {
        "id": "uNmf66uoB3XM"
      }
    },
    {
      "cell_type": "code",
      "execution_count": null,
      "metadata": {
        "colab": {
          "base_uri": "https://localhost:8080/",
          "height": 424
        },
        "id": "79zp4JBUW3Ua",
        "outputId": "6e09a590-7375-4f43-b9ee-5087cbf121ba"
      },
      "outputs": [
        {
          "output_type": "execute_result",
          "data": {
            "text/plain": [
              "    Material type  Diameter, nm Surface charge, mV  Dose, ug/mL  Viability, %\n",
              "0             CuO         313.8                7.6        200.0        9.1000\n",
              "1             ZnO         114.7               28.8        200.0        9.5000\n",
              "2             ZnO         114.7               28.8        100.0       10.2000\n",
              "3             ZnO          69.4               28.8        100.0       11.0000\n",
              "4           Mn2O3         291.7              -46.1        200.0       11.3000\n",
              "..            ...           ...                ...          ...           ...\n",
              "569           ZnO         236.0              -41.6          1.0      127.4363\n",
              "570           ZnO         236.0              -41.6         10.0      116.3751\n",
              "571           ZnO         236.0              -41.6        100.0       40.8796\n",
              "572           ZnO         236.0              -41.6          0.1       86.8566\n",
              "573           ZnO         236.0              -41.6          1.0       84.4578\n",
              "\n",
              "[8837 rows x 5 columns]"
            ],
            "text/html": [
              "\n",
              "  <div id=\"df-fc194c09-948d-43f5-a9dd-51928d8774eb\">\n",
              "    <div class=\"colab-df-container\">\n",
              "      <div>\n",
              "<style scoped>\n",
              "    .dataframe tbody tr th:only-of-type {\n",
              "        vertical-align: middle;\n",
              "    }\n",
              "\n",
              "    .dataframe tbody tr th {\n",
              "        vertical-align: top;\n",
              "    }\n",
              "\n",
              "    .dataframe thead th {\n",
              "        text-align: right;\n",
              "    }\n",
              "</style>\n",
              "<table border=\"1\" class=\"dataframe\">\n",
              "  <thead>\n",
              "    <tr style=\"text-align: right;\">\n",
              "      <th></th>\n",
              "      <th>Material type</th>\n",
              "      <th>Diameter, nm</th>\n",
              "      <th>Surface charge, mV</th>\n",
              "      <th>Dose, ug/mL</th>\n",
              "      <th>Viability, %</th>\n",
              "    </tr>\n",
              "  </thead>\n",
              "  <tbody>\n",
              "    <tr>\n",
              "      <th>0</th>\n",
              "      <td>CuO</td>\n",
              "      <td>313.8</td>\n",
              "      <td>7.6</td>\n",
              "      <td>200.0</td>\n",
              "      <td>9.1000</td>\n",
              "    </tr>\n",
              "    <tr>\n",
              "      <th>1</th>\n",
              "      <td>ZnO</td>\n",
              "      <td>114.7</td>\n",
              "      <td>28.8</td>\n",
              "      <td>200.0</td>\n",
              "      <td>9.5000</td>\n",
              "    </tr>\n",
              "    <tr>\n",
              "      <th>2</th>\n",
              "      <td>ZnO</td>\n",
              "      <td>114.7</td>\n",
              "      <td>28.8</td>\n",
              "      <td>100.0</td>\n",
              "      <td>10.2000</td>\n",
              "    </tr>\n",
              "    <tr>\n",
              "      <th>3</th>\n",
              "      <td>ZnO</td>\n",
              "      <td>69.4</td>\n",
              "      <td>28.8</td>\n",
              "      <td>100.0</td>\n",
              "      <td>11.0000</td>\n",
              "    </tr>\n",
              "    <tr>\n",
              "      <th>4</th>\n",
              "      <td>Mn2O3</td>\n",
              "      <td>291.7</td>\n",
              "      <td>-46.1</td>\n",
              "      <td>200.0</td>\n",
              "      <td>11.3000</td>\n",
              "    </tr>\n",
              "    <tr>\n",
              "      <th>...</th>\n",
              "      <td>...</td>\n",
              "      <td>...</td>\n",
              "      <td>...</td>\n",
              "      <td>...</td>\n",
              "      <td>...</td>\n",
              "    </tr>\n",
              "    <tr>\n",
              "      <th>569</th>\n",
              "      <td>ZnO</td>\n",
              "      <td>236.0</td>\n",
              "      <td>-41.6</td>\n",
              "      <td>1.0</td>\n",
              "      <td>127.4363</td>\n",
              "    </tr>\n",
              "    <tr>\n",
              "      <th>570</th>\n",
              "      <td>ZnO</td>\n",
              "      <td>236.0</td>\n",
              "      <td>-41.6</td>\n",
              "      <td>10.0</td>\n",
              "      <td>116.3751</td>\n",
              "    </tr>\n",
              "    <tr>\n",
              "      <th>571</th>\n",
              "      <td>ZnO</td>\n",
              "      <td>236.0</td>\n",
              "      <td>-41.6</td>\n",
              "      <td>100.0</td>\n",
              "      <td>40.8796</td>\n",
              "    </tr>\n",
              "    <tr>\n",
              "      <th>572</th>\n",
              "      <td>ZnO</td>\n",
              "      <td>236.0</td>\n",
              "      <td>-41.6</td>\n",
              "      <td>0.1</td>\n",
              "      <td>86.8566</td>\n",
              "    </tr>\n",
              "    <tr>\n",
              "      <th>573</th>\n",
              "      <td>ZnO</td>\n",
              "      <td>236.0</td>\n",
              "      <td>-41.6</td>\n",
              "      <td>1.0</td>\n",
              "      <td>84.4578</td>\n",
              "    </tr>\n",
              "  </tbody>\n",
              "</table>\n",
              "<p>8837 rows × 5 columns</p>\n",
              "</div>\n",
              "      <button class=\"colab-df-convert\" onclick=\"convertToInteractive('df-fc194c09-948d-43f5-a9dd-51928d8774eb')\"\n",
              "              title=\"Convert this dataframe to an interactive table.\"\n",
              "              style=\"display:none;\">\n",
              "        \n",
              "  <svg xmlns=\"http://www.w3.org/2000/svg\" height=\"24px\"viewBox=\"0 0 24 24\"\n",
              "       width=\"24px\">\n",
              "    <path d=\"M0 0h24v24H0V0z\" fill=\"none\"/>\n",
              "    <path d=\"M18.56 5.44l.94 2.06.94-2.06 2.06-.94-2.06-.94-.94-2.06-.94 2.06-2.06.94zm-11 1L8.5 8.5l.94-2.06 2.06-.94-2.06-.94L8.5 2.5l-.94 2.06-2.06.94zm10 10l.94 2.06.94-2.06 2.06-.94-2.06-.94-.94-2.06-.94 2.06-2.06.94z\"/><path d=\"M17.41 7.96l-1.37-1.37c-.4-.4-.92-.59-1.43-.59-.52 0-1.04.2-1.43.59L10.3 9.45l-7.72 7.72c-.78.78-.78 2.05 0 2.83L4 21.41c.39.39.9.59 1.41.59.51 0 1.02-.2 1.41-.59l7.78-7.78 2.81-2.81c.8-.78.8-2.07 0-2.86zM5.41 20L4 18.59l7.72-7.72 1.47 1.35L5.41 20z\"/>\n",
              "  </svg>\n",
              "      </button>\n",
              "      \n",
              "  <style>\n",
              "    .colab-df-container {\n",
              "      display:flex;\n",
              "      flex-wrap:wrap;\n",
              "      gap: 12px;\n",
              "    }\n",
              "\n",
              "    .colab-df-convert {\n",
              "      background-color: #E8F0FE;\n",
              "      border: none;\n",
              "      border-radius: 50%;\n",
              "      cursor: pointer;\n",
              "      display: none;\n",
              "      fill: #1967D2;\n",
              "      height: 32px;\n",
              "      padding: 0 0 0 0;\n",
              "      width: 32px;\n",
              "    }\n",
              "\n",
              "    .colab-df-convert:hover {\n",
              "      background-color: #E2EBFA;\n",
              "      box-shadow: 0px 1px 2px rgba(60, 64, 67, 0.3), 0px 1px 3px 1px rgba(60, 64, 67, 0.15);\n",
              "      fill: #174EA6;\n",
              "    }\n",
              "\n",
              "    [theme=dark] .colab-df-convert {\n",
              "      background-color: #3B4455;\n",
              "      fill: #D2E3FC;\n",
              "    }\n",
              "\n",
              "    [theme=dark] .colab-df-convert:hover {\n",
              "      background-color: #434B5C;\n",
              "      box-shadow: 0px 1px 3px 1px rgba(0, 0, 0, 0.15);\n",
              "      filter: drop-shadow(0px 1px 2px rgba(0, 0, 0, 0.3));\n",
              "      fill: #FFFFFF;\n",
              "    }\n",
              "  </style>\n",
              "\n",
              "      <script>\n",
              "        const buttonEl =\n",
              "          document.querySelector('#df-fc194c09-948d-43f5-a9dd-51928d8774eb button.colab-df-convert');\n",
              "        buttonEl.style.display =\n",
              "          google.colab.kernel.accessAllowed ? 'block' : 'none';\n",
              "\n",
              "        async function convertToInteractive(key) {\n",
              "          const element = document.querySelector('#df-fc194c09-948d-43f5-a9dd-51928d8774eb');\n",
              "          const dataTable =\n",
              "            await google.colab.kernel.invokeFunction('convertToInteractive',\n",
              "                                                     [key], {});\n",
              "          if (!dataTable) return;\n",
              "\n",
              "          const docLinkHtml = 'Like what you see? Visit the ' +\n",
              "            '<a target=\"_blank\" href=https://colab.research.google.com/notebooks/data_table.ipynb>data table notebook</a>'\n",
              "            + ' to learn more about interactive tables.';\n",
              "          element.innerHTML = '';\n",
              "          dataTable['output_type'] = 'display_data';\n",
              "          await google.colab.output.renderOutput(dataTable, element);\n",
              "          const docLink = document.createElement('div');\n",
              "          docLink.innerHTML = docLinkHtml;\n",
              "          element.appendChild(docLink);\n",
              "        }\n",
              "      </script>\n",
              "    </div>\n",
              "  </div>\n",
              "  "
            ]
          },
          "metadata": {},
          "execution_count": 62
        }
      ],
      "source": [
        "df_Total = pd.concat([df1_cols,df2_cols, df3_cols,df4_cols,df5_cols])\n",
        "df_Total"
      ]
    },
    {
      "cell_type": "markdown",
      "source": [
        "# Работа с объединённой базой данных"
      ],
      "metadata": {
        "id": "g8filNZzB7iQ"
      }
    },
    {
      "cell_type": "markdown",
      "source": [
        "Посмотрим, какие наночастицы встречаются в объединённом датасете"
      ],
      "metadata": {
        "id": "jt3RYfbYCy3E"
      }
    },
    {
      "cell_type": "code",
      "source": [
        "df_Total['Material type'].unique()"
      ],
      "metadata": {
        "colab": {
          "base_uri": "https://localhost:8080/"
        },
        "id": "7obYx8J7C7z8",
        "outputId": "3a666b5e-a423-4376-bb38-199126811cb2"
      },
      "execution_count": null,
      "outputs": [
        {
          "output_type": "execute_result",
          "data": {
            "text/plain": [
              "array(['CuO', 'ZnO', 'Mn2O3', 'CoO', 'CeO2', 'Fe2O3', 'Gd2O3', 'HfO2',\n",
              "       'In2O3', 'La2O3', 'NiO', 'Sb2O3', 'SiO2', 'Al2O3', 'Se', 'CuS',\n",
              "       'Fe3O4', 'TiO2', 'Ti', 'Cr', 'Co', 'Co3O4', 'CdO', 'MnO', 'Bi',\n",
              "       'Mo', 'Pt', 'HPA', 'Cu2O', 'MgO', 'Au', 'Ag', 'Eudragit RL',\n",
              "       'PLGA', 'Polystyrene', 'Carbon Nanotubes', 'Carbon NP', 'Chitosan',\n",
              "       'QD', 'IronOxide', 'Dendrimer', 'Dendrmer', 'Alginate',\n",
              "       'PTFE-PMMA', 'MWCNT', 'HAP', 'Ni', 'SLN', 'EudragitRL', 'Carbon',\n",
              "       'ZrO2', 'C60', 'C70', 'SWCNT', 'Diamond', 'Graphite', 'IronOide',\n",
              "       'Ay', 'Cu', 'Ce O2', 'Bi2O3', nan, \"don't remember\"], dtype=object)"
            ]
          },
          "metadata": {},
          "execution_count": 63
        }
      ]
    },
    {
      "cell_type": "markdown",
      "source": [
        "Видно, что среди наночастиц есть эквивалентные, но алгоритм их распознаёт как разные из-за неверного написания. Также стоит заменить категорию \"don't remember\" на тип NaN. Переименуем единообразно и исправим ошибки в колонке \"Material type\""
      ],
      "metadata": {
        "id": "3izFH63pCt05"
      }
    },
    {
      "cell_type": "code",
      "source": [
        "df_Total = df_Total.replace({'Material type':{'Ay':'Au', \"don't remember\":np.NaN,'IronOxide':'Fe2O3',\n",
        "                                              'IronOide':'Fe3O4','Ce O2':'CeO2','Dendrmer':'Dendrimer',\n",
        "                                              'Eudragit RL':'EudragitRL', 'NaN': np.NaN}})"
      ],
      "metadata": {
        "id": "8OuanWuzCs9s"
      },
      "execution_count": null,
      "outputs": []
    },
    {
      "cell_type": "markdown",
      "source": [
        "Удалим повторяющиеся строки"
      ],
      "metadata": {
        "id": "P6OttaIPCBrv"
      }
    },
    {
      "cell_type": "code",
      "execution_count": null,
      "metadata": {
        "colab": {
          "base_uri": "https://localhost:8080/",
          "height": 424
        },
        "id": "sXZSiqtLe7ac",
        "outputId": "c77c7d22-f094-4111-cb4a-e681ddb121c9"
      },
      "outputs": [
        {
          "output_type": "execute_result",
          "data": {
            "text/plain": [
              "     Material type  Diameter, nm Surface charge, mV  Dose, ug/mL  Viability, %\n",
              "0              CuO        313.80                7.6        200.0      9.100000\n",
              "1              ZnO        114.70               28.8        200.0      9.500000\n",
              "2              ZnO        114.70               28.8        100.0     10.200000\n",
              "3              ZnO         69.40               28.8        100.0     11.000000\n",
              "4            Mn2O3        291.70              -46.1        200.0     11.300000\n",
              "...            ...           ...                ...          ...           ...\n",
              "1067           ZnO        236.00              -41.6          1.0     84.457800\n",
              "6            Al2O3        267.00               36.3         20.0     92.268000\n",
              "21             CuO        239.00                NaN          1.0     96.649500\n",
              "261           TiO2        707.00              -12.1        100.0     96.784502\n",
              "472            ZnO          6.87               31.3         25.0      2.292000\n",
              "\n",
              "[7639 rows x 5 columns]"
            ],
            "text/html": [
              "\n",
              "  <div id=\"df-c8a6bcfd-ef36-4011-b7a3-d8c0dcb693f5\">\n",
              "    <div class=\"colab-df-container\">\n",
              "      <div>\n",
              "<style scoped>\n",
              "    .dataframe tbody tr th:only-of-type {\n",
              "        vertical-align: middle;\n",
              "    }\n",
              "\n",
              "    .dataframe tbody tr th {\n",
              "        vertical-align: top;\n",
              "    }\n",
              "\n",
              "    .dataframe thead th {\n",
              "        text-align: right;\n",
              "    }\n",
              "</style>\n",
              "<table border=\"1\" class=\"dataframe\">\n",
              "  <thead>\n",
              "    <tr style=\"text-align: right;\">\n",
              "      <th></th>\n",
              "      <th>Material type</th>\n",
              "      <th>Diameter, nm</th>\n",
              "      <th>Surface charge, mV</th>\n",
              "      <th>Dose, ug/mL</th>\n",
              "      <th>Viability, %</th>\n",
              "    </tr>\n",
              "  </thead>\n",
              "  <tbody>\n",
              "    <tr>\n",
              "      <th>0</th>\n",
              "      <td>CuO</td>\n",
              "      <td>313.80</td>\n",
              "      <td>7.6</td>\n",
              "      <td>200.0</td>\n",
              "      <td>9.100000</td>\n",
              "    </tr>\n",
              "    <tr>\n",
              "      <th>1</th>\n",
              "      <td>ZnO</td>\n",
              "      <td>114.70</td>\n",
              "      <td>28.8</td>\n",
              "      <td>200.0</td>\n",
              "      <td>9.500000</td>\n",
              "    </tr>\n",
              "    <tr>\n",
              "      <th>2</th>\n",
              "      <td>ZnO</td>\n",
              "      <td>114.70</td>\n",
              "      <td>28.8</td>\n",
              "      <td>100.0</td>\n",
              "      <td>10.200000</td>\n",
              "    </tr>\n",
              "    <tr>\n",
              "      <th>3</th>\n",
              "      <td>ZnO</td>\n",
              "      <td>69.40</td>\n",
              "      <td>28.8</td>\n",
              "      <td>100.0</td>\n",
              "      <td>11.000000</td>\n",
              "    </tr>\n",
              "    <tr>\n",
              "      <th>4</th>\n",
              "      <td>Mn2O3</td>\n",
              "      <td>291.70</td>\n",
              "      <td>-46.1</td>\n",
              "      <td>200.0</td>\n",
              "      <td>11.300000</td>\n",
              "    </tr>\n",
              "    <tr>\n",
              "      <th>...</th>\n",
              "      <td>...</td>\n",
              "      <td>...</td>\n",
              "      <td>...</td>\n",
              "      <td>...</td>\n",
              "      <td>...</td>\n",
              "    </tr>\n",
              "    <tr>\n",
              "      <th>1067</th>\n",
              "      <td>ZnO</td>\n",
              "      <td>236.00</td>\n",
              "      <td>-41.6</td>\n",
              "      <td>1.0</td>\n",
              "      <td>84.457800</td>\n",
              "    </tr>\n",
              "    <tr>\n",
              "      <th>6</th>\n",
              "      <td>Al2O3</td>\n",
              "      <td>267.00</td>\n",
              "      <td>36.3</td>\n",
              "      <td>20.0</td>\n",
              "      <td>92.268000</td>\n",
              "    </tr>\n",
              "    <tr>\n",
              "      <th>21</th>\n",
              "      <td>CuO</td>\n",
              "      <td>239.00</td>\n",
              "      <td>NaN</td>\n",
              "      <td>1.0</td>\n",
              "      <td>96.649500</td>\n",
              "    </tr>\n",
              "    <tr>\n",
              "      <th>261</th>\n",
              "      <td>TiO2</td>\n",
              "      <td>707.00</td>\n",
              "      <td>-12.1</td>\n",
              "      <td>100.0</td>\n",
              "      <td>96.784502</td>\n",
              "    </tr>\n",
              "    <tr>\n",
              "      <th>472</th>\n",
              "      <td>ZnO</td>\n",
              "      <td>6.87</td>\n",
              "      <td>31.3</td>\n",
              "      <td>25.0</td>\n",
              "      <td>2.292000</td>\n",
              "    </tr>\n",
              "  </tbody>\n",
              "</table>\n",
              "<p>7639 rows × 5 columns</p>\n",
              "</div>\n",
              "      <button class=\"colab-df-convert\" onclick=\"convertToInteractive('df-c8a6bcfd-ef36-4011-b7a3-d8c0dcb693f5')\"\n",
              "              title=\"Convert this dataframe to an interactive table.\"\n",
              "              style=\"display:none;\">\n",
              "        \n",
              "  <svg xmlns=\"http://www.w3.org/2000/svg\" height=\"24px\"viewBox=\"0 0 24 24\"\n",
              "       width=\"24px\">\n",
              "    <path d=\"M0 0h24v24H0V0z\" fill=\"none\"/>\n",
              "    <path d=\"M18.56 5.44l.94 2.06.94-2.06 2.06-.94-2.06-.94-.94-2.06-.94 2.06-2.06.94zm-11 1L8.5 8.5l.94-2.06 2.06-.94-2.06-.94L8.5 2.5l-.94 2.06-2.06.94zm10 10l.94 2.06.94-2.06 2.06-.94-2.06-.94-.94-2.06-.94 2.06-2.06.94z\"/><path d=\"M17.41 7.96l-1.37-1.37c-.4-.4-.92-.59-1.43-.59-.52 0-1.04.2-1.43.59L10.3 9.45l-7.72 7.72c-.78.78-.78 2.05 0 2.83L4 21.41c.39.39.9.59 1.41.59.51 0 1.02-.2 1.41-.59l7.78-7.78 2.81-2.81c.8-.78.8-2.07 0-2.86zM5.41 20L4 18.59l7.72-7.72 1.47 1.35L5.41 20z\"/>\n",
              "  </svg>\n",
              "      </button>\n",
              "      \n",
              "  <style>\n",
              "    .colab-df-container {\n",
              "      display:flex;\n",
              "      flex-wrap:wrap;\n",
              "      gap: 12px;\n",
              "    }\n",
              "\n",
              "    .colab-df-convert {\n",
              "      background-color: #E8F0FE;\n",
              "      border: none;\n",
              "      border-radius: 50%;\n",
              "      cursor: pointer;\n",
              "      display: none;\n",
              "      fill: #1967D2;\n",
              "      height: 32px;\n",
              "      padding: 0 0 0 0;\n",
              "      width: 32px;\n",
              "    }\n",
              "\n",
              "    .colab-df-convert:hover {\n",
              "      background-color: #E2EBFA;\n",
              "      box-shadow: 0px 1px 2px rgba(60, 64, 67, 0.3), 0px 1px 3px 1px rgba(60, 64, 67, 0.15);\n",
              "      fill: #174EA6;\n",
              "    }\n",
              "\n",
              "    [theme=dark] .colab-df-convert {\n",
              "      background-color: #3B4455;\n",
              "      fill: #D2E3FC;\n",
              "    }\n",
              "\n",
              "    [theme=dark] .colab-df-convert:hover {\n",
              "      background-color: #434B5C;\n",
              "      box-shadow: 0px 1px 3px 1px rgba(0, 0, 0, 0.15);\n",
              "      filter: drop-shadow(0px 1px 2px rgba(0, 0, 0, 0.3));\n",
              "      fill: #FFFFFF;\n",
              "    }\n",
              "  </style>\n",
              "\n",
              "      <script>\n",
              "        const buttonEl =\n",
              "          document.querySelector('#df-c8a6bcfd-ef36-4011-b7a3-d8c0dcb693f5 button.colab-df-convert');\n",
              "        buttonEl.style.display =\n",
              "          google.colab.kernel.accessAllowed ? 'block' : 'none';\n",
              "\n",
              "        async function convertToInteractive(key) {\n",
              "          const element = document.querySelector('#df-c8a6bcfd-ef36-4011-b7a3-d8c0dcb693f5');\n",
              "          const dataTable =\n",
              "            await google.colab.kernel.invokeFunction('convertToInteractive',\n",
              "                                                     [key], {});\n",
              "          if (!dataTable) return;\n",
              "\n",
              "          const docLinkHtml = 'Like what you see? Visit the ' +\n",
              "            '<a target=\"_blank\" href=https://colab.research.google.com/notebooks/data_table.ipynb>data table notebook</a>'\n",
              "            + ' to learn more about interactive tables.';\n",
              "          element.innerHTML = '';\n",
              "          dataTable['output_type'] = 'display_data';\n",
              "          await google.colab.output.renderOutput(dataTable, element);\n",
              "          const docLink = document.createElement('div');\n",
              "          docLink.innerHTML = docLinkHtml;\n",
              "          element.appendChild(docLink);\n",
              "        }\n",
              "      </script>\n",
              "    </div>\n",
              "  </div>\n",
              "  "
            ]
          },
          "metadata": {},
          "execution_count": 65
        }
      ],
      "source": [
        "df_Total = df_Total.drop_duplicates()\n",
        "df_Total"
      ]
    },
    {
      "cell_type": "markdown",
      "source": [
        "Обновим порядок следования индексов"
      ],
      "metadata": {
        "id": "J_BjQp78CMO3"
      }
    },
    {
      "cell_type": "code",
      "execution_count": null,
      "metadata": {
        "colab": {
          "base_uri": "https://localhost:8080/",
          "height": 424
        },
        "id": "BE8FJV1Egf0h",
        "outputId": "f34b3f37-18d3-481c-c289-c2c53c12d668"
      },
      "outputs": [
        {
          "output_type": "execute_result",
          "data": {
            "text/plain": [
              "     Material type  Diameter, nm Surface charge, mV  Dose, ug/mL  Viability, %\n",
              "0              CuO        313.80                7.6        200.0      9.100000\n",
              "1              ZnO        114.70               28.8        200.0      9.500000\n",
              "2              ZnO        114.70               28.8        100.0     10.200000\n",
              "3              ZnO         69.40               28.8        100.0     11.000000\n",
              "4            Mn2O3        291.70              -46.1        200.0     11.300000\n",
              "...            ...           ...                ...          ...           ...\n",
              "7634           ZnO        236.00              -41.6          1.0     84.457800\n",
              "7635         Al2O3        267.00               36.3         20.0     92.268000\n",
              "7636           CuO        239.00                NaN          1.0     96.649500\n",
              "7637          TiO2        707.00              -12.1        100.0     96.784502\n",
              "7638           ZnO          6.87               31.3         25.0      2.292000\n",
              "\n",
              "[7639 rows x 5 columns]"
            ],
            "text/html": [
              "\n",
              "  <div id=\"df-9bc6294d-24a4-4f27-8315-2c602037bf4e\">\n",
              "    <div class=\"colab-df-container\">\n",
              "      <div>\n",
              "<style scoped>\n",
              "    .dataframe tbody tr th:only-of-type {\n",
              "        vertical-align: middle;\n",
              "    }\n",
              "\n",
              "    .dataframe tbody tr th {\n",
              "        vertical-align: top;\n",
              "    }\n",
              "\n",
              "    .dataframe thead th {\n",
              "        text-align: right;\n",
              "    }\n",
              "</style>\n",
              "<table border=\"1\" class=\"dataframe\">\n",
              "  <thead>\n",
              "    <tr style=\"text-align: right;\">\n",
              "      <th></th>\n",
              "      <th>Material type</th>\n",
              "      <th>Diameter, nm</th>\n",
              "      <th>Surface charge, mV</th>\n",
              "      <th>Dose, ug/mL</th>\n",
              "      <th>Viability, %</th>\n",
              "    </tr>\n",
              "  </thead>\n",
              "  <tbody>\n",
              "    <tr>\n",
              "      <th>0</th>\n",
              "      <td>CuO</td>\n",
              "      <td>313.80</td>\n",
              "      <td>7.6</td>\n",
              "      <td>200.0</td>\n",
              "      <td>9.100000</td>\n",
              "    </tr>\n",
              "    <tr>\n",
              "      <th>1</th>\n",
              "      <td>ZnO</td>\n",
              "      <td>114.70</td>\n",
              "      <td>28.8</td>\n",
              "      <td>200.0</td>\n",
              "      <td>9.500000</td>\n",
              "    </tr>\n",
              "    <tr>\n",
              "      <th>2</th>\n",
              "      <td>ZnO</td>\n",
              "      <td>114.70</td>\n",
              "      <td>28.8</td>\n",
              "      <td>100.0</td>\n",
              "      <td>10.200000</td>\n",
              "    </tr>\n",
              "    <tr>\n",
              "      <th>3</th>\n",
              "      <td>ZnO</td>\n",
              "      <td>69.40</td>\n",
              "      <td>28.8</td>\n",
              "      <td>100.0</td>\n",
              "      <td>11.000000</td>\n",
              "    </tr>\n",
              "    <tr>\n",
              "      <th>4</th>\n",
              "      <td>Mn2O3</td>\n",
              "      <td>291.70</td>\n",
              "      <td>-46.1</td>\n",
              "      <td>200.0</td>\n",
              "      <td>11.300000</td>\n",
              "    </tr>\n",
              "    <tr>\n",
              "      <th>...</th>\n",
              "      <td>...</td>\n",
              "      <td>...</td>\n",
              "      <td>...</td>\n",
              "      <td>...</td>\n",
              "      <td>...</td>\n",
              "    </tr>\n",
              "    <tr>\n",
              "      <th>7634</th>\n",
              "      <td>ZnO</td>\n",
              "      <td>236.00</td>\n",
              "      <td>-41.6</td>\n",
              "      <td>1.0</td>\n",
              "      <td>84.457800</td>\n",
              "    </tr>\n",
              "    <tr>\n",
              "      <th>7635</th>\n",
              "      <td>Al2O3</td>\n",
              "      <td>267.00</td>\n",
              "      <td>36.3</td>\n",
              "      <td>20.0</td>\n",
              "      <td>92.268000</td>\n",
              "    </tr>\n",
              "    <tr>\n",
              "      <th>7636</th>\n",
              "      <td>CuO</td>\n",
              "      <td>239.00</td>\n",
              "      <td>NaN</td>\n",
              "      <td>1.0</td>\n",
              "      <td>96.649500</td>\n",
              "    </tr>\n",
              "    <tr>\n",
              "      <th>7637</th>\n",
              "      <td>TiO2</td>\n",
              "      <td>707.00</td>\n",
              "      <td>-12.1</td>\n",
              "      <td>100.0</td>\n",
              "      <td>96.784502</td>\n",
              "    </tr>\n",
              "    <tr>\n",
              "      <th>7638</th>\n",
              "      <td>ZnO</td>\n",
              "      <td>6.87</td>\n",
              "      <td>31.3</td>\n",
              "      <td>25.0</td>\n",
              "      <td>2.292000</td>\n",
              "    </tr>\n",
              "  </tbody>\n",
              "</table>\n",
              "<p>7639 rows × 5 columns</p>\n",
              "</div>\n",
              "      <button class=\"colab-df-convert\" onclick=\"convertToInteractive('df-9bc6294d-24a4-4f27-8315-2c602037bf4e')\"\n",
              "              title=\"Convert this dataframe to an interactive table.\"\n",
              "              style=\"display:none;\">\n",
              "        \n",
              "  <svg xmlns=\"http://www.w3.org/2000/svg\" height=\"24px\"viewBox=\"0 0 24 24\"\n",
              "       width=\"24px\">\n",
              "    <path d=\"M0 0h24v24H0V0z\" fill=\"none\"/>\n",
              "    <path d=\"M18.56 5.44l.94 2.06.94-2.06 2.06-.94-2.06-.94-.94-2.06-.94 2.06-2.06.94zm-11 1L8.5 8.5l.94-2.06 2.06-.94-2.06-.94L8.5 2.5l-.94 2.06-2.06.94zm10 10l.94 2.06.94-2.06 2.06-.94-2.06-.94-.94-2.06-.94 2.06-2.06.94z\"/><path d=\"M17.41 7.96l-1.37-1.37c-.4-.4-.92-.59-1.43-.59-.52 0-1.04.2-1.43.59L10.3 9.45l-7.72 7.72c-.78.78-.78 2.05 0 2.83L4 21.41c.39.39.9.59 1.41.59.51 0 1.02-.2 1.41-.59l7.78-7.78 2.81-2.81c.8-.78.8-2.07 0-2.86zM5.41 20L4 18.59l7.72-7.72 1.47 1.35L5.41 20z\"/>\n",
              "  </svg>\n",
              "      </button>\n",
              "      \n",
              "  <style>\n",
              "    .colab-df-container {\n",
              "      display:flex;\n",
              "      flex-wrap:wrap;\n",
              "      gap: 12px;\n",
              "    }\n",
              "\n",
              "    .colab-df-convert {\n",
              "      background-color: #E8F0FE;\n",
              "      border: none;\n",
              "      border-radius: 50%;\n",
              "      cursor: pointer;\n",
              "      display: none;\n",
              "      fill: #1967D2;\n",
              "      height: 32px;\n",
              "      padding: 0 0 0 0;\n",
              "      width: 32px;\n",
              "    }\n",
              "\n",
              "    .colab-df-convert:hover {\n",
              "      background-color: #E2EBFA;\n",
              "      box-shadow: 0px 1px 2px rgba(60, 64, 67, 0.3), 0px 1px 3px 1px rgba(60, 64, 67, 0.15);\n",
              "      fill: #174EA6;\n",
              "    }\n",
              "\n",
              "    [theme=dark] .colab-df-convert {\n",
              "      background-color: #3B4455;\n",
              "      fill: #D2E3FC;\n",
              "    }\n",
              "\n",
              "    [theme=dark] .colab-df-convert:hover {\n",
              "      background-color: #434B5C;\n",
              "      box-shadow: 0px 1px 3px 1px rgba(0, 0, 0, 0.15);\n",
              "      filter: drop-shadow(0px 1px 2px rgba(0, 0, 0, 0.3));\n",
              "      fill: #FFFFFF;\n",
              "    }\n",
              "  </style>\n",
              "\n",
              "      <script>\n",
              "        const buttonEl =\n",
              "          document.querySelector('#df-9bc6294d-24a4-4f27-8315-2c602037bf4e button.colab-df-convert');\n",
              "        buttonEl.style.display =\n",
              "          google.colab.kernel.accessAllowed ? 'block' : 'none';\n",
              "\n",
              "        async function convertToInteractive(key) {\n",
              "          const element = document.querySelector('#df-9bc6294d-24a4-4f27-8315-2c602037bf4e');\n",
              "          const dataTable =\n",
              "            await google.colab.kernel.invokeFunction('convertToInteractive',\n",
              "                                                     [key], {});\n",
              "          if (!dataTable) return;\n",
              "\n",
              "          const docLinkHtml = 'Like what you see? Visit the ' +\n",
              "            '<a target=\"_blank\" href=https://colab.research.google.com/notebooks/data_table.ipynb>data table notebook</a>'\n",
              "            + ' to learn more about interactive tables.';\n",
              "          element.innerHTML = '';\n",
              "          dataTable['output_type'] = 'display_data';\n",
              "          await google.colab.output.renderOutput(dataTable, element);\n",
              "          const docLink = document.createElement('div');\n",
              "          docLink.innerHTML = docLinkHtml;\n",
              "          element.appendChild(docLink);\n",
              "        }\n",
              "      </script>\n",
              "    </div>\n",
              "  </div>\n",
              "  "
            ]
          },
          "metadata": {},
          "execution_count": 66
        }
      ],
      "source": [
        "df_Total = df_Total.reset_index()\n",
        "df_Total.pop('index')\n",
        "df_Total"
      ]
    },
    {
      "cell_type": "markdown",
      "source": [
        "## Уберём все NaN"
      ],
      "metadata": {
        "id": "EtJCn9okDqy8"
      }
    },
    {
      "cell_type": "markdown",
      "source": [
        "Оценим количество NaN во всё датасете"
      ],
      "metadata": {
        "id": "urWYOROYD12Y"
      }
    },
    {
      "cell_type": "code",
      "execution_count": null,
      "metadata": {
        "colab": {
          "base_uri": "https://localhost:8080/"
        },
        "id": "oowH4e26kUhO",
        "outputId": "9655d63d-83ee-474c-d54e-5929ae79e0d4"
      },
      "outputs": [
        {
          "output_type": "execute_result",
          "data": {
            "text/plain": [
              "Material type            3\n",
              "Diameter, nm          1759\n",
              "Surface charge, mV    3107\n",
              "Dose, ug/mL            213\n",
              "Viability, %             0\n",
              "dtype: int64"
            ]
          },
          "metadata": {},
          "execution_count": 67
        }
      ],
      "source": [
        "df_Total.isna().sum()"
      ]
    },
    {
      "cell_type": "markdown",
      "source": [
        "Поскольку нам не известно, какие наночастицы описаны среди трёх строк с NaN в колонке \"Material type\", то удалим эти строки целиком. Удаление всего трёх объектов не повлияет сильно на общую статистику"
      ],
      "metadata": {
        "id": "SA4E1UfUD7Hz"
      }
    },
    {
      "cell_type": "code",
      "execution_count": null,
      "metadata": {
        "colab": {
          "base_uri": "https://localhost:8080/"
        },
        "id": "2m8rAFGZk22n",
        "outputId": "d47d3d23-cf92-4392-9d1a-9fad7a19d6dc"
      },
      "outputs": [
        {
          "output_type": "execute_result",
          "data": {
            "text/plain": [
              "Material type            0\n",
              "Diameter, nm          1759\n",
              "Surface charge, mV    3106\n",
              "Dose, ug/mL            213\n",
              "Viability, %             0\n",
              "dtype: int64"
            ]
          },
          "metadata": {},
          "execution_count": 68
        }
      ],
      "source": [
        "df_Total = df_Total[df_Total['Material type'].notna()]\n",
        "df_Total.isna().sum()\n"
      ]
    },
    {
      "cell_type": "markdown",
      "source": [
        "Очистку оставшихся колонок от NaN проведём методом интерполяции. По сути, это альтернативу методу k-ближайших. В некоторых случаях мы присваивали nan наиближайшее не NaN значение, в других -- интерполирование линейной\\квадратичной функцией. Выбор метода интерполяции зависит от типа данных: если данные условно дискретные, например тип материала и характеристики материала, но мы прибегали к вариации метода k-ближайших. Если переменная типа continous, то мы применяли квадратичную интерполяцию (концентрации например). Чтобы не стоить отдельные модели, мы применяли различные варианты сортировок.\n",
        "\n",
        "Наночастицы одного материала и примерно одинаковых физических характеристик и концентрации должны давать примерно одинаковое значение Viability. \n",
        "\n",
        "Следовательно, проведём интерполяцию по соседним значениям Diameter и Surface charge, предварительно отсортировав датасет по возрастанию Viability и по Material type. Перед этим уберём не имеющие физического смысла значения Viability."
      ],
      "metadata": {
        "id": "4Lnta-azEiGO"
      }
    },
    {
      "cell_type": "code",
      "source": [
        "df_Total = df_Total.loc[df_Total[\"Viability, %\"] >= 0.].loc[df_Total[\"Viability, %\"] <= 200.]\n",
        "df_Total.sort_values(['Viability, %'])"
      ],
      "metadata": {
        "colab": {
          "base_uri": "https://localhost:8080/",
          "height": 424
        },
        "id": "0ZD5Xmo8HUUT",
        "outputId": "1e391904-4586-40a2-d185-fb23d70dfd3b"
      },
      "execution_count": null,
      "outputs": [
        {
          "output_type": "execute_result",
          "data": {
            "text/plain": [
              "     Material type  Diameter, nm Surface charge, mV   Dose, ug/mL  \\\n",
              "2450            Ag         28.41             -33.33  3.555514e-04   \n",
              "1888          Cu2O         88.50                NaN  3.510280e-05   \n",
              "6537            Ag         28.41             -33.33  2.000000e+02   \n",
              "1928          Cu2O         88.50                NaN  3.699833e-04   \n",
              "6538            Ag         28.41             -33.33  2.500000e+02   \n",
              "...            ...           ...                ...           ...   \n",
              "3414     Dendrimer           NaN                NaN  9.239100e+00   \n",
              "841          Fe3O4        145.80               17.7  5.651580e-07   \n",
              "3415     Dendrimer           NaN                NaN  1.847820e+01   \n",
              "4769         Fe2O3           NaN                NaN  1.000000e+01   \n",
              "6862           HAP           NaN                NaN  1.000000e+03   \n",
              "\n",
              "      Viability, %  \n",
              "2450        0.0000  \n",
              "1888        0.0000  \n",
              "6537        0.0000  \n",
              "1928        0.0000  \n",
              "6538        0.0000  \n",
              "...            ...  \n",
              "3414      173.9500  \n",
              "841       179.0393  \n",
              "3415      180.6700  \n",
              "4769      184.8200  \n",
              "6862      196.6800  \n",
              "\n",
              "[7601 rows x 5 columns]"
            ],
            "text/html": [
              "\n",
              "  <div id=\"df-904442a3-4cea-431a-8353-a171269b59ce\">\n",
              "    <div class=\"colab-df-container\">\n",
              "      <div>\n",
              "<style scoped>\n",
              "    .dataframe tbody tr th:only-of-type {\n",
              "        vertical-align: middle;\n",
              "    }\n",
              "\n",
              "    .dataframe tbody tr th {\n",
              "        vertical-align: top;\n",
              "    }\n",
              "\n",
              "    .dataframe thead th {\n",
              "        text-align: right;\n",
              "    }\n",
              "</style>\n",
              "<table border=\"1\" class=\"dataframe\">\n",
              "  <thead>\n",
              "    <tr style=\"text-align: right;\">\n",
              "      <th></th>\n",
              "      <th>Material type</th>\n",
              "      <th>Diameter, nm</th>\n",
              "      <th>Surface charge, mV</th>\n",
              "      <th>Dose, ug/mL</th>\n",
              "      <th>Viability, %</th>\n",
              "    </tr>\n",
              "  </thead>\n",
              "  <tbody>\n",
              "    <tr>\n",
              "      <th>2450</th>\n",
              "      <td>Ag</td>\n",
              "      <td>28.41</td>\n",
              "      <td>-33.33</td>\n",
              "      <td>3.555514e-04</td>\n",
              "      <td>0.0000</td>\n",
              "    </tr>\n",
              "    <tr>\n",
              "      <th>1888</th>\n",
              "      <td>Cu2O</td>\n",
              "      <td>88.50</td>\n",
              "      <td>NaN</td>\n",
              "      <td>3.510280e-05</td>\n",
              "      <td>0.0000</td>\n",
              "    </tr>\n",
              "    <tr>\n",
              "      <th>6537</th>\n",
              "      <td>Ag</td>\n",
              "      <td>28.41</td>\n",
              "      <td>-33.33</td>\n",
              "      <td>2.000000e+02</td>\n",
              "      <td>0.0000</td>\n",
              "    </tr>\n",
              "    <tr>\n",
              "      <th>1928</th>\n",
              "      <td>Cu2O</td>\n",
              "      <td>88.50</td>\n",
              "      <td>NaN</td>\n",
              "      <td>3.699833e-04</td>\n",
              "      <td>0.0000</td>\n",
              "    </tr>\n",
              "    <tr>\n",
              "      <th>6538</th>\n",
              "      <td>Ag</td>\n",
              "      <td>28.41</td>\n",
              "      <td>-33.33</td>\n",
              "      <td>2.500000e+02</td>\n",
              "      <td>0.0000</td>\n",
              "    </tr>\n",
              "    <tr>\n",
              "      <th>...</th>\n",
              "      <td>...</td>\n",
              "      <td>...</td>\n",
              "      <td>...</td>\n",
              "      <td>...</td>\n",
              "      <td>...</td>\n",
              "    </tr>\n",
              "    <tr>\n",
              "      <th>3414</th>\n",
              "      <td>Dendrimer</td>\n",
              "      <td>NaN</td>\n",
              "      <td>NaN</td>\n",
              "      <td>9.239100e+00</td>\n",
              "      <td>173.9500</td>\n",
              "    </tr>\n",
              "    <tr>\n",
              "      <th>841</th>\n",
              "      <td>Fe3O4</td>\n",
              "      <td>145.80</td>\n",
              "      <td>17.7</td>\n",
              "      <td>5.651580e-07</td>\n",
              "      <td>179.0393</td>\n",
              "    </tr>\n",
              "    <tr>\n",
              "      <th>3415</th>\n",
              "      <td>Dendrimer</td>\n",
              "      <td>NaN</td>\n",
              "      <td>NaN</td>\n",
              "      <td>1.847820e+01</td>\n",
              "      <td>180.6700</td>\n",
              "    </tr>\n",
              "    <tr>\n",
              "      <th>4769</th>\n",
              "      <td>Fe2O3</td>\n",
              "      <td>NaN</td>\n",
              "      <td>NaN</td>\n",
              "      <td>1.000000e+01</td>\n",
              "      <td>184.8200</td>\n",
              "    </tr>\n",
              "    <tr>\n",
              "      <th>6862</th>\n",
              "      <td>HAP</td>\n",
              "      <td>NaN</td>\n",
              "      <td>NaN</td>\n",
              "      <td>1.000000e+03</td>\n",
              "      <td>196.6800</td>\n",
              "    </tr>\n",
              "  </tbody>\n",
              "</table>\n",
              "<p>7601 rows × 5 columns</p>\n",
              "</div>\n",
              "      <button class=\"colab-df-convert\" onclick=\"convertToInteractive('df-904442a3-4cea-431a-8353-a171269b59ce')\"\n",
              "              title=\"Convert this dataframe to an interactive table.\"\n",
              "              style=\"display:none;\">\n",
              "        \n",
              "  <svg xmlns=\"http://www.w3.org/2000/svg\" height=\"24px\"viewBox=\"0 0 24 24\"\n",
              "       width=\"24px\">\n",
              "    <path d=\"M0 0h24v24H0V0z\" fill=\"none\"/>\n",
              "    <path d=\"M18.56 5.44l.94 2.06.94-2.06 2.06-.94-2.06-.94-.94-2.06-.94 2.06-2.06.94zm-11 1L8.5 8.5l.94-2.06 2.06-.94-2.06-.94L8.5 2.5l-.94 2.06-2.06.94zm10 10l.94 2.06.94-2.06 2.06-.94-2.06-.94-.94-2.06-.94 2.06-2.06.94z\"/><path d=\"M17.41 7.96l-1.37-1.37c-.4-.4-.92-.59-1.43-.59-.52 0-1.04.2-1.43.59L10.3 9.45l-7.72 7.72c-.78.78-.78 2.05 0 2.83L4 21.41c.39.39.9.59 1.41.59.51 0 1.02-.2 1.41-.59l7.78-7.78 2.81-2.81c.8-.78.8-2.07 0-2.86zM5.41 20L4 18.59l7.72-7.72 1.47 1.35L5.41 20z\"/>\n",
              "  </svg>\n",
              "      </button>\n",
              "      \n",
              "  <style>\n",
              "    .colab-df-container {\n",
              "      display:flex;\n",
              "      flex-wrap:wrap;\n",
              "      gap: 12px;\n",
              "    }\n",
              "\n",
              "    .colab-df-convert {\n",
              "      background-color: #E8F0FE;\n",
              "      border: none;\n",
              "      border-radius: 50%;\n",
              "      cursor: pointer;\n",
              "      display: none;\n",
              "      fill: #1967D2;\n",
              "      height: 32px;\n",
              "      padding: 0 0 0 0;\n",
              "      width: 32px;\n",
              "    }\n",
              "\n",
              "    .colab-df-convert:hover {\n",
              "      background-color: #E2EBFA;\n",
              "      box-shadow: 0px 1px 2px rgba(60, 64, 67, 0.3), 0px 1px 3px 1px rgba(60, 64, 67, 0.15);\n",
              "      fill: #174EA6;\n",
              "    }\n",
              "\n",
              "    [theme=dark] .colab-df-convert {\n",
              "      background-color: #3B4455;\n",
              "      fill: #D2E3FC;\n",
              "    }\n",
              "\n",
              "    [theme=dark] .colab-df-convert:hover {\n",
              "      background-color: #434B5C;\n",
              "      box-shadow: 0px 1px 3px 1px rgba(0, 0, 0, 0.15);\n",
              "      filter: drop-shadow(0px 1px 2px rgba(0, 0, 0, 0.3));\n",
              "      fill: #FFFFFF;\n",
              "    }\n",
              "  </style>\n",
              "\n",
              "      <script>\n",
              "        const buttonEl =\n",
              "          document.querySelector('#df-904442a3-4cea-431a-8353-a171269b59ce button.colab-df-convert');\n",
              "        buttonEl.style.display =\n",
              "          google.colab.kernel.accessAllowed ? 'block' : 'none';\n",
              "\n",
              "        async function convertToInteractive(key) {\n",
              "          const element = document.querySelector('#df-904442a3-4cea-431a-8353-a171269b59ce');\n",
              "          const dataTable =\n",
              "            await google.colab.kernel.invokeFunction('convertToInteractive',\n",
              "                                                     [key], {});\n",
              "          if (!dataTable) return;\n",
              "\n",
              "          const docLinkHtml = 'Like what you see? Visit the ' +\n",
              "            '<a target=\"_blank\" href=https://colab.research.google.com/notebooks/data_table.ipynb>data table notebook</a>'\n",
              "            + ' to learn more about interactive tables.';\n",
              "          element.innerHTML = '';\n",
              "          dataTable['output_type'] = 'display_data';\n",
              "          await google.colab.output.renderOutput(dataTable, element);\n",
              "          const docLink = document.createElement('div');\n",
              "          docLink.innerHTML = docLinkHtml;\n",
              "          element.appendChild(docLink);\n",
              "        }\n",
              "      </script>\n",
              "    </div>\n",
              "  </div>\n",
              "  "
            ]
          },
          "metadata": {},
          "execution_count": 69
        }
      ]
    },
    {
      "cell_type": "markdown",
      "source": [
        "*Мы* ограничили Viability сверху числом 200, учтя, что в относительно благоприятной среде клетки способны делиться. Таким образом, величина Viability > 100 % оказывается физически обоснованной. "
      ],
      "metadata": {
        "id": "ujx3l6pEIuLn"
      }
    },
    {
      "cell_type": "code",
      "source": [
        "df_Total = df_Total.sort_values(['Material type', 'Viability, %'], ascending=[True, True])\n",
        "df_Total"
      ],
      "metadata": {
        "colab": {
          "base_uri": "https://localhost:8080/",
          "height": 424
        },
        "id": "iG3H4m-VdrIf",
        "outputId": "eee1db68-476a-4d70-d5b2-b00c91b18dbf"
      },
      "execution_count": null,
      "outputs": [
        {
          "output_type": "execute_result",
          "data": {
            "text/plain": [
              "     Material type  Diameter, nm Surface charge, mV  Dose, ug/mL  Viability, %\n",
              "2399            Ag        100.00                NaN     0.000088         0.000\n",
              "2446            Ag         28.41             -33.33     0.000213         0.000\n",
              "2450            Ag         28.41             -33.33     0.000356         0.000\n",
              "6537            Ag         28.41             -33.33   200.000000         0.000\n",
              "6538            Ag         28.41             -33.33   250.000000         0.000\n",
              "...            ...           ...                ...          ...           ...\n",
              "5991          ZrO2         39.00               11.8   100.000000        77.126\n",
              "5990          ZrO2         39.00               11.8    50.000000        81.085\n",
              "5989          ZrO2         39.00               11.8    25.000000        88.710\n",
              "5976          ZrO2         10.00              -45.5    50.000000        93.610\n",
              "5988          ZrO2         39.00               11.8    12.500000        96.921\n",
              "\n",
              "[7601 rows x 5 columns]"
            ],
            "text/html": [
              "\n",
              "  <div id=\"df-8e332297-a0b2-457c-aa15-dea9c80f19ad\">\n",
              "    <div class=\"colab-df-container\">\n",
              "      <div>\n",
              "<style scoped>\n",
              "    .dataframe tbody tr th:only-of-type {\n",
              "        vertical-align: middle;\n",
              "    }\n",
              "\n",
              "    .dataframe tbody tr th {\n",
              "        vertical-align: top;\n",
              "    }\n",
              "\n",
              "    .dataframe thead th {\n",
              "        text-align: right;\n",
              "    }\n",
              "</style>\n",
              "<table border=\"1\" class=\"dataframe\">\n",
              "  <thead>\n",
              "    <tr style=\"text-align: right;\">\n",
              "      <th></th>\n",
              "      <th>Material type</th>\n",
              "      <th>Diameter, nm</th>\n",
              "      <th>Surface charge, mV</th>\n",
              "      <th>Dose, ug/mL</th>\n",
              "      <th>Viability, %</th>\n",
              "    </tr>\n",
              "  </thead>\n",
              "  <tbody>\n",
              "    <tr>\n",
              "      <th>2399</th>\n",
              "      <td>Ag</td>\n",
              "      <td>100.00</td>\n",
              "      <td>NaN</td>\n",
              "      <td>0.000088</td>\n",
              "      <td>0.000</td>\n",
              "    </tr>\n",
              "    <tr>\n",
              "      <th>2446</th>\n",
              "      <td>Ag</td>\n",
              "      <td>28.41</td>\n",
              "      <td>-33.33</td>\n",
              "      <td>0.000213</td>\n",
              "      <td>0.000</td>\n",
              "    </tr>\n",
              "    <tr>\n",
              "      <th>2450</th>\n",
              "      <td>Ag</td>\n",
              "      <td>28.41</td>\n",
              "      <td>-33.33</td>\n",
              "      <td>0.000356</td>\n",
              "      <td>0.000</td>\n",
              "    </tr>\n",
              "    <tr>\n",
              "      <th>6537</th>\n",
              "      <td>Ag</td>\n",
              "      <td>28.41</td>\n",
              "      <td>-33.33</td>\n",
              "      <td>200.000000</td>\n",
              "      <td>0.000</td>\n",
              "    </tr>\n",
              "    <tr>\n",
              "      <th>6538</th>\n",
              "      <td>Ag</td>\n",
              "      <td>28.41</td>\n",
              "      <td>-33.33</td>\n",
              "      <td>250.000000</td>\n",
              "      <td>0.000</td>\n",
              "    </tr>\n",
              "    <tr>\n",
              "      <th>...</th>\n",
              "      <td>...</td>\n",
              "      <td>...</td>\n",
              "      <td>...</td>\n",
              "      <td>...</td>\n",
              "      <td>...</td>\n",
              "    </tr>\n",
              "    <tr>\n",
              "      <th>5991</th>\n",
              "      <td>ZrO2</td>\n",
              "      <td>39.00</td>\n",
              "      <td>11.8</td>\n",
              "      <td>100.000000</td>\n",
              "      <td>77.126</td>\n",
              "    </tr>\n",
              "    <tr>\n",
              "      <th>5990</th>\n",
              "      <td>ZrO2</td>\n",
              "      <td>39.00</td>\n",
              "      <td>11.8</td>\n",
              "      <td>50.000000</td>\n",
              "      <td>81.085</td>\n",
              "    </tr>\n",
              "    <tr>\n",
              "      <th>5989</th>\n",
              "      <td>ZrO2</td>\n",
              "      <td>39.00</td>\n",
              "      <td>11.8</td>\n",
              "      <td>25.000000</td>\n",
              "      <td>88.710</td>\n",
              "    </tr>\n",
              "    <tr>\n",
              "      <th>5976</th>\n",
              "      <td>ZrO2</td>\n",
              "      <td>10.00</td>\n",
              "      <td>-45.5</td>\n",
              "      <td>50.000000</td>\n",
              "      <td>93.610</td>\n",
              "    </tr>\n",
              "    <tr>\n",
              "      <th>5988</th>\n",
              "      <td>ZrO2</td>\n",
              "      <td>39.00</td>\n",
              "      <td>11.8</td>\n",
              "      <td>12.500000</td>\n",
              "      <td>96.921</td>\n",
              "    </tr>\n",
              "  </tbody>\n",
              "</table>\n",
              "<p>7601 rows × 5 columns</p>\n",
              "</div>\n",
              "      <button class=\"colab-df-convert\" onclick=\"convertToInteractive('df-8e332297-a0b2-457c-aa15-dea9c80f19ad')\"\n",
              "              title=\"Convert this dataframe to an interactive table.\"\n",
              "              style=\"display:none;\">\n",
              "        \n",
              "  <svg xmlns=\"http://www.w3.org/2000/svg\" height=\"24px\"viewBox=\"0 0 24 24\"\n",
              "       width=\"24px\">\n",
              "    <path d=\"M0 0h24v24H0V0z\" fill=\"none\"/>\n",
              "    <path d=\"M18.56 5.44l.94 2.06.94-2.06 2.06-.94-2.06-.94-.94-2.06-.94 2.06-2.06.94zm-11 1L8.5 8.5l.94-2.06 2.06-.94-2.06-.94L8.5 2.5l-.94 2.06-2.06.94zm10 10l.94 2.06.94-2.06 2.06-.94-2.06-.94-.94-2.06-.94 2.06-2.06.94z\"/><path d=\"M17.41 7.96l-1.37-1.37c-.4-.4-.92-.59-1.43-.59-.52 0-1.04.2-1.43.59L10.3 9.45l-7.72 7.72c-.78.78-.78 2.05 0 2.83L4 21.41c.39.39.9.59 1.41.59.51 0 1.02-.2 1.41-.59l7.78-7.78 2.81-2.81c.8-.78.8-2.07 0-2.86zM5.41 20L4 18.59l7.72-7.72 1.47 1.35L5.41 20z\"/>\n",
              "  </svg>\n",
              "      </button>\n",
              "      \n",
              "  <style>\n",
              "    .colab-df-container {\n",
              "      display:flex;\n",
              "      flex-wrap:wrap;\n",
              "      gap: 12px;\n",
              "    }\n",
              "\n",
              "    .colab-df-convert {\n",
              "      background-color: #E8F0FE;\n",
              "      border: none;\n",
              "      border-radius: 50%;\n",
              "      cursor: pointer;\n",
              "      display: none;\n",
              "      fill: #1967D2;\n",
              "      height: 32px;\n",
              "      padding: 0 0 0 0;\n",
              "      width: 32px;\n",
              "    }\n",
              "\n",
              "    .colab-df-convert:hover {\n",
              "      background-color: #E2EBFA;\n",
              "      box-shadow: 0px 1px 2px rgba(60, 64, 67, 0.3), 0px 1px 3px 1px rgba(60, 64, 67, 0.15);\n",
              "      fill: #174EA6;\n",
              "    }\n",
              "\n",
              "    [theme=dark] .colab-df-convert {\n",
              "      background-color: #3B4455;\n",
              "      fill: #D2E3FC;\n",
              "    }\n",
              "\n",
              "    [theme=dark] .colab-df-convert:hover {\n",
              "      background-color: #434B5C;\n",
              "      box-shadow: 0px 1px 3px 1px rgba(0, 0, 0, 0.15);\n",
              "      filter: drop-shadow(0px 1px 2px rgba(0, 0, 0, 0.3));\n",
              "      fill: #FFFFFF;\n",
              "    }\n",
              "  </style>\n",
              "\n",
              "      <script>\n",
              "        const buttonEl =\n",
              "          document.querySelector('#df-8e332297-a0b2-457c-aa15-dea9c80f19ad button.colab-df-convert');\n",
              "        buttonEl.style.display =\n",
              "          google.colab.kernel.accessAllowed ? 'block' : 'none';\n",
              "\n",
              "        async function convertToInteractive(key) {\n",
              "          const element = document.querySelector('#df-8e332297-a0b2-457c-aa15-dea9c80f19ad');\n",
              "          const dataTable =\n",
              "            await google.colab.kernel.invokeFunction('convertToInteractive',\n",
              "                                                     [key], {});\n",
              "          if (!dataTable) return;\n",
              "\n",
              "          const docLinkHtml = 'Like what you see? Visit the ' +\n",
              "            '<a target=\"_blank\" href=https://colab.research.google.com/notebooks/data_table.ipynb>data table notebook</a>'\n",
              "            + ' to learn more about interactive tables.';\n",
              "          element.innerHTML = '';\n",
              "          dataTable['output_type'] = 'display_data';\n",
              "          await google.colab.output.renderOutput(dataTable, element);\n",
              "          const docLink = document.createElement('div');\n",
              "          docLink.innerHTML = docLinkHtml;\n",
              "          element.appendChild(docLink);\n",
              "        }\n",
              "      </script>\n",
              "    </div>\n",
              "  </div>\n",
              "  "
            ]
          },
          "metadata": {},
          "execution_count": 70
        }
      ]
    },
    {
      "cell_type": "markdown",
      "source": [
        "Очистим колонку Diameter от NaN применяя интерполяцию по методу \"nearest\" (а-ля k-ближайшее)"
      ],
      "metadata": {
        "id": "qPTwbqCAJXyc"
      }
    },
    {
      "cell_type": "code",
      "source": [
        "df_Total['Diameter, nm'] = df_Total.sort_values(['Material type', 'Viability, %'], ascending=[True, True])['Diameter, nm'].interpolate(method='nearest')\n",
        "df_Total.isna().sum()"
      ],
      "metadata": {
        "id": "Va-T_rX53zMo",
        "colab": {
          "base_uri": "https://localhost:8080/"
        },
        "outputId": "2820cea9-7406-41c4-bca1-9fc99222120f"
      },
      "execution_count": null,
      "outputs": [
        {
          "output_type": "execute_result",
          "data": {
            "text/plain": [
              "Material type            0\n",
              "Diameter, nm             0\n",
              "Surface charge, mV    3087\n",
              "Dose, ug/mL            213\n",
              "Viability, %             0\n",
              "dtype: int64"
            ]
          },
          "metadata": {},
          "execution_count": 71
        }
      ]
    },
    {
      "cell_type": "markdown",
      "source": [
        "Очистим колонку Surface charge от NaN. Для этого понадобиться исправить строковое значение 15О на численное 150. Также через nearest."
      ],
      "metadata": {
        "id": "LZWRjkl5JmAX"
      }
    },
    {
      "cell_type": "code",
      "source": [
        "df_Total['Surface charge, mV'].replace('15O', 150, inplace=True)\n",
        "df_Total['Surface charge, mV'].astype(float)\n",
        "df_Total['Surface charge, mV'] = df_Total['Surface charge, mV'].interpolate(method='nearest')\n",
        "df_Total['Surface charge, mV'][2399] = -33.33\n",
        "df_Total.isna().sum()"
      ],
      "metadata": {
        "colab": {
          "base_uri": "https://localhost:8080/"
        },
        "id": "CpvvLO96fn5v",
        "outputId": "c8809be3-1fab-4841-e869-50b973de0080"
      },
      "execution_count": null,
      "outputs": [
        {
          "output_type": "stream",
          "name": "stderr",
          "text": [
            "/usr/local/lib/python3.7/dist-packages/ipykernel_launcher.py:4: SettingWithCopyWarning: \n",
            "A value is trying to be set on a copy of a slice from a DataFrame\n",
            "\n",
            "See the caveats in the documentation: https://pandas.pydata.org/pandas-docs/stable/user_guide/indexing.html#returning-a-view-versus-a-copy\n",
            "  after removing the cwd from sys.path.\n"
          ]
        },
        {
          "output_type": "execute_result",
          "data": {
            "text/plain": [
              "Material type           0\n",
              "Diameter, nm            0\n",
              "Surface charge, mV      0\n",
              "Dose, ug/mL           213\n",
              "Viability, %            0\n",
              "dtype: int64"
            ]
          },
          "metadata": {},
          "execution_count": 72
        }
      ]
    },
    {
      "cell_type": "markdown",
      "source": [
        "Очистим колонку Dose от NaN. Интерполяция здесь идет полиномом второго порядка. Полагаем, что можно было и первого, но интерполяция полиномом второго порядка \"плавнее\". Мы заранее отсортировали данные так, чтобы не было большого разброса концетраций (в порядке возрастания). "
      ],
      "metadata": {
        "id": "BJe6bo1OKb93"
      }
    },
    {
      "cell_type": "code",
      "source": [
        "df_Total['Dose, ug/mL'] = df_Total['Dose, ug/mL'].interpolate(method='polynomial', order=2)\n",
        "df_Total.isna().sum()"
      ],
      "metadata": {
        "colab": {
          "base_uri": "https://localhost:8080/"
        },
        "id": "GBhUFRcbY1Vr",
        "outputId": "dbd0a16a-3514-4329-a577-d423774c040d"
      },
      "execution_count": null,
      "outputs": [
        {
          "output_type": "execute_result",
          "data": {
            "text/plain": [
              "Material type         0\n",
              "Diameter, nm          0\n",
              "Surface charge, mV    0\n",
              "Dose, ug/mL           0\n",
              "Viability, %          0\n",
              "dtype: int64"
            ]
          },
          "metadata": {},
          "execution_count": 73
        }
      ]
    },
    {
      "cell_type": "markdown",
      "source": [
        "Обновим порядок следования индексов"
      ],
      "metadata": {
        "id": "BkEJvCalKznM"
      }
    },
    {
      "cell_type": "code",
      "source": [
        "df_Total = df_Total.reset_index()\n",
        "df_Total.pop('index')\n",
        "df_Total"
      ],
      "metadata": {
        "colab": {
          "base_uri": "https://localhost:8080/",
          "height": 424
        },
        "id": "6r-nAk41aqg1",
        "outputId": "13121923-b8f2-4dd0-e517-4f582873a435"
      },
      "execution_count": null,
      "outputs": [
        {
          "output_type": "execute_result",
          "data": {
            "text/plain": [
              "     Material type  Diameter, nm  Surface charge, mV  Dose, ug/mL  \\\n",
              "0               Ag        100.00              -33.33     0.000088   \n",
              "1               Ag         28.41              -33.33     0.000213   \n",
              "2               Ag         28.41              -33.33     0.000356   \n",
              "3               Ag         28.41              -33.33   200.000000   \n",
              "4               Ag         28.41              -33.33   250.000000   \n",
              "...            ...           ...                 ...          ...   \n",
              "7596          ZrO2         39.00               11.80   100.000000   \n",
              "7597          ZrO2         39.00               11.80    50.000000   \n",
              "7598          ZrO2         39.00               11.80    25.000000   \n",
              "7599          ZrO2         10.00              -45.50    50.000000   \n",
              "7600          ZrO2         39.00               11.80    12.500000   \n",
              "\n",
              "      Viability, %  \n",
              "0            0.000  \n",
              "1            0.000  \n",
              "2            0.000  \n",
              "3            0.000  \n",
              "4            0.000  \n",
              "...            ...  \n",
              "7596        77.126  \n",
              "7597        81.085  \n",
              "7598        88.710  \n",
              "7599        93.610  \n",
              "7600        96.921  \n",
              "\n",
              "[7601 rows x 5 columns]"
            ],
            "text/html": [
              "\n",
              "  <div id=\"df-9ab99850-a691-4bc2-b00a-ea563da25ded\">\n",
              "    <div class=\"colab-df-container\">\n",
              "      <div>\n",
              "<style scoped>\n",
              "    .dataframe tbody tr th:only-of-type {\n",
              "        vertical-align: middle;\n",
              "    }\n",
              "\n",
              "    .dataframe tbody tr th {\n",
              "        vertical-align: top;\n",
              "    }\n",
              "\n",
              "    .dataframe thead th {\n",
              "        text-align: right;\n",
              "    }\n",
              "</style>\n",
              "<table border=\"1\" class=\"dataframe\">\n",
              "  <thead>\n",
              "    <tr style=\"text-align: right;\">\n",
              "      <th></th>\n",
              "      <th>Material type</th>\n",
              "      <th>Diameter, nm</th>\n",
              "      <th>Surface charge, mV</th>\n",
              "      <th>Dose, ug/mL</th>\n",
              "      <th>Viability, %</th>\n",
              "    </tr>\n",
              "  </thead>\n",
              "  <tbody>\n",
              "    <tr>\n",
              "      <th>0</th>\n",
              "      <td>Ag</td>\n",
              "      <td>100.00</td>\n",
              "      <td>-33.33</td>\n",
              "      <td>0.000088</td>\n",
              "      <td>0.000</td>\n",
              "    </tr>\n",
              "    <tr>\n",
              "      <th>1</th>\n",
              "      <td>Ag</td>\n",
              "      <td>28.41</td>\n",
              "      <td>-33.33</td>\n",
              "      <td>0.000213</td>\n",
              "      <td>0.000</td>\n",
              "    </tr>\n",
              "    <tr>\n",
              "      <th>2</th>\n",
              "      <td>Ag</td>\n",
              "      <td>28.41</td>\n",
              "      <td>-33.33</td>\n",
              "      <td>0.000356</td>\n",
              "      <td>0.000</td>\n",
              "    </tr>\n",
              "    <tr>\n",
              "      <th>3</th>\n",
              "      <td>Ag</td>\n",
              "      <td>28.41</td>\n",
              "      <td>-33.33</td>\n",
              "      <td>200.000000</td>\n",
              "      <td>0.000</td>\n",
              "    </tr>\n",
              "    <tr>\n",
              "      <th>4</th>\n",
              "      <td>Ag</td>\n",
              "      <td>28.41</td>\n",
              "      <td>-33.33</td>\n",
              "      <td>250.000000</td>\n",
              "      <td>0.000</td>\n",
              "    </tr>\n",
              "    <tr>\n",
              "      <th>...</th>\n",
              "      <td>...</td>\n",
              "      <td>...</td>\n",
              "      <td>...</td>\n",
              "      <td>...</td>\n",
              "      <td>...</td>\n",
              "    </tr>\n",
              "    <tr>\n",
              "      <th>7596</th>\n",
              "      <td>ZrO2</td>\n",
              "      <td>39.00</td>\n",
              "      <td>11.80</td>\n",
              "      <td>100.000000</td>\n",
              "      <td>77.126</td>\n",
              "    </tr>\n",
              "    <tr>\n",
              "      <th>7597</th>\n",
              "      <td>ZrO2</td>\n",
              "      <td>39.00</td>\n",
              "      <td>11.80</td>\n",
              "      <td>50.000000</td>\n",
              "      <td>81.085</td>\n",
              "    </tr>\n",
              "    <tr>\n",
              "      <th>7598</th>\n",
              "      <td>ZrO2</td>\n",
              "      <td>39.00</td>\n",
              "      <td>11.80</td>\n",
              "      <td>25.000000</td>\n",
              "      <td>88.710</td>\n",
              "    </tr>\n",
              "    <tr>\n",
              "      <th>7599</th>\n",
              "      <td>ZrO2</td>\n",
              "      <td>10.00</td>\n",
              "      <td>-45.50</td>\n",
              "      <td>50.000000</td>\n",
              "      <td>93.610</td>\n",
              "    </tr>\n",
              "    <tr>\n",
              "      <th>7600</th>\n",
              "      <td>ZrO2</td>\n",
              "      <td>39.00</td>\n",
              "      <td>11.80</td>\n",
              "      <td>12.500000</td>\n",
              "      <td>96.921</td>\n",
              "    </tr>\n",
              "  </tbody>\n",
              "</table>\n",
              "<p>7601 rows × 5 columns</p>\n",
              "</div>\n",
              "      <button class=\"colab-df-convert\" onclick=\"convertToInteractive('df-9ab99850-a691-4bc2-b00a-ea563da25ded')\"\n",
              "              title=\"Convert this dataframe to an interactive table.\"\n",
              "              style=\"display:none;\">\n",
              "        \n",
              "  <svg xmlns=\"http://www.w3.org/2000/svg\" height=\"24px\"viewBox=\"0 0 24 24\"\n",
              "       width=\"24px\">\n",
              "    <path d=\"M0 0h24v24H0V0z\" fill=\"none\"/>\n",
              "    <path d=\"M18.56 5.44l.94 2.06.94-2.06 2.06-.94-2.06-.94-.94-2.06-.94 2.06-2.06.94zm-11 1L8.5 8.5l.94-2.06 2.06-.94-2.06-.94L8.5 2.5l-.94 2.06-2.06.94zm10 10l.94 2.06.94-2.06 2.06-.94-2.06-.94-.94-2.06-.94 2.06-2.06.94z\"/><path d=\"M17.41 7.96l-1.37-1.37c-.4-.4-.92-.59-1.43-.59-.52 0-1.04.2-1.43.59L10.3 9.45l-7.72 7.72c-.78.78-.78 2.05 0 2.83L4 21.41c.39.39.9.59 1.41.59.51 0 1.02-.2 1.41-.59l7.78-7.78 2.81-2.81c.8-.78.8-2.07 0-2.86zM5.41 20L4 18.59l7.72-7.72 1.47 1.35L5.41 20z\"/>\n",
              "  </svg>\n",
              "      </button>\n",
              "      \n",
              "  <style>\n",
              "    .colab-df-container {\n",
              "      display:flex;\n",
              "      flex-wrap:wrap;\n",
              "      gap: 12px;\n",
              "    }\n",
              "\n",
              "    .colab-df-convert {\n",
              "      background-color: #E8F0FE;\n",
              "      border: none;\n",
              "      border-radius: 50%;\n",
              "      cursor: pointer;\n",
              "      display: none;\n",
              "      fill: #1967D2;\n",
              "      height: 32px;\n",
              "      padding: 0 0 0 0;\n",
              "      width: 32px;\n",
              "    }\n",
              "\n",
              "    .colab-df-convert:hover {\n",
              "      background-color: #E2EBFA;\n",
              "      box-shadow: 0px 1px 2px rgba(60, 64, 67, 0.3), 0px 1px 3px 1px rgba(60, 64, 67, 0.15);\n",
              "      fill: #174EA6;\n",
              "    }\n",
              "\n",
              "    [theme=dark] .colab-df-convert {\n",
              "      background-color: #3B4455;\n",
              "      fill: #D2E3FC;\n",
              "    }\n",
              "\n",
              "    [theme=dark] .colab-df-convert:hover {\n",
              "      background-color: #434B5C;\n",
              "      box-shadow: 0px 1px 3px 1px rgba(0, 0, 0, 0.15);\n",
              "      filter: drop-shadow(0px 1px 2px rgba(0, 0, 0, 0.3));\n",
              "      fill: #FFFFFF;\n",
              "    }\n",
              "  </style>\n",
              "\n",
              "      <script>\n",
              "        const buttonEl =\n",
              "          document.querySelector('#df-9ab99850-a691-4bc2-b00a-ea563da25ded button.colab-df-convert');\n",
              "        buttonEl.style.display =\n",
              "          google.colab.kernel.accessAllowed ? 'block' : 'none';\n",
              "\n",
              "        async function convertToInteractive(key) {\n",
              "          const element = document.querySelector('#df-9ab99850-a691-4bc2-b00a-ea563da25ded');\n",
              "          const dataTable =\n",
              "            await google.colab.kernel.invokeFunction('convertToInteractive',\n",
              "                                                     [key], {});\n",
              "          if (!dataTable) return;\n",
              "\n",
              "          const docLinkHtml = 'Like what you see? Visit the ' +\n",
              "            '<a target=\"_blank\" href=https://colab.research.google.com/notebooks/data_table.ipynb>data table notebook</a>'\n",
              "            + ' to learn more about interactive tables.';\n",
              "          element.innerHTML = '';\n",
              "          dataTable['output_type'] = 'display_data';\n",
              "          await google.colab.output.renderOutput(dataTable, element);\n",
              "          const docLink = document.createElement('div');\n",
              "          docLink.innerHTML = docLinkHtml;\n",
              "          element.appendChild(docLink);\n",
              "        }\n",
              "      </script>\n",
              "    </div>\n",
              "  </div>\n",
              "  "
            ]
          },
          "metadata": {},
          "execution_count": 74
        }
      ]
    },
    {
      "cell_type": "code",
      "source": [
        "df_Total.to_csv(r'Total_data_set.txt', header=True, index=None, sep='\\t', mode='a')"
      ],
      "metadata": {
        "id": "NWMWBNKLbBEy"
      },
      "execution_count": null,
      "outputs": []
    },
    {
      "cell_type": "markdown",
      "source": [
        "# Избавляемся от ошибок и выбросов\n",
        "Построим boxplot всех параметров для некоторых наночастиц  "
      ],
      "metadata": {
        "id": "Ys7isFACdSDt"
      }
    },
    {
      "cell_type": "markdown",
      "source": [
        "Surface charge"
      ],
      "metadata": {
        "id": "RwymKY5wSMxh"
      }
    },
    {
      "cell_type": "code",
      "source": [
        "LIMIT = 1000\n",
        "name = 'Polystyrene'\n",
        "df = df_Total\n",
        "for col in df_Total.groupby(['Material type']).get_group(name).iloc[:,[2]]:  \n",
        "       Q1 = df_Total[col].quantile(0.25)\n",
        "       Q3 = df_Total[col].quantile(0.75)\n",
        "       IQR = Q3 - Q1    #IQR is interquartile range. \n",
        "       filter = (df_Total[col] >= Q1 - LIMIT * IQR) & (df_Total[col] <= Q3 + LIMIT *IQR)     \n",
        "       df.loc[~filter,2] = np.nan\n",
        "sns.boxplot(data=df.groupby(['Material type']).get_group(name).iloc[:,[2]], orient=\"h\")\n",
        "df_Total.pop(2)\n",
        "df_Total"
      ],
      "metadata": {
        "id": "C7mKGzKfi--6",
        "colab": {
          "base_uri": "https://localhost:8080/",
          "height": 672
        },
        "outputId": "640683ae-4464-4a0a-c0a7-f996c089be2e"
      },
      "execution_count": null,
      "outputs": [
        {
          "output_type": "execute_result",
          "data": {
            "text/plain": [
              "     Material type  Diameter, nm  Surface charge, mV  Dose, ug/mL  \\\n",
              "0               Ag        100.00              -33.33     0.000088   \n",
              "1               Ag         28.41              -33.33     0.000213   \n",
              "2               Ag         28.41              -33.33     0.000356   \n",
              "3               Ag         28.41              -33.33   200.000000   \n",
              "4               Ag         28.41              -33.33   250.000000   \n",
              "...            ...           ...                 ...          ...   \n",
              "7596          ZrO2         39.00               11.80   100.000000   \n",
              "7597          ZrO2         39.00               11.80    50.000000   \n",
              "7598          ZrO2         39.00               11.80    25.000000   \n",
              "7599          ZrO2         10.00              -45.50    50.000000   \n",
              "7600          ZrO2         39.00               11.80    12.500000   \n",
              "\n",
              "      Viability, %  \n",
              "0            0.000  \n",
              "1            0.000  \n",
              "2            0.000  \n",
              "3            0.000  \n",
              "4            0.000  \n",
              "...            ...  \n",
              "7596        77.126  \n",
              "7597        81.085  \n",
              "7598        88.710  \n",
              "7599        93.610  \n",
              "7600        96.921  \n",
              "\n",
              "[7601 rows x 5 columns]"
            ],
            "text/html": [
              "\n",
              "  <div id=\"df-1d73555f-e527-455e-8469-ecb2f8ae58ad\">\n",
              "    <div class=\"colab-df-container\">\n",
              "      <div>\n",
              "<style scoped>\n",
              "    .dataframe tbody tr th:only-of-type {\n",
              "        vertical-align: middle;\n",
              "    }\n",
              "\n",
              "    .dataframe tbody tr th {\n",
              "        vertical-align: top;\n",
              "    }\n",
              "\n",
              "    .dataframe thead th {\n",
              "        text-align: right;\n",
              "    }\n",
              "</style>\n",
              "<table border=\"1\" class=\"dataframe\">\n",
              "  <thead>\n",
              "    <tr style=\"text-align: right;\">\n",
              "      <th></th>\n",
              "      <th>Material type</th>\n",
              "      <th>Diameter, nm</th>\n",
              "      <th>Surface charge, mV</th>\n",
              "      <th>Dose, ug/mL</th>\n",
              "      <th>Viability, %</th>\n",
              "    </tr>\n",
              "  </thead>\n",
              "  <tbody>\n",
              "    <tr>\n",
              "      <th>0</th>\n",
              "      <td>Ag</td>\n",
              "      <td>100.00</td>\n",
              "      <td>-33.33</td>\n",
              "      <td>0.000088</td>\n",
              "      <td>0.000</td>\n",
              "    </tr>\n",
              "    <tr>\n",
              "      <th>1</th>\n",
              "      <td>Ag</td>\n",
              "      <td>28.41</td>\n",
              "      <td>-33.33</td>\n",
              "      <td>0.000213</td>\n",
              "      <td>0.000</td>\n",
              "    </tr>\n",
              "    <tr>\n",
              "      <th>2</th>\n",
              "      <td>Ag</td>\n",
              "      <td>28.41</td>\n",
              "      <td>-33.33</td>\n",
              "      <td>0.000356</td>\n",
              "      <td>0.000</td>\n",
              "    </tr>\n",
              "    <tr>\n",
              "      <th>3</th>\n",
              "      <td>Ag</td>\n",
              "      <td>28.41</td>\n",
              "      <td>-33.33</td>\n",
              "      <td>200.000000</td>\n",
              "      <td>0.000</td>\n",
              "    </tr>\n",
              "    <tr>\n",
              "      <th>4</th>\n",
              "      <td>Ag</td>\n",
              "      <td>28.41</td>\n",
              "      <td>-33.33</td>\n",
              "      <td>250.000000</td>\n",
              "      <td>0.000</td>\n",
              "    </tr>\n",
              "    <tr>\n",
              "      <th>...</th>\n",
              "      <td>...</td>\n",
              "      <td>...</td>\n",
              "      <td>...</td>\n",
              "      <td>...</td>\n",
              "      <td>...</td>\n",
              "    </tr>\n",
              "    <tr>\n",
              "      <th>7596</th>\n",
              "      <td>ZrO2</td>\n",
              "      <td>39.00</td>\n",
              "      <td>11.80</td>\n",
              "      <td>100.000000</td>\n",
              "      <td>77.126</td>\n",
              "    </tr>\n",
              "    <tr>\n",
              "      <th>7597</th>\n",
              "      <td>ZrO2</td>\n",
              "      <td>39.00</td>\n",
              "      <td>11.80</td>\n",
              "      <td>50.000000</td>\n",
              "      <td>81.085</td>\n",
              "    </tr>\n",
              "    <tr>\n",
              "      <th>7598</th>\n",
              "      <td>ZrO2</td>\n",
              "      <td>39.00</td>\n",
              "      <td>11.80</td>\n",
              "      <td>25.000000</td>\n",
              "      <td>88.710</td>\n",
              "    </tr>\n",
              "    <tr>\n",
              "      <th>7599</th>\n",
              "      <td>ZrO2</td>\n",
              "      <td>10.00</td>\n",
              "      <td>-45.50</td>\n",
              "      <td>50.000000</td>\n",
              "      <td>93.610</td>\n",
              "    </tr>\n",
              "    <tr>\n",
              "      <th>7600</th>\n",
              "      <td>ZrO2</td>\n",
              "      <td>39.00</td>\n",
              "      <td>11.80</td>\n",
              "      <td>12.500000</td>\n",
              "      <td>96.921</td>\n",
              "    </tr>\n",
              "  </tbody>\n",
              "</table>\n",
              "<p>7601 rows × 5 columns</p>\n",
              "</div>\n",
              "      <button class=\"colab-df-convert\" onclick=\"convertToInteractive('df-1d73555f-e527-455e-8469-ecb2f8ae58ad')\"\n",
              "              title=\"Convert this dataframe to an interactive table.\"\n",
              "              style=\"display:none;\">\n",
              "        \n",
              "  <svg xmlns=\"http://www.w3.org/2000/svg\" height=\"24px\"viewBox=\"0 0 24 24\"\n",
              "       width=\"24px\">\n",
              "    <path d=\"M0 0h24v24H0V0z\" fill=\"none\"/>\n",
              "    <path d=\"M18.56 5.44l.94 2.06.94-2.06 2.06-.94-2.06-.94-.94-2.06-.94 2.06-2.06.94zm-11 1L8.5 8.5l.94-2.06 2.06-.94-2.06-.94L8.5 2.5l-.94 2.06-2.06.94zm10 10l.94 2.06.94-2.06 2.06-.94-2.06-.94-.94-2.06-.94 2.06-2.06.94z\"/><path d=\"M17.41 7.96l-1.37-1.37c-.4-.4-.92-.59-1.43-.59-.52 0-1.04.2-1.43.59L10.3 9.45l-7.72 7.72c-.78.78-.78 2.05 0 2.83L4 21.41c.39.39.9.59 1.41.59.51 0 1.02-.2 1.41-.59l7.78-7.78 2.81-2.81c.8-.78.8-2.07 0-2.86zM5.41 20L4 18.59l7.72-7.72 1.47 1.35L5.41 20z\"/>\n",
              "  </svg>\n",
              "      </button>\n",
              "      \n",
              "  <style>\n",
              "    .colab-df-container {\n",
              "      display:flex;\n",
              "      flex-wrap:wrap;\n",
              "      gap: 12px;\n",
              "    }\n",
              "\n",
              "    .colab-df-convert {\n",
              "      background-color: #E8F0FE;\n",
              "      border: none;\n",
              "      border-radius: 50%;\n",
              "      cursor: pointer;\n",
              "      display: none;\n",
              "      fill: #1967D2;\n",
              "      height: 32px;\n",
              "      padding: 0 0 0 0;\n",
              "      width: 32px;\n",
              "    }\n",
              "\n",
              "    .colab-df-convert:hover {\n",
              "      background-color: #E2EBFA;\n",
              "      box-shadow: 0px 1px 2px rgba(60, 64, 67, 0.3), 0px 1px 3px 1px rgba(60, 64, 67, 0.15);\n",
              "      fill: #174EA6;\n",
              "    }\n",
              "\n",
              "    [theme=dark] .colab-df-convert {\n",
              "      background-color: #3B4455;\n",
              "      fill: #D2E3FC;\n",
              "    }\n",
              "\n",
              "    [theme=dark] .colab-df-convert:hover {\n",
              "      background-color: #434B5C;\n",
              "      box-shadow: 0px 1px 3px 1px rgba(0, 0, 0, 0.15);\n",
              "      filter: drop-shadow(0px 1px 2px rgba(0, 0, 0, 0.3));\n",
              "      fill: #FFFFFF;\n",
              "    }\n",
              "  </style>\n",
              "\n",
              "      <script>\n",
              "        const buttonEl =\n",
              "          document.querySelector('#df-1d73555f-e527-455e-8469-ecb2f8ae58ad button.colab-df-convert');\n",
              "        buttonEl.style.display =\n",
              "          google.colab.kernel.accessAllowed ? 'block' : 'none';\n",
              "\n",
              "        async function convertToInteractive(key) {\n",
              "          const element = document.querySelector('#df-1d73555f-e527-455e-8469-ecb2f8ae58ad');\n",
              "          const dataTable =\n",
              "            await google.colab.kernel.invokeFunction('convertToInteractive',\n",
              "                                                     [key], {});\n",
              "          if (!dataTable) return;\n",
              "\n",
              "          const docLinkHtml = 'Like what you see? Visit the ' +\n",
              "            '<a target=\"_blank\" href=https://colab.research.google.com/notebooks/data_table.ipynb>data table notebook</a>'\n",
              "            + ' to learn more about interactive tables.';\n",
              "          element.innerHTML = '';\n",
              "          dataTable['output_type'] = 'display_data';\n",
              "          await google.colab.output.renderOutput(dataTable, element);\n",
              "          const docLink = document.createElement('div');\n",
              "          docLink.innerHTML = docLinkHtml;\n",
              "          element.appendChild(docLink);\n",
              "        }\n",
              "      </script>\n",
              "    </div>\n",
              "  </div>\n",
              "  "
            ]
          },
          "metadata": {},
          "execution_count": 76
        },
        {
          "output_type": "display_data",
          "data": {
            "text/plain": [
              "<Figure size 432x288 with 1 Axes>"
            ],
            "image/png": "[encoded data removed]"
          },
          "metadata": {
            "needs_background": "light"
          }
        }
      ]
    },
    {
      "cell_type": "code",
      "source": [
        "name = 'Material type'\n",
        "\n",
        "plt.hist(df_Total[name], bins=30)\n",
        "plt.title(name)\n",
        "plt.xticks(rotation = 90)"
      ],
      "metadata": {
        "colab": {
          "base_uri": "https://localhost:8080/",
          "height": 1000
        },
        "id": "owe6-p44SVTh",
        "outputId": "32be0983-af09-4acd-ff50-9f4c27874649"
      },
      "execution_count": null,
      "outputs": [
        {
          "output_type": "execute_result",
          "data": {
            "text/plain": [
              "([0,\n",
              "  1,\n",
              "  2,\n",
              "  3,\n",
              "  4,\n",
              "  5,\n",
              "  6,\n",
              "  7,\n",
              "  8,\n",
              "  9,\n",
              "  10,\n",
              "  11,\n",
              "  12,\n",
              "  13,\n",
              "  14,\n",
              "  15,\n",
              "  16,\n",
              "  17,\n",
              "  18,\n",
              "  19,\n",
              "  20,\n",
              "  21,\n",
              "  22,\n",
              "  23,\n",
              "  24,\n",
              "  25,\n",
              "  26,\n",
              "  27,\n",
              "  28,\n",
              "  29,\n",
              "  30,\n",
              "  31,\n",
              "  32,\n",
              "  33,\n",
              "  34,\n",
              "  35,\n",
              "  36,\n",
              "  37,\n",
              "  38,\n",
              "  39,\n",
              "  40,\n",
              "  41,\n",
              "  42,\n",
              "  43,\n",
              "  44,\n",
              "  45,\n",
              "  46,\n",
              "  47,\n",
              "  48,\n",
              "  49,\n",
              "  50,\n",
              "  51,\n",
              "  52,\n",
              "  53,\n",
              "  54],\n",
              " <a list of 55 Text major ticklabel objects>)"
            ]
          },
          "metadata": {},
          "execution_count": 77
        },
        {
          "output_type": "display_data",
          "data": {
            "text/plain": [
              "<Figure size 432x288 with 1 Axes>"
            ],
            "image/png": "[encoded data removed]"
          },
          "metadata": {
            "needs_background": "light"
          }
        }
      ]
    },
    {
      "cell_type": "code",
      "source": [
        "name = 'Diameter, nm'\n",
        "\n",
        "plt.hist(df_Total[name], bins=50)\n",
        "plt.title(name)\n",
        "plt.xlim([-50 , 1000])"
      ],
      "metadata": {
        "colab": {
          "base_uri": "https://localhost:8080/",
          "height": 298
        },
        "id": "Z5eijfGtSwtM",
        "outputId": "f48d6131-a44f-489a-f32b-589862def2e8"
      },
      "execution_count": null,
      "outputs": [
        {
          "output_type": "execute_result",
          "data": {
            "text/plain": [
              "(-50.0, 1000.0)"
            ]
          },
          "metadata": {},
          "execution_count": 78
        },
        {
          "output_type": "display_data",
          "data": {
            "text/plain": [
              "<Figure size 432x288 with 1 Axes>"
            ],
            "image/png": "[encoded data removed]"
          },
          "metadata": {
            "needs_background": "light"
          }
        }
      ]
    },
    {
      "cell_type": "code",
      "source": [
        "name = 'Surface charge, mV'\n",
        "\n",
        "plt.hist(df_Total[name], bins=30)\n",
        "plt.title(name)\n",
        "plt.xlim([-200 , 200])"
      ],
      "metadata": {
        "colab": {
          "base_uri": "https://localhost:8080/",
          "height": 298
        },
        "id": "jikCe8v8S4BL",
        "outputId": "2972928f-a5e4-411a-f009-446a5a6549ad"
      },
      "execution_count": null,
      "outputs": [
        {
          "output_type": "execute_result",
          "data": {
            "text/plain": [
              "(-200.0, 200.0)"
            ]
          },
          "metadata": {},
          "execution_count": 79
        },
        {
          "output_type": "display_data",
          "data": {
            "text/plain": [
              "<Figure size 432x288 with 1 Axes>"
            ],
            "image/png": "[encoded data removed]"
          },
          "metadata": {
            "needs_background": "light"
          }
        }
      ]
    },
    {
      "cell_type": "code",
      "source": [
        "name = 'Dose, ug/mL'\n",
        "\n",
        "plt.hist(df_Total[name], bins=1000)\n",
        "plt.title(name)\n",
        "plt.xlim([-50 , 1250])"
      ],
      "metadata": {
        "colab": {
          "base_uri": "https://localhost:8080/",
          "height": 298
        },
        "id": "PqbgeyIFS-wU",
        "outputId": "7fc11ee2-fc0a-4919-a48d-bc9413fa8c3b"
      },
      "execution_count": null,
      "outputs": [
        {
          "output_type": "execute_result",
          "data": {
            "text/plain": [
              "(-50.0, 1250.0)"
            ]
          },
          "metadata": {},
          "execution_count": 80
        },
        {
          "output_type": "display_data",
          "data": {
            "text/plain": [
              "<Figure size 432x288 with 1 Axes>"
            ],
            "image/png": "[encoded data removed]"
          },
          "metadata": {
            "needs_background": "light"
          }
        }
      ]
    },
    {
      "cell_type": "code",
      "source": [
        "name = 'Viability, %'\n",
        "\n",
        "plt.hist(df_Total[name], bins=40)\n",
        "plt.title(name)"
      ],
      "metadata": {
        "colab": {
          "base_uri": "https://localhost:8080/",
          "height": 298
        },
        "id": "3rX19PG0TFGl",
        "outputId": "74fdb0a3-d76a-4b3e-b8f7-081a75573107"
      },
      "execution_count": null,
      "outputs": [
        {
          "output_type": "execute_result",
          "data": {
            "text/plain": [
              "Text(0.5, 1.0, 'Viability, %')"
            ]
          },
          "metadata": {},
          "execution_count": 81
        },
        {
          "output_type": "display_data",
          "data": {
            "text/plain": [
              "<Figure size 432x288 with 1 Axes>"
            ],
            "image/png": "[encoded data removed]"
          },
          "metadata": {
            "needs_background": "light"
          }
        }
      ]
    },
    {
      "cell_type": "markdown",
      "source": [
        "##Построим pairplot параметров для всех наночастиц"
      ],
      "metadata": {
        "id": "HJO-0VjNT975"
      }
    },
    {
      "cell_type": "code",
      "source": [
        "sns.pairplot(df_Total, size=3)"
      ],
      "metadata": {
        "colab": {
          "base_uri": "https://localhost:8080/",
          "height": 940
        },
        "id": "pbk4ITl0UP8G",
        "outputId": "2b2b0ba4-deea-49a6-d892-87cf075afaf3"
      },
      "execution_count": null,
      "outputs": [
        {
          "output_type": "stream",
          "name": "stderr",
          "text": [
            "/usr/local/lib/python3.7/dist-packages/seaborn/axisgrid.py:2076: UserWarning: The `size` parameter has been renamed to `height`; please update your code.\n",
            "  warnings.warn(msg, UserWarning)\n"
          ]
        },
        {
          "output_type": "execute_result",
          "data": {
            "text/plain": [
              "<seaborn.axisgrid.PairGrid at 0x7f5f2ca8c990>"
            ]
          },
          "metadata": {},
          "execution_count": 83
        },
        {
          "output_type": "display_data",
          "data": {
            "text/plain": [
              "<Figure size 864x864 with 20 Axes>"
            ],
            "image/png": "[encoded data removed]"
          },
          "metadata": {
            "needs_background": "light"
          }
        }
      ]
    },
    {
      "cell_type": "markdown",
      "source": [
        "## Корреляционная матрица"
      ],
      "metadata": {
        "id": "ETyqbukOUVLB"
      }
    },
    {
      "cell_type": "code",
      "source": [
        "data_corr=df_Total.corr()\n",
        "\n",
        "plt.figure(figsize = (10,6))\n",
        "sns.heatmap(data_corr, annot = True, vmin=-0.05, vmax=0.2, center= 0.05,cmap=\"Blues\")"
      ],
      "metadata": {
        "colab": {
          "base_uri": "https://localhost:8080/",
          "height": 395
        },
        "id": "ucDwRQJJUbT0",
        "outputId": "cd1e8e24-a4ba-41b7-c990-6864ae2a70d3"
      },
      "execution_count": null,
      "outputs": [
        {
          "output_type": "execute_result",
          "data": {
            "text/plain": [
              "<matplotlib.axes._subplots.AxesSubplot at 0x7f5f284c3910>"
            ]
          },
          "metadata": {},
          "execution_count": 84
        },
        {
          "output_type": "display_data",
          "data": {
            "text/plain": [
              "<Figure size 720x432 with 2 Axes>"
            ],
            "image/png": "[encoded data removed]"
          },
          "metadata": {
            "needs_background": "light"
          }
        }
      ]
    },
    {
      "cell_type": "markdown",
      "source": [
        "# Подбор модели МО"
      ],
      "metadata": {
        "id": "JatwVg2UbH39"
      }
    },
    {
      "cell_type": "markdown",
      "source": [
        "# 0. Импорт данных, библиотек"
      ],
      "metadata": {
        "id": "e82GsvZlbPbF"
      }
    },
    {
      "cell_type": "code",
      "source": [
        "import pandas as pd\n",
        "import numpy as np\n",
        "from sklearn import preprocessing\n",
        "from sklearn.model_selection import train_test_split\n",
        "import matplotlib.pyplot as plt\n",
        "import seaborn as sns\n",
        "import sklearn\n",
        "from sklearn.ensemble import RandomForestRegressor\n",
        "from sklearn import preprocessing\n",
        "from sklearn import metrics\n",
        "from sklearn import svm\n",
        "import io\n",
        "from google.colab import files"
      ],
      "metadata": {
        "id": "oonb_mdtbHWh"
      },
      "execution_count": null,
      "outputs": []
    },
    {
      "cell_type": "code",
      "source": [
        "#популярные модели\n",
        "#Linear Regression\n",
        "from sklearn.linear_model import LinearRegression\n",
        "\n",
        "#Kernel Ridge Regression\n",
        "from sklearn.kernel_ridge import KernelRidge\n",
        "\n",
        "#Bayesian Ridge Regression\n",
        "from sklearn.linear_model import BayesianRidge\n",
        "\n",
        "#Gradient Boosting Regression\n",
        "from sklearn.ensemble import GradientBoostingRegressor\n",
        "\n",
        "#Support Vector Machine\n",
        "from sklearn.svm import SVR\n",
        "\n",
        "#Stochastic Gradient Descent Regression\n",
        "from sklearn.linear_model import SGDRegressor\n",
        "\n",
        "#LGBM Regressor\n",
        "from lightgbm import LGBMRegressor\n",
        "\n",
        "#Elastic Net Regression\n",
        "from sklearn.linear_model import ElasticNet\n",
        "\n",
        "#XGBoost Regressor\n",
        "from xgboost.sklearn import XGBRegressor\n",
        "\n",
        "#CatBoost Regressor\n",
        "!pip install catboost\n",
        "from catboost import CatBoostRegressor"
      ],
      "metadata": {
        "colab": {
          "base_uri": "https://localhost:8080/"
        },
        "id": "CKTMXamNbXEa",
        "outputId": "76f60cae-02e2-410c-b2ec-7253b260b50c"
      },
      "execution_count": null,
      "outputs": [
        {
          "output_type": "stream",
          "name": "stdout",
          "text": [
            "Looking in indexes: https://pypi.org/simple, https://us-python.pkg.dev/colab-wheels/public/simple/\n",
            "Collecting catboost\n",
            "  Downloading catboost-1.0.6-cp37-none-manylinux1_x86_64.whl (76.6 MB)\n",
            "\u001b[K     |████████████████████████████████| 76.6 MB 1.2 MB/s \n",
            "\u001b[?25hRequirement already satisfied: graphviz in /usr/local/lib/python3.7/dist-packages (from catboost) (0.10.1)\n",
            "Requirement already satisfied: plotly in /usr/local/lib/python3.7/dist-packages (from catboost) (5.5.0)\n",
            "Requirement already satisfied: six in /usr/local/lib/python3.7/dist-packages (from catboost) (1.15.0)\n",
            "Requirement already satisfied: pandas>=0.24.0 in /usr/local/lib/python3.7/dist-packages (from catboost) (1.3.5)\n",
            "Requirement already satisfied: scipy in /usr/local/lib/python3.7/dist-packages (from catboost) (1.7.3)\n",
            "Requirement already satisfied: matplotlib in /usr/local/lib/python3.7/dist-packages (from catboost) (3.2.2)\n",
            "Requirement already satisfied: numpy>=1.16.0 in /usr/local/lib/python3.7/dist-packages (from catboost) (1.21.6)\n",
            "Requirement already satisfied: python-dateutil>=2.7.3 in /usr/local/lib/python3.7/dist-packages (from pandas>=0.24.0->catboost) (2.8.2)\n",
            "Requirement already satisfied: pytz>=2017.3 in /usr/local/lib/python3.7/dist-packages (from pandas>=0.24.0->catboost) (2022.1)\n",
            "Requirement already satisfied: kiwisolver>=1.0.1 in /usr/local/lib/python3.7/dist-packages (from matplotlib->catboost) (1.4.4)\n",
            "Requirement already satisfied: cycler>=0.10 in /usr/local/lib/python3.7/dist-packages (from matplotlib->catboost) (0.11.0)\n",
            "Requirement already satisfied: pyparsing!=2.0.4,!=2.1.2,!=2.1.6,>=2.0.1 in /usr/local/lib/python3.7/dist-packages (from matplotlib->catboost) (3.0.9)\n",
            "Requirement already satisfied: typing-extensions in /usr/local/lib/python3.7/dist-packages (from kiwisolver>=1.0.1->matplotlib->catboost) (4.1.1)\n",
            "Requirement already satisfied: tenacity>=6.2.0 in /usr/local/lib/python3.7/dist-packages (from plotly->catboost) (8.0.1)\n",
            "Installing collected packages: catboost\n",
            "Successfully installed catboost-1.0.6\n"
          ]
        }
      ]
    },
    {
      "cell_type": "code",
      "source": [
        "merged_df = df_Total\n",
        "merged_df"
      ],
      "metadata": {
        "colab": {
          "base_uri": "https://localhost:8080/",
          "height": 424
        },
        "id": "3JzCXrS3bifk",
        "outputId": "d56b8bba-dfa0-43f2-eedf-9812c7b51bcd"
      },
      "execution_count": null,
      "outputs": [
        {
          "output_type": "execute_result",
          "data": {
            "text/plain": [
              "     Material type  Diameter, nm  Surface charge, mV  Dose, ug/mL  \\\n",
              "0               Ag        100.00              -33.33     0.000088   \n",
              "1               Ag         28.41              -33.33     0.000213   \n",
              "2               Ag         28.41              -33.33     0.000356   \n",
              "3               Ag         28.41              -33.33   200.000000   \n",
              "4               Ag         28.41              -33.33   250.000000   \n",
              "...            ...           ...                 ...          ...   \n",
              "7596          ZrO2         39.00               11.80   100.000000   \n",
              "7597          ZrO2         39.00               11.80    50.000000   \n",
              "7598          ZrO2         39.00               11.80    25.000000   \n",
              "7599          ZrO2         10.00              -45.50    50.000000   \n",
              "7600          ZrO2         39.00               11.80    12.500000   \n",
              "\n",
              "      Viability, %  \n",
              "0            0.000  \n",
              "1            0.000  \n",
              "2            0.000  \n",
              "3            0.000  \n",
              "4            0.000  \n",
              "...            ...  \n",
              "7596        77.126  \n",
              "7597        81.085  \n",
              "7598        88.710  \n",
              "7599        93.610  \n",
              "7600        96.921  \n",
              "\n",
              "[7601 rows x 5 columns]"
            ],
            "text/html": [
              "\n",
              "  <div id=\"df-b2f1d794-ad6c-49f2-baee-561c8c961720\">\n",
              "    <div class=\"colab-df-container\">\n",
              "      <div>\n",
              "<style scoped>\n",
              "    .dataframe tbody tr th:only-of-type {\n",
              "        vertical-align: middle;\n",
              "    }\n",
              "\n",
              "    .dataframe tbody tr th {\n",
              "        vertical-align: top;\n",
              "    }\n",
              "\n",
              "    .dataframe thead th {\n",
              "        text-align: right;\n",
              "    }\n",
              "</style>\n",
              "<table border=\"1\" class=\"dataframe\">\n",
              "  <thead>\n",
              "    <tr style=\"text-align: right;\">\n",
              "      <th></th>\n",
              "      <th>Material type</th>\n",
              "      <th>Diameter, nm</th>\n",
              "      <th>Surface charge, mV</th>\n",
              "      <th>Dose, ug/mL</th>\n",
              "      <th>Viability, %</th>\n",
              "    </tr>\n",
              "  </thead>\n",
              "  <tbody>\n",
              "    <tr>\n",
              "      <th>0</th>\n",
              "      <td>Ag</td>\n",
              "      <td>100.00</td>\n",
              "      <td>-33.33</td>\n",
              "      <td>0.000088</td>\n",
              "      <td>0.000</td>\n",
              "    </tr>\n",
              "    <tr>\n",
              "      <th>1</th>\n",
              "      <td>Ag</td>\n",
              "      <td>28.41</td>\n",
              "      <td>-33.33</td>\n",
              "      <td>0.000213</td>\n",
              "      <td>0.000</td>\n",
              "    </tr>\n",
              "    <tr>\n",
              "      <th>2</th>\n",
              "      <td>Ag</td>\n",
              "      <td>28.41</td>\n",
              "      <td>-33.33</td>\n",
              "      <td>0.000356</td>\n",
              "      <td>0.000</td>\n",
              "    </tr>\n",
              "    <tr>\n",
              "      <th>3</th>\n",
              "      <td>Ag</td>\n",
              "      <td>28.41</td>\n",
              "      <td>-33.33</td>\n",
              "      <td>200.000000</td>\n",
              "      <td>0.000</td>\n",
              "    </tr>\n",
              "    <tr>\n",
              "      <th>4</th>\n",
              "      <td>Ag</td>\n",
              "      <td>28.41</td>\n",
              "      <td>-33.33</td>\n",
              "      <td>250.000000</td>\n",
              "      <td>0.000</td>\n",
              "    </tr>\n",
              "    <tr>\n",
              "      <th>...</th>\n",
              "      <td>...</td>\n",
              "      <td>...</td>\n",
              "      <td>...</td>\n",
              "      <td>...</td>\n",
              "      <td>...</td>\n",
              "    </tr>\n",
              "    <tr>\n",
              "      <th>7596</th>\n",
              "      <td>ZrO2</td>\n",
              "      <td>39.00</td>\n",
              "      <td>11.80</td>\n",
              "      <td>100.000000</td>\n",
              "      <td>77.126</td>\n",
              "    </tr>\n",
              "    <tr>\n",
              "      <th>7597</th>\n",
              "      <td>ZrO2</td>\n",
              "      <td>39.00</td>\n",
              "      <td>11.80</td>\n",
              "      <td>50.000000</td>\n",
              "      <td>81.085</td>\n",
              "    </tr>\n",
              "    <tr>\n",
              "      <th>7598</th>\n",
              "      <td>ZrO2</td>\n",
              "      <td>39.00</td>\n",
              "      <td>11.80</td>\n",
              "      <td>25.000000</td>\n",
              "      <td>88.710</td>\n",
              "    </tr>\n",
              "    <tr>\n",
              "      <th>7599</th>\n",
              "      <td>ZrO2</td>\n",
              "      <td>10.00</td>\n",
              "      <td>-45.50</td>\n",
              "      <td>50.000000</td>\n",
              "      <td>93.610</td>\n",
              "    </tr>\n",
              "    <tr>\n",
              "      <th>7600</th>\n",
              "      <td>ZrO2</td>\n",
              "      <td>39.00</td>\n",
              "      <td>11.80</td>\n",
              "      <td>12.500000</td>\n",
              "      <td>96.921</td>\n",
              "    </tr>\n",
              "  </tbody>\n",
              "</table>\n",
              "<p>7601 rows × 5 columns</p>\n",
              "</div>\n",
              "      <button class=\"colab-df-convert\" onclick=\"convertToInteractive('df-b2f1d794-ad6c-49f2-baee-561c8c961720')\"\n",
              "              title=\"Convert this dataframe to an interactive table.\"\n",
              "              style=\"display:none;\">\n",
              "        \n",
              "  <svg xmlns=\"http://www.w3.org/2000/svg\" height=\"24px\"viewBox=\"0 0 24 24\"\n",
              "       width=\"24px\">\n",
              "    <path d=\"M0 0h24v24H0V0z\" fill=\"none\"/>\n",
              "    <path d=\"M18.56 5.44l.94 2.06.94-2.06 2.06-.94-2.06-.94-.94-2.06-.94 2.06-2.06.94zm-11 1L8.5 8.5l.94-2.06 2.06-.94-2.06-.94L8.5 2.5l-.94 2.06-2.06.94zm10 10l.94 2.06.94-2.06 2.06-.94-2.06-.94-.94-2.06-.94 2.06-2.06.94z\"/><path d=\"M17.41 7.96l-1.37-1.37c-.4-.4-.92-.59-1.43-.59-.52 0-1.04.2-1.43.59L10.3 9.45l-7.72 7.72c-.78.78-.78 2.05 0 2.83L4 21.41c.39.39.9.59 1.41.59.51 0 1.02-.2 1.41-.59l7.78-7.78 2.81-2.81c.8-.78.8-2.07 0-2.86zM5.41 20L4 18.59l7.72-7.72 1.47 1.35L5.41 20z\"/>\n",
              "  </svg>\n",
              "      </button>\n",
              "      \n",
              "  <style>\n",
              "    .colab-df-container {\n",
              "      display:flex;\n",
              "      flex-wrap:wrap;\n",
              "      gap: 12px;\n",
              "    }\n",
              "\n",
              "    .colab-df-convert {\n",
              "      background-color: #E8F0FE;\n",
              "      border: none;\n",
              "      border-radius: 50%;\n",
              "      cursor: pointer;\n",
              "      display: none;\n",
              "      fill: #1967D2;\n",
              "      height: 32px;\n",
              "      padding: 0 0 0 0;\n",
              "      width: 32px;\n",
              "    }\n",
              "\n",
              "    .colab-df-convert:hover {\n",
              "      background-color: #E2EBFA;\n",
              "      box-shadow: 0px 1px 2px rgba(60, 64, 67, 0.3), 0px 1px 3px 1px rgba(60, 64, 67, 0.15);\n",
              "      fill: #174EA6;\n",
              "    }\n",
              "\n",
              "    [theme=dark] .colab-df-convert {\n",
              "      background-color: #3B4455;\n",
              "      fill: #D2E3FC;\n",
              "    }\n",
              "\n",
              "    [theme=dark] .colab-df-convert:hover {\n",
              "      background-color: #434B5C;\n",
              "      box-shadow: 0px 1px 3px 1px rgba(0, 0, 0, 0.15);\n",
              "      filter: drop-shadow(0px 1px 2px rgba(0, 0, 0, 0.3));\n",
              "      fill: #FFFFFF;\n",
              "    }\n",
              "  </style>\n",
              "\n",
              "      <script>\n",
              "        const buttonEl =\n",
              "          document.querySelector('#df-b2f1d794-ad6c-49f2-baee-561c8c961720 button.colab-df-convert');\n",
              "        buttonEl.style.display =\n",
              "          google.colab.kernel.accessAllowed ? 'block' : 'none';\n",
              "\n",
              "        async function convertToInteractive(key) {\n",
              "          const element = document.querySelector('#df-b2f1d794-ad6c-49f2-baee-561c8c961720');\n",
              "          const dataTable =\n",
              "            await google.colab.kernel.invokeFunction('convertToInteractive',\n",
              "                                                     [key], {});\n",
              "          if (!dataTable) return;\n",
              "\n",
              "          const docLinkHtml = 'Like what you see? Visit the ' +\n",
              "            '<a target=\"_blank\" href=https://colab.research.google.com/notebooks/data_table.ipynb>data table notebook</a>'\n",
              "            + ' to learn more about interactive tables.';\n",
              "          element.innerHTML = '';\n",
              "          dataTable['output_type'] = 'display_data';\n",
              "          await google.colab.output.renderOutput(dataTable, element);\n",
              "          const docLink = document.createElement('div');\n",
              "          docLink.innerHTML = docLinkHtml;\n",
              "          element.appendChild(docLink);\n",
              "        }\n",
              "      </script>\n",
              "    </div>\n",
              "  </div>\n",
              "  "
            ]
          },
          "metadata": {},
          "execution_count": 85
        }
      ]
    },
    {
      "cell_type": "markdown",
      "source": [
        "# 0.1 Нормализация и стандартизация данных"
      ],
      "metadata": {
        "id": "DjWrAlEjcu5W"
      }
    },
    {
      "cell_type": "markdown",
      "source": [
        "#1. Найти выбросы и ошибки\n",
        "IQR -- Обнаружение и удаление выбросов с помощью boxplots"
      ],
      "metadata": {
        "id": "Jc_iI2htc0zy"
      }
    },
    {
      "cell_type": "markdown",
      "source": [
        "Разделим датасет на категориальные переменные и численные"
      ],
      "metadata": {
        "id": "pan97H_cc9Rl"
      }
    },
    {
      "cell_type": "code",
      "source": [
        "numeric_col = ['Diameter, nm','Surface charge, mV',\t'Dose, ug/mL' ,\t'Viability, %' ]\n",
        "categorical_col = merged_df['Material type']"
      ],
      "metadata": {
        "id": "A86c_tYiczKs"
      },
      "execution_count": null,
      "outputs": []
    },
    {
      "cell_type": "markdown",
      "source": [
        "Нормализуем численные данные"
      ],
      "metadata": {
        "id": "nvhZfEyldBH8"
      }
    },
    {
      "cell_type": "code",
      "source": [
        "merged_df = pd.DataFrame( preprocessing.normalize(merged_df.iloc[:,1:]), columns = numeric_col)"
      ],
      "metadata": {
        "id": "bbulTG--dKD_"
      },
      "execution_count": null,
      "outputs": []
    },
    {
      "cell_type": "markdown",
      "source": [
        "Построим boxplot для всех наночастиц по всем параметрам"
      ],
      "metadata": {
        "id": "08s38rDZdLNj"
      }
    },
    {
      "cell_type": "code",
      "source": [
        "merged_df.boxplot('Diameter, nm')"
      ],
      "metadata": {
        "colab": {
          "base_uri": "https://localhost:8080/",
          "height": 282
        },
        "id": "-MeQBbXGdSr2",
        "outputId": "6265dfce-a9db-465e-aeab-c94f20fc7967"
      },
      "execution_count": null,
      "outputs": [
        {
          "output_type": "execute_result",
          "data": {
            "text/plain": [
              "<matplotlib.axes._subplots.AxesSubplot at 0x7f5f28504550>"
            ]
          },
          "metadata": {},
          "execution_count": 88
        },
        {
          "output_type": "display_data",
          "data": {
            "text/plain": [
              "<Figure size 432x288 with 1 Axes>"
            ],
            "image/png": "[encoded data removed]"
          },
          "metadata": {
            "needs_background": "light"
          }
        }
      ]
    },
    {
      "cell_type": "markdown",
      "source": [
        "Мы полагаем, что физического смысла в поиске выбросов в поверхностном заряде нет, так как датасет мы рассматриваем из различных частиц. Выбросы имеет смысл рассматривать в рамках каждого вида material, но из-за ограничения во времени, мы этого не сделали (🤡). Но предполагаем, что так было бы правильнее."
      ],
      "metadata": {
        "id": "TTx_InlzdV2o"
      }
    },
    {
      "cell_type": "code",
      "source": [
        "merged_df.boxplot('Surface charge, mV')"
      ],
      "metadata": {
        "colab": {
          "base_uri": "https://localhost:8080/",
          "height": 283
        },
        "id": "zKoB9j5ydp_G",
        "outputId": "04a4692c-fdaf-470f-d433-f5ebaeab5074"
      },
      "execution_count": null,
      "outputs": [
        {
          "output_type": "execute_result",
          "data": {
            "text/plain": [
              "<matplotlib.axes._subplots.AxesSubplot at 0x7f5f1c348210>"
            ]
          },
          "metadata": {},
          "execution_count": 89
        },
        {
          "output_type": "display_data",
          "data": {
            "text/plain": [
              "<Figure size 432x288 with 1 Axes>"
            ],
            "image/png": "[encoded data removed]"
          },
          "metadata": {
            "needs_background": "light"
          }
        }
      ]
    },
    {
      "cell_type": "markdown",
      "source": [
        "То же самое касается и концетрации в целом. От того, что мы берем больший диапазон концентраций, мы естественно увеличиваем разброс данных."
      ],
      "metadata": {
        "id": "UNLC0bxid0kZ"
      }
    },
    {
      "cell_type": "code",
      "source": [
        "merged_df.boxplot('Dose, ug/mL')"
      ],
      "metadata": {
        "colab": {
          "base_uri": "https://localhost:8080/",
          "height": 282
        },
        "id": "BBNTBtFKdwhq",
        "outputId": "7f08c887-a4ef-4a02-aa96-b55e5c3bd20d"
      },
      "execution_count": null,
      "outputs": [
        {
          "output_type": "execute_result",
          "data": {
            "text/plain": [
              "<matplotlib.axes._subplots.AxesSubplot at 0x7fe44290d090>"
            ]
          },
          "metadata": {},
          "execution_count": 115
        },
        {
          "output_type": "display_data",
          "data": {
            "text/plain": [
              "<Figure size 432x288 with 1 Axes>"
            ],
            "image/png": "[encoded data removed]"
          },
          "metadata": {
            "needs_background": "light"
          }
        }
      ]
    },
    {
      "cell_type": "code",
      "source": [
        "merged_df.boxplot('Viability, %')"
      ],
      "metadata": {
        "colab": {
          "base_uri": "https://localhost:8080/",
          "height": 282
        },
        "id": "oCB50MV4d8wa",
        "outputId": "ad16914a-b284-44d2-fa0a-ed97373f9590"
      },
      "execution_count": null,
      "outputs": [
        {
          "output_type": "execute_result",
          "data": {
            "text/plain": [
              "<matplotlib.axes._subplots.AxesSubplot at 0x7fe442936550>"
            ]
          },
          "metadata": {},
          "execution_count": 116
        },
        {
          "output_type": "display_data",
          "data": {
            "text/plain": [
              "<Figure size 432x288 with 1 Axes>"
            ],
            "image/png": "[encoded data removed]"
          },
          "metadata": {
            "needs_background": "light"
          }
        }
      ]
    },
    {
      "cell_type": "markdown",
      "source": [
        "Алгоритм устранения выбросов для Surface charge и Viability представлены ниже, однако заметного изменения в датасет эта процедура не внесла"
      ],
      "metadata": {
        "id": "cq8JPn_TfB9_"
      }
    },
    {
      "cell_type": "code",
      "source": [
        "for x in ['Surface charge, mV']:\n",
        "    q75,q25 = np.percentile(merged_df.loc[:,x],[75,25])\n",
        "    intr_qr = q75-q25\n",
        "\n",
        "    max = q75+(1.5*intr_qr)\n",
        "    min = q25-(1.5*intr_qr)\n",
        "\n",
        "    merged_df.loc[merged_df[x] < min,x] = np.nan\n",
        "    merged_df.loc[merged_df[x] > max,x] = np.nan"
      ],
      "metadata": {
        "id": "us7Ssc0vd-Nq"
      },
      "execution_count": null,
      "outputs": []
    },
    {
      "cell_type": "code",
      "source": [
        "for y in ['Viability, %']:\n",
        "    q75,q25 = np.percentile(merged_df.loc[:,y],[75,25])\n",
        "    intr_qr = q75-q25\n",
        "\n",
        "    max = q75+(1.5*intr_qr)\n",
        "    min = q25-(1.5*intr_qr)\n",
        "\n",
        "    merged_df.loc[merged_df[y] < min,y] = np.nan\n",
        "    merged_df.loc[merged_df[y] > max,y] = np.nan"
      ],
      "metadata": {
        "id": "uBrNZTT7eMAp"
      },
      "execution_count": null,
      "outputs": []
    },
    {
      "cell_type": "code",
      "source": [
        "merged_df.isnull().sum()"
      ],
      "metadata": {
        "colab": {
          "base_uri": "https://localhost:8080/"
        },
        "id": "zxdYjv3_fXOy",
        "outputId": "360c0116-8fd8-44ef-8482-29ac20b55a56"
      },
      "execution_count": null,
      "outputs": [
        {
          "output_type": "execute_result",
          "data": {
            "text/plain": [
              "Diameter, nm          0\n",
              "Surface charge, mV    0\n",
              "Dose, ug/mL           0\n",
              "Viability, %          0\n",
              "dtype: int64"
            ]
          },
          "metadata": {},
          "execution_count": 91
        }
      ]
    },
    {
      "cell_type": "markdown",
      "source": [
        "Корреляционная матрица на нормированных данных"
      ],
      "metadata": {
        "id": "YrJ_cclogS2K"
      }
    },
    {
      "cell_type": "code",
      "source": [
        "data_corr=merged_df[numeric_col].corr()\n",
        "\n",
        "plt.figure(figsize = (10,6))\n",
        "sns.heatmap(data_corr, annot = True, vmin=-0.6, vmax=0.5, center= -0.3, cmap=\"Blues\")"
      ],
      "metadata": {
        "colab": {
          "base_uri": "https://localhost:8080/",
          "height": 391
        },
        "id": "8rpUO8SjgNKT",
        "outputId": "dfbcc3aa-81a3-4eb2-ad0f-520c6de5dfd2"
      },
      "execution_count": null,
      "outputs": [
        {
          "output_type": "execute_result",
          "data": {
            "text/plain": [
              "<matplotlib.axes._subplots.AxesSubplot at 0x7f5f1c0b8590>"
            ]
          },
          "metadata": {},
          "execution_count": 92
        },
        {
          "output_type": "display_data",
          "data": {
            "text/plain": [
              "<Figure size 720x432 with 2 Axes>"
            ],
            "image/png": "[encoded data removed]"
          },
          "metadata": {
            "needs_background": "light"
          }
        }
      ]
    },
    {
      "cell_type": "markdown",
      "source": [
        "# 2. Новый дескриптор"
      ],
      "metadata": {
        "id": "h-tnwl3JhYb5"
      }
    },
    {
      "cell_type": "markdown",
      "source": [
        "* Диаметр наночастицы и её поверхностный заряд -- это взаимосвязанные параметры. Коль так, можно взять их отношение. "
      ],
      "metadata": {
        "id": "Lz_6MjCQgaeE"
      }
    },
    {
      "cell_type": "code",
      "source": [
        "merged_df = pd.concat((categorical_col,merged_df) , axis = 1)\n",
        "merged_df"
      ],
      "metadata": {
        "colab": {
          "base_uri": "https://localhost:8080/",
          "height": 424
        },
        "id": "8n1zIzQ3g-SF",
        "outputId": "8a9d4f78-9b15-4f10-d02f-acbae62279a9"
      },
      "execution_count": null,
      "outputs": [
        {
          "output_type": "execute_result",
          "data": {
            "text/plain": [
              "     Material type  Diameter, nm  Surface charge, mV   Dose, ug/mL  \\\n",
              "0               Ag      0.948693           -0.316199  8.353441e-07   \n",
              "1               Ag      0.648702                 NaN  4.871104e-06   \n",
              "2               Ag      0.648702                 NaN  8.118506e-06   \n",
              "3               Ag      0.138762           -0.162793  9.768539e-01   \n",
              "4               Ag      0.111935           -0.131320  9.850002e-01   \n",
              "...            ...           ...                 ...           ...   \n",
              "7596          ZrO2      0.293901            0.088924  7.535930e-01   \n",
              "7597          ZrO2      0.376412            0.113889  4.825792e-01   \n",
              "7598          ZrO2      0.387018            0.117098  2.480884e-01   \n",
              "7599          ZrO2      0.086280           -0.392576  4.314020e-01   \n",
              "7600          ZrO2      0.368348            0.111449  1.180603e-01   \n",
              "\n",
              "      Viability, %  \n",
              "0         0.000000  \n",
              "1         0.000000  \n",
              "2         0.000000  \n",
              "3         0.000000  \n",
              "4         0.000000  \n",
              "...            ...  \n",
              "7596      0.581216  \n",
              "7597      0.782599  \n",
              "7598      0.880317  \n",
              "7599      0.807671  \n",
              "7600      0.915402  \n",
              "\n",
              "[7601 rows x 5 columns]"
            ],
            "text/html": [
              "\n",
              "  <div id=\"df-08bebcb8-4efa-4e5a-86f0-4112b239f6b4\">\n",
              "    <div class=\"colab-df-container\">\n",
              "      <div>\n",
              "<style scoped>\n",
              "    .dataframe tbody tr th:only-of-type {\n",
              "        vertical-align: middle;\n",
              "    }\n",
              "\n",
              "    .dataframe tbody tr th {\n",
              "        vertical-align: top;\n",
              "    }\n",
              "\n",
              "    .dataframe thead th {\n",
              "        text-align: right;\n",
              "    }\n",
              "</style>\n",
              "<table border=\"1\" class=\"dataframe\">\n",
              "  <thead>\n",
              "    <tr style=\"text-align: right;\">\n",
              "      <th></th>\n",
              "      <th>Material type</th>\n",
              "      <th>Diameter, nm</th>\n",
              "      <th>Surface charge, mV</th>\n",
              "      <th>Dose, ug/mL</th>\n",
              "      <th>Viability, %</th>\n",
              "    </tr>\n",
              "  </thead>\n",
              "  <tbody>\n",
              "    <tr>\n",
              "      <th>0</th>\n",
              "      <td>Ag</td>\n",
              "      <td>0.948693</td>\n",
              "      <td>-0.316199</td>\n",
              "      <td>8.353441e-07</td>\n",
              "      <td>0.000000</td>\n",
              "    </tr>\n",
              "    <tr>\n",
              "      <th>1</th>\n",
              "      <td>Ag</td>\n",
              "      <td>0.648702</td>\n",
              "      <td>NaN</td>\n",
              "      <td>4.871104e-06</td>\n",
              "      <td>0.000000</td>\n",
              "    </tr>\n",
              "    <tr>\n",
              "      <th>2</th>\n",
              "      <td>Ag</td>\n",
              "      <td>0.648702</td>\n",
              "      <td>NaN</td>\n",
              "      <td>8.118506e-06</td>\n",
              "      <td>0.000000</td>\n",
              "    </tr>\n",
              "    <tr>\n",
              "      <th>3</th>\n",
              "      <td>Ag</td>\n",
              "      <td>0.138762</td>\n",
              "      <td>-0.162793</td>\n",
              "      <td>9.768539e-01</td>\n",
              "      <td>0.000000</td>\n",
              "    </tr>\n",
              "    <tr>\n",
              "      <th>4</th>\n",
              "      <td>Ag</td>\n",
              "      <td>0.111935</td>\n",
              "      <td>-0.131320</td>\n",
              "      <td>9.850002e-01</td>\n",
              "      <td>0.000000</td>\n",
              "    </tr>\n",
              "    <tr>\n",
              "      <th>...</th>\n",
              "      <td>...</td>\n",
              "      <td>...</td>\n",
              "      <td>...</td>\n",
              "      <td>...</td>\n",
              "      <td>...</td>\n",
              "    </tr>\n",
              "    <tr>\n",
              "      <th>7596</th>\n",
              "      <td>ZrO2</td>\n",
              "      <td>0.293901</td>\n",
              "      <td>0.088924</td>\n",
              "      <td>7.535930e-01</td>\n",
              "      <td>0.581216</td>\n",
              "    </tr>\n",
              "    <tr>\n",
              "      <th>7597</th>\n",
              "      <td>ZrO2</td>\n",
              "      <td>0.376412</td>\n",
              "      <td>0.113889</td>\n",
              "      <td>4.825792e-01</td>\n",
              "      <td>0.782599</td>\n",
              "    </tr>\n",
              "    <tr>\n",
              "      <th>7598</th>\n",
              "      <td>ZrO2</td>\n",
              "      <td>0.387018</td>\n",
              "      <td>0.117098</td>\n",
              "      <td>2.480884e-01</td>\n",
              "      <td>0.880317</td>\n",
              "    </tr>\n",
              "    <tr>\n",
              "      <th>7599</th>\n",
              "      <td>ZrO2</td>\n",
              "      <td>0.086280</td>\n",
              "      <td>-0.392576</td>\n",
              "      <td>4.314020e-01</td>\n",
              "      <td>0.807671</td>\n",
              "    </tr>\n",
              "    <tr>\n",
              "      <th>7600</th>\n",
              "      <td>ZrO2</td>\n",
              "      <td>0.368348</td>\n",
              "      <td>0.111449</td>\n",
              "      <td>1.180603e-01</td>\n",
              "      <td>0.915402</td>\n",
              "    </tr>\n",
              "  </tbody>\n",
              "</table>\n",
              "<p>7601 rows × 5 columns</p>\n",
              "</div>\n",
              "      <button class=\"colab-df-convert\" onclick=\"convertToInteractive('df-08bebcb8-4efa-4e5a-86f0-4112b239f6b4')\"\n",
              "              title=\"Convert this dataframe to an interactive table.\"\n",
              "              style=\"display:none;\">\n",
              "        \n",
              "  <svg xmlns=\"http://www.w3.org/2000/svg\" height=\"24px\"viewBox=\"0 0 24 24\"\n",
              "       width=\"24px\">\n",
              "    <path d=\"M0 0h24v24H0V0z\" fill=\"none\"/>\n",
              "    <path d=\"M18.56 5.44l.94 2.06.94-2.06 2.06-.94-2.06-.94-.94-2.06-.94 2.06-2.06.94zm-11 1L8.5 8.5l.94-2.06 2.06-.94-2.06-.94L8.5 2.5l-.94 2.06-2.06.94zm10 10l.94 2.06.94-2.06 2.06-.94-2.06-.94-.94-2.06-.94 2.06-2.06.94z\"/><path d=\"M17.41 7.96l-1.37-1.37c-.4-.4-.92-.59-1.43-.59-.52 0-1.04.2-1.43.59L10.3 9.45l-7.72 7.72c-.78.78-.78 2.05 0 2.83L4 21.41c.39.39.9.59 1.41.59.51 0 1.02-.2 1.41-.59l7.78-7.78 2.81-2.81c.8-.78.8-2.07 0-2.86zM5.41 20L4 18.59l7.72-7.72 1.47 1.35L5.41 20z\"/>\n",
              "  </svg>\n",
              "      </button>\n",
              "      \n",
              "  <style>\n",
              "    .colab-df-container {\n",
              "      display:flex;\n",
              "      flex-wrap:wrap;\n",
              "      gap: 12px;\n",
              "    }\n",
              "\n",
              "    .colab-df-convert {\n",
              "      background-color: #E8F0FE;\n",
              "      border: none;\n",
              "      border-radius: 50%;\n",
              "      cursor: pointer;\n",
              "      display: none;\n",
              "      fill: #1967D2;\n",
              "      height: 32px;\n",
              "      padding: 0 0 0 0;\n",
              "      width: 32px;\n",
              "    }\n",
              "\n",
              "    .colab-df-convert:hover {\n",
              "      background-color: #E2EBFA;\n",
              "      box-shadow: 0px 1px 2px rgba(60, 64, 67, 0.3), 0px 1px 3px 1px rgba(60, 64, 67, 0.15);\n",
              "      fill: #174EA6;\n",
              "    }\n",
              "\n",
              "    [theme=dark] .colab-df-convert {\n",
              "      background-color: #3B4455;\n",
              "      fill: #D2E3FC;\n",
              "    }\n",
              "\n",
              "    [theme=dark] .colab-df-convert:hover {\n",
              "      background-color: #434B5C;\n",
              "      box-shadow: 0px 1px 3px 1px rgba(0, 0, 0, 0.15);\n",
              "      filter: drop-shadow(0px 1px 2px rgba(0, 0, 0, 0.3));\n",
              "      fill: #FFFFFF;\n",
              "    }\n",
              "  </style>\n",
              "\n",
              "      <script>\n",
              "        const buttonEl =\n",
              "          document.querySelector('#df-08bebcb8-4efa-4e5a-86f0-4112b239f6b4 button.colab-df-convert');\n",
              "        buttonEl.style.display =\n",
              "          google.colab.kernel.accessAllowed ? 'block' : 'none';\n",
              "\n",
              "        async function convertToInteractive(key) {\n",
              "          const element = document.querySelector('#df-08bebcb8-4efa-4e5a-86f0-4112b239f6b4');\n",
              "          const dataTable =\n",
              "            await google.colab.kernel.invokeFunction('convertToInteractive',\n",
              "                                                     [key], {});\n",
              "          if (!dataTable) return;\n",
              "\n",
              "          const docLinkHtml = 'Like what you see? Visit the ' +\n",
              "            '<a target=\"_blank\" href=https://colab.research.google.com/notebooks/data_table.ipynb>data table notebook</a>'\n",
              "            + ' to learn more about interactive tables.';\n",
              "          element.innerHTML = '';\n",
              "          dataTable['output_type'] = 'display_data';\n",
              "          await google.colab.output.renderOutput(dataTable, element);\n",
              "          const docLink = document.createElement('div');\n",
              "          docLink.innerHTML = docLinkHtml;\n",
              "          element.appendChild(docLink);\n",
              "        }\n",
              "      </script>\n",
              "    </div>\n",
              "  </div>\n",
              "  "
            ]
          },
          "metadata": {},
          "execution_count": 191
        }
      ]
    },
    {
      "cell_type": "code",
      "source": [
        "merged_df = merged_df.sort_values(['Material type', 'Surface charge, mV'], ascending=[True, True])"
      ],
      "metadata": {
        "id": "m0rGX9zahMyZ"
      },
      "execution_count": null,
      "outputs": []
    },
    {
      "cell_type": "code",
      "source": [
        "merged_df['Surface charge, mV'] = merged_df['Surface charge, mV'].interpolate()"
      ],
      "metadata": {
        "id": "kRbkDMVEhPQo"
      },
      "execution_count": null,
      "outputs": []
    },
    {
      "cell_type": "code",
      "source": [
        "merged_df.isna().sum()"
      ],
      "metadata": {
        "colab": {
          "base_uri": "https://localhost:8080/"
        },
        "id": "atiPjkxJhTdL",
        "outputId": "1b67f349-aeb5-418c-f2dd-6d85fe24cc02"
      },
      "execution_count": null,
      "outputs": [
        {
          "output_type": "execute_result",
          "data": {
            "text/plain": [
              "Material type         0\n",
              "Diameter, nm          0\n",
              "Surface charge, mV    0\n",
              "Dose, ug/mL           0\n",
              "Viability, %          0\n",
              "dtype: int64"
            ]
          },
          "metadata": {},
          "execution_count": 194
        }
      ]
    },
    {
      "cell_type": "code",
      "source": [
        "datatypes = merged_df['Material type'].unique()\n",
        "len(datatypes)"
      ],
      "metadata": {
        "id": "36NLEhAvrRHG"
      },
      "execution_count": null,
      "outputs": []
    },
    {
      "cell_type": "markdown",
      "source": [
        "Превращаем каждое категориальное значение в Material type в числовое"
      ],
      "metadata": {
        "id": "LiPBvxOBrcoi"
      }
    },
    {
      "cell_type": "code",
      "source": [
        "merged_df['Material type'] = merged_df['Material type'].astype('category').cat.codes\n",
        "merged_df"
      ],
      "metadata": {
        "colab": {
          "base_uri": "https://localhost:8080/",
          "height": 424
        },
        "id": "rPHcbcgkrUkK",
        "outputId": "0a074fa0-4774-492e-ee9c-76d705f161c2"
      },
      "execution_count": 230,
      "outputs": [
        {
          "output_type": "execute_result",
          "data": {
            "text/plain": [
              "      Material type  Diameter, nm  Surface charge, mV   Dose, ug/mL  \\\n",
              "316               0      0.430821           -0.505429  3.032880e-01   \n",
              "109               0      0.793334           -0.503462  2.937953e-01   \n",
              "330               0      0.429028           -0.503327  4.295432e-06   \n",
              "643               0      0.070133           -0.498821  4.383313e-02   \n",
              "166               0      0.730665           -0.497566  6.031943e-07   \n",
              "...             ...           ...                 ...           ...   \n",
              "7594             54      0.179826            0.054409  9.221861e-01   \n",
              "7596             54      0.293901            0.088924  7.535930e-01   \n",
              "7600             54      0.368348            0.111449  1.180603e-01   \n",
              "7597             54      0.376412            0.113889  4.825792e-01   \n",
              "7598             54      0.387018            0.117098  2.480884e-01   \n",
              "\n",
              "      Viability, %  \n",
              "316       0.683338  \n",
              "109       0.175586  \n",
              "330       0.750065  \n",
              "643       0.862750  \n",
              "166       0.467500  \n",
              "...            ...  \n",
              "7594      0.338046  \n",
              "7596      0.581216  \n",
              "7600      0.915402  \n",
              "7597      0.782599  \n",
              "7598      0.880317  \n",
              "\n",
              "[7601 rows x 5 columns]"
            ],
            "text/html": [
              "\n",
              "  <div id=\"df-783d7b75-5350-48ca-8d07-0455045a47d9\">\n",
              "    <div class=\"colab-df-container\">\n",
              "      <div>\n",
              "<style scoped>\n",
              "    .dataframe tbody tr th:only-of-type {\n",
              "        vertical-align: middle;\n",
              "    }\n",
              "\n",
              "    .dataframe tbody tr th {\n",
              "        vertical-align: top;\n",
              "    }\n",
              "\n",
              "    .dataframe thead th {\n",
              "        text-align: right;\n",
              "    }\n",
              "</style>\n",
              "<table border=\"1\" class=\"dataframe\">\n",
              "  <thead>\n",
              "    <tr style=\"text-align: right;\">\n",
              "      <th></th>\n",
              "      <th>Material type</th>\n",
              "      <th>Diameter, nm</th>\n",
              "      <th>Surface charge, mV</th>\n",
              "      <th>Dose, ug/mL</th>\n",
              "      <th>Viability, %</th>\n",
              "    </tr>\n",
              "  </thead>\n",
              "  <tbody>\n",
              "    <tr>\n",
              "      <th>316</th>\n",
              "      <td>0</td>\n",
              "      <td>0.430821</td>\n",
              "      <td>-0.505429</td>\n",
              "      <td>3.032880e-01</td>\n",
              "      <td>0.683338</td>\n",
              "    </tr>\n",
              "    <tr>\n",
              "      <th>109</th>\n",
              "      <td>0</td>\n",
              "      <td>0.793334</td>\n",
              "      <td>-0.503462</td>\n",
              "      <td>2.937953e-01</td>\n",
              "      <td>0.175586</td>\n",
              "    </tr>\n",
              "    <tr>\n",
              "      <th>330</th>\n",
              "      <td>0</td>\n",
              "      <td>0.429028</td>\n",
              "      <td>-0.503327</td>\n",
              "      <td>4.295432e-06</td>\n",
              "      <td>0.750065</td>\n",
              "    </tr>\n",
              "    <tr>\n",
              "      <th>643</th>\n",
              "      <td>0</td>\n",
              "      <td>0.070133</td>\n",
              "      <td>-0.498821</td>\n",
              "      <td>4.383313e-02</td>\n",
              "      <td>0.862750</td>\n",
              "    </tr>\n",
              "    <tr>\n",
              "      <th>166</th>\n",
              "      <td>0</td>\n",
              "      <td>0.730665</td>\n",
              "      <td>-0.497566</td>\n",
              "      <td>6.031943e-07</td>\n",
              "      <td>0.467500</td>\n",
              "    </tr>\n",
              "    <tr>\n",
              "      <th>...</th>\n",
              "      <td>...</td>\n",
              "      <td>...</td>\n",
              "      <td>...</td>\n",
              "      <td>...</td>\n",
              "      <td>...</td>\n",
              "    </tr>\n",
              "    <tr>\n",
              "      <th>7594</th>\n",
              "      <td>54</td>\n",
              "      <td>0.179826</td>\n",
              "      <td>0.054409</td>\n",
              "      <td>9.221861e-01</td>\n",
              "      <td>0.338046</td>\n",
              "    </tr>\n",
              "    <tr>\n",
              "      <th>7596</th>\n",
              "      <td>54</td>\n",
              "      <td>0.293901</td>\n",
              "      <td>0.088924</td>\n",
              "      <td>7.535930e-01</td>\n",
              "      <td>0.581216</td>\n",
              "    </tr>\n",
              "    <tr>\n",
              "      <th>7600</th>\n",
              "      <td>54</td>\n",
              "      <td>0.368348</td>\n",
              "      <td>0.111449</td>\n",
              "      <td>1.180603e-01</td>\n",
              "      <td>0.915402</td>\n",
              "    </tr>\n",
              "    <tr>\n",
              "      <th>7597</th>\n",
              "      <td>54</td>\n",
              "      <td>0.376412</td>\n",
              "      <td>0.113889</td>\n",
              "      <td>4.825792e-01</td>\n",
              "      <td>0.782599</td>\n",
              "    </tr>\n",
              "    <tr>\n",
              "      <th>7598</th>\n",
              "      <td>54</td>\n",
              "      <td>0.387018</td>\n",
              "      <td>0.117098</td>\n",
              "      <td>2.480884e-01</td>\n",
              "      <td>0.880317</td>\n",
              "    </tr>\n",
              "  </tbody>\n",
              "</table>\n",
              "<p>7601 rows × 5 columns</p>\n",
              "</div>\n",
              "      <button class=\"colab-df-convert\" onclick=\"convertToInteractive('df-783d7b75-5350-48ca-8d07-0455045a47d9')\"\n",
              "              title=\"Convert this dataframe to an interactive table.\"\n",
              "              style=\"display:none;\">\n",
              "        \n",
              "  <svg xmlns=\"http://www.w3.org/2000/svg\" height=\"24px\"viewBox=\"0 0 24 24\"\n",
              "       width=\"24px\">\n",
              "    <path d=\"M0 0h24v24H0V0z\" fill=\"none\"/>\n",
              "    <path d=\"M18.56 5.44l.94 2.06.94-2.06 2.06-.94-2.06-.94-.94-2.06-.94 2.06-2.06.94zm-11 1L8.5 8.5l.94-2.06 2.06-.94-2.06-.94L8.5 2.5l-.94 2.06-2.06.94zm10 10l.94 2.06.94-2.06 2.06-.94-2.06-.94-.94-2.06-.94 2.06-2.06.94z\"/><path d=\"M17.41 7.96l-1.37-1.37c-.4-.4-.92-.59-1.43-.59-.52 0-1.04.2-1.43.59L10.3 9.45l-7.72 7.72c-.78.78-.78 2.05 0 2.83L4 21.41c.39.39.9.59 1.41.59.51 0 1.02-.2 1.41-.59l7.78-7.78 2.81-2.81c.8-.78.8-2.07 0-2.86zM5.41 20L4 18.59l7.72-7.72 1.47 1.35L5.41 20z\"/>\n",
              "  </svg>\n",
              "      </button>\n",
              "      \n",
              "  <style>\n",
              "    .colab-df-container {\n",
              "      display:flex;\n",
              "      flex-wrap:wrap;\n",
              "      gap: 12px;\n",
              "    }\n",
              "\n",
              "    .colab-df-convert {\n",
              "      background-color: #E8F0FE;\n",
              "      border: none;\n",
              "      border-radius: 50%;\n",
              "      cursor: pointer;\n",
              "      display: none;\n",
              "      fill: #1967D2;\n",
              "      height: 32px;\n",
              "      padding: 0 0 0 0;\n",
              "      width: 32px;\n",
              "    }\n",
              "\n",
              "    .colab-df-convert:hover {\n",
              "      background-color: #E2EBFA;\n",
              "      box-shadow: 0px 1px 2px rgba(60, 64, 67, 0.3), 0px 1px 3px 1px rgba(60, 64, 67, 0.15);\n",
              "      fill: #174EA6;\n",
              "    }\n",
              "\n",
              "    [theme=dark] .colab-df-convert {\n",
              "      background-color: #3B4455;\n",
              "      fill: #D2E3FC;\n",
              "    }\n",
              "\n",
              "    [theme=dark] .colab-df-convert:hover {\n",
              "      background-color: #434B5C;\n",
              "      box-shadow: 0px 1px 3px 1px rgba(0, 0, 0, 0.15);\n",
              "      filter: drop-shadow(0px 1px 2px rgba(0, 0, 0, 0.3));\n",
              "      fill: #FFFFFF;\n",
              "    }\n",
              "  </style>\n",
              "\n",
              "      <script>\n",
              "        const buttonEl =\n",
              "          document.querySelector('#df-783d7b75-5350-48ca-8d07-0455045a47d9 button.colab-df-convert');\n",
              "        buttonEl.style.display =\n",
              "          google.colab.kernel.accessAllowed ? 'block' : 'none';\n",
              "\n",
              "        async function convertToInteractive(key) {\n",
              "          const element = document.querySelector('#df-783d7b75-5350-48ca-8d07-0455045a47d9');\n",
              "          const dataTable =\n",
              "            await google.colab.kernel.invokeFunction('convertToInteractive',\n",
              "                                                     [key], {});\n",
              "          if (!dataTable) return;\n",
              "\n",
              "          const docLinkHtml = 'Like what you see? Visit the ' +\n",
              "            '<a target=\"_blank\" href=https://colab.research.google.com/notebooks/data_table.ipynb>data table notebook</a>'\n",
              "            + ' to learn more about interactive tables.';\n",
              "          element.innerHTML = '';\n",
              "          dataTable['output_type'] = 'display_data';\n",
              "          await google.colab.output.renderOutput(dataTable, element);\n",
              "          const docLink = document.createElement('div');\n",
              "          docLink.innerHTML = docLinkHtml;\n",
              "          element.appendChild(docLink);\n",
              "        }\n",
              "      </script>\n",
              "    </div>\n",
              "  </div>\n",
              "  "
            ]
          },
          "metadata": {},
          "execution_count": 230
        }
      ]
    },
    {
      "cell_type": "markdown",
      "source": [
        "Построение новых дескрипторов"
      ],
      "metadata": {
        "id": "_W199kEJryc8"
      }
    },
    {
      "cell_type": "code",
      "source": [
        "SbC = pd.DataFrame( (merged_df['Surface charge, mV'] / merged_df['Diameter, nm']), columns = ['SurfCharge_by_Diameter'])"
      ],
      "metadata": {
        "id": "3JzXCcFTrtNC"
      },
      "execution_count": 237,
      "outputs": []
    },
    {
      "cell_type": "code",
      "source": [
        "SbC"
      ],
      "metadata": {
        "colab": {
          "base_uri": "https://localhost:8080/",
          "height": 424
        },
        "id": "ohqI5g9dCW4T",
        "outputId": "e10025db-c8b0-480c-d54b-64cc5d02a4d4"
      },
      "execution_count": 238,
      "outputs": [
        {
          "output_type": "execute_result",
          "data": {
            "text/plain": [
              "      SurfCharge_by_Diameter\n",
              "316                -1.173178\n",
              "109                -0.634615\n",
              "330                -1.173178\n",
              "643                -7.112500\n",
              "166                -0.680977\n",
              "...                      ...\n",
              "7594                0.302564\n",
              "7596                0.302564\n",
              "7600                0.302564\n",
              "7597                0.302564\n",
              "7598                0.302564\n",
              "\n",
              "[7601 rows x 1 columns]"
            ],
            "text/html": [
              "\n",
              "  <div id=\"df-5337f131-88c4-4f18-9761-3d49f440fca3\">\n",
              "    <div class=\"colab-df-container\">\n",
              "      <div>\n",
              "<style scoped>\n",
              "    .dataframe tbody tr th:only-of-type {\n",
              "        vertical-align: middle;\n",
              "    }\n",
              "\n",
              "    .dataframe tbody tr th {\n",
              "        vertical-align: top;\n",
              "    }\n",
              "\n",
              "    .dataframe thead th {\n",
              "        text-align: right;\n",
              "    }\n",
              "</style>\n",
              "<table border=\"1\" class=\"dataframe\">\n",
              "  <thead>\n",
              "    <tr style=\"text-align: right;\">\n",
              "      <th></th>\n",
              "      <th>SurfCharge_by_Diameter</th>\n",
              "    </tr>\n",
              "  </thead>\n",
              "  <tbody>\n",
              "    <tr>\n",
              "      <th>316</th>\n",
              "      <td>-1.173178</td>\n",
              "    </tr>\n",
              "    <tr>\n",
              "      <th>109</th>\n",
              "      <td>-0.634615</td>\n",
              "    </tr>\n",
              "    <tr>\n",
              "      <th>330</th>\n",
              "      <td>-1.173178</td>\n",
              "    </tr>\n",
              "    <tr>\n",
              "      <th>643</th>\n",
              "      <td>-7.112500</td>\n",
              "    </tr>\n",
              "    <tr>\n",
              "      <th>166</th>\n",
              "      <td>-0.680977</td>\n",
              "    </tr>\n",
              "    <tr>\n",
              "      <th>...</th>\n",
              "      <td>...</td>\n",
              "    </tr>\n",
              "    <tr>\n",
              "      <th>7594</th>\n",
              "      <td>0.302564</td>\n",
              "    </tr>\n",
              "    <tr>\n",
              "      <th>7596</th>\n",
              "      <td>0.302564</td>\n",
              "    </tr>\n",
              "    <tr>\n",
              "      <th>7600</th>\n",
              "      <td>0.302564</td>\n",
              "    </tr>\n",
              "    <tr>\n",
              "      <th>7597</th>\n",
              "      <td>0.302564</td>\n",
              "    </tr>\n",
              "    <tr>\n",
              "      <th>7598</th>\n",
              "      <td>0.302564</td>\n",
              "    </tr>\n",
              "  </tbody>\n",
              "</table>\n",
              "<p>7601 rows × 1 columns</p>\n",
              "</div>\n",
              "      <button class=\"colab-df-convert\" onclick=\"convertToInteractive('df-5337f131-88c4-4f18-9761-3d49f440fca3')\"\n",
              "              title=\"Convert this dataframe to an interactive table.\"\n",
              "              style=\"display:none;\">\n",
              "        \n",
              "  <svg xmlns=\"http://www.w3.org/2000/svg\" height=\"24px\"viewBox=\"0 0 24 24\"\n",
              "       width=\"24px\">\n",
              "    <path d=\"M0 0h24v24H0V0z\" fill=\"none\"/>\n",
              "    <path d=\"M18.56 5.44l.94 2.06.94-2.06 2.06-.94-2.06-.94-.94-2.06-.94 2.06-2.06.94zm-11 1L8.5 8.5l.94-2.06 2.06-.94-2.06-.94L8.5 2.5l-.94 2.06-2.06.94zm10 10l.94 2.06.94-2.06 2.06-.94-2.06-.94-.94-2.06-.94 2.06-2.06.94z\"/><path d=\"M17.41 7.96l-1.37-1.37c-.4-.4-.92-.59-1.43-.59-.52 0-1.04.2-1.43.59L10.3 9.45l-7.72 7.72c-.78.78-.78 2.05 0 2.83L4 21.41c.39.39.9.59 1.41.59.51 0 1.02-.2 1.41-.59l7.78-7.78 2.81-2.81c.8-.78.8-2.07 0-2.86zM5.41 20L4 18.59l7.72-7.72 1.47 1.35L5.41 20z\"/>\n",
              "  </svg>\n",
              "      </button>\n",
              "      \n",
              "  <style>\n",
              "    .colab-df-container {\n",
              "      display:flex;\n",
              "      flex-wrap:wrap;\n",
              "      gap: 12px;\n",
              "    }\n",
              "\n",
              "    .colab-df-convert {\n",
              "      background-color: #E8F0FE;\n",
              "      border: none;\n",
              "      border-radius: 50%;\n",
              "      cursor: pointer;\n",
              "      display: none;\n",
              "      fill: #1967D2;\n",
              "      height: 32px;\n",
              "      padding: 0 0 0 0;\n",
              "      width: 32px;\n",
              "    }\n",
              "\n",
              "    .colab-df-convert:hover {\n",
              "      background-color: #E2EBFA;\n",
              "      box-shadow: 0px 1px 2px rgba(60, 64, 67, 0.3), 0px 1px 3px 1px rgba(60, 64, 67, 0.15);\n",
              "      fill: #174EA6;\n",
              "    }\n",
              "\n",
              "    [theme=dark] .colab-df-convert {\n",
              "      background-color: #3B4455;\n",
              "      fill: #D2E3FC;\n",
              "    }\n",
              "\n",
              "    [theme=dark] .colab-df-convert:hover {\n",
              "      background-color: #434B5C;\n",
              "      box-shadow: 0px 1px 3px 1px rgba(0, 0, 0, 0.15);\n",
              "      filter: drop-shadow(0px 1px 2px rgba(0, 0, 0, 0.3));\n",
              "      fill: #FFFFFF;\n",
              "    }\n",
              "  </style>\n",
              "\n",
              "      <script>\n",
              "        const buttonEl =\n",
              "          document.querySelector('#df-5337f131-88c4-4f18-9761-3d49f440fca3 button.colab-df-convert');\n",
              "        buttonEl.style.display =\n",
              "          google.colab.kernel.accessAllowed ? 'block' : 'none';\n",
              "\n",
              "        async function convertToInteractive(key) {\n",
              "          const element = document.querySelector('#df-5337f131-88c4-4f18-9761-3d49f440fca3');\n",
              "          const dataTable =\n",
              "            await google.colab.kernel.invokeFunction('convertToInteractive',\n",
              "                                                     [key], {});\n",
              "          if (!dataTable) return;\n",
              "\n",
              "          const docLinkHtml = 'Like what you see? Visit the ' +\n",
              "            '<a target=\"_blank\" href=https://colab.research.google.com/notebooks/data_table.ipynb>data table notebook</a>'\n",
              "            + ' to learn more about interactive tables.';\n",
              "          element.innerHTML = '';\n",
              "          dataTable['output_type'] = 'display_data';\n",
              "          await google.colab.output.renderOutput(dataTable, element);\n",
              "          const docLink = document.createElement('div');\n",
              "          docLink.innerHTML = docLinkHtml;\n",
              "          element.appendChild(docLink);\n",
              "        }\n",
              "      </script>\n",
              "    </div>\n",
              "  </div>\n",
              "  "
            ]
          },
          "metadata": {},
          "execution_count": 238
        }
      ]
    },
    {
      "cell_type": "markdown",
      "source": [
        "Включение новых дескрипторов в общий датасет и нормализация данных\n",
        "\n",
        "---\n",
        "\n"
      ],
      "metadata": {
        "id": "W2VRK0xksz1D"
      }
    },
    {
      "cell_type": "code",
      "source": [
        "SbC = pd.DataFrame((preprocessing.normalize(SbC)), columns = ['SurfCharge_by_Diameter'])"
      ],
      "metadata": {
        "id": "b0oWTk4SsUmj"
      },
      "execution_count": 244,
      "outputs": []
    },
    {
      "cell_type": "code",
      "source": [
        "proccessed_df = pd.concat((merged_df, SbC), axis = 1)\n",
        "proccessed_df"
      ],
      "metadata": {
        "colab": {
          "base_uri": "https://localhost:8080/",
          "height": 424
        },
        "id": "8I2hPJ57tDKX",
        "outputId": "bcbf884a-bcf6-4e68-cbf2-7d20d04ec121"
      },
      "execution_count": 246,
      "outputs": [
        {
          "output_type": "execute_result",
          "data": {
            "text/plain": [
              "      Material type  Diameter, nm  Surface charge, mV   Dose, ug/mL  \\\n",
              "0                 0      0.948693           -0.316199  8.353441e-07   \n",
              "1                 0      0.648702            0.327988  4.871104e-06   \n",
              "2                 0      0.648702            0.324779  8.118506e-06   \n",
              "3                 0      0.138762           -0.162793  9.768539e-01   \n",
              "4                 0      0.111935           -0.131320  9.850002e-01   \n",
              "...             ...           ...                 ...           ...   \n",
              "7596             54      0.293901            0.088924  7.535930e-01   \n",
              "7597             54      0.376412            0.113889  4.825792e-01   \n",
              "7598             54      0.387018            0.117098  2.480884e-01   \n",
              "7599             54      0.086280           -0.392576  4.314020e-01   \n",
              "7600             54      0.368348            0.111449  1.180603e-01   \n",
              "\n",
              "      Viability, %  SurfCharge_by_Diameter  \n",
              "0         0.000000                    -1.0  \n",
              "1         0.000000                    -1.0  \n",
              "2         0.000000                    -1.0  \n",
              "3         0.000000                    -1.0  \n",
              "4         0.000000                    -1.0  \n",
              "...            ...                     ...  \n",
              "7596      0.581216                     1.0  \n",
              "7597      0.782599                     1.0  \n",
              "7598      0.880317                     1.0  \n",
              "7599      0.807671                     1.0  \n",
              "7600      0.915402                     1.0  \n",
              "\n",
              "[7601 rows x 6 columns]"
            ],
            "text/html": [
              "\n",
              "  <div id=\"df-76854652-310a-48cf-a3f2-8525b0a8f2fe\">\n",
              "    <div class=\"colab-df-container\">\n",
              "      <div>\n",
              "<style scoped>\n",
              "    .dataframe tbody tr th:only-of-type {\n",
              "        vertical-align: middle;\n",
              "    }\n",
              "\n",
              "    .dataframe tbody tr th {\n",
              "        vertical-align: top;\n",
              "    }\n",
              "\n",
              "    .dataframe thead th {\n",
              "        text-align: right;\n",
              "    }\n",
              "</style>\n",
              "<table border=\"1\" class=\"dataframe\">\n",
              "  <thead>\n",
              "    <tr style=\"text-align: right;\">\n",
              "      <th></th>\n",
              "      <th>Material type</th>\n",
              "      <th>Diameter, nm</th>\n",
              "      <th>Surface charge, mV</th>\n",
              "      <th>Dose, ug/mL</th>\n",
              "      <th>Viability, %</th>\n",
              "      <th>SurfCharge_by_Diameter</th>\n",
              "    </tr>\n",
              "  </thead>\n",
              "  <tbody>\n",
              "    <tr>\n",
              "      <th>0</th>\n",
              "      <td>0</td>\n",
              "      <td>0.948693</td>\n",
              "      <td>-0.316199</td>\n",
              "      <td>8.353441e-07</td>\n",
              "      <td>0.000000</td>\n",
              "      <td>-1.0</td>\n",
              "    </tr>\n",
              "    <tr>\n",
              "      <th>1</th>\n",
              "      <td>0</td>\n",
              "      <td>0.648702</td>\n",
              "      <td>0.327988</td>\n",
              "      <td>4.871104e-06</td>\n",
              "      <td>0.000000</td>\n",
              "      <td>-1.0</td>\n",
              "    </tr>\n",
              "    <tr>\n",
              "      <th>2</th>\n",
              "      <td>0</td>\n",
              "      <td>0.648702</td>\n",
              "      <td>0.324779</td>\n",
              "      <td>8.118506e-06</td>\n",
              "      <td>0.000000</td>\n",
              "      <td>-1.0</td>\n",
              "    </tr>\n",
              "    <tr>\n",
              "      <th>3</th>\n",
              "      <td>0</td>\n",
              "      <td>0.138762</td>\n",
              "      <td>-0.162793</td>\n",
              "      <td>9.768539e-01</td>\n",
              "      <td>0.000000</td>\n",
              "      <td>-1.0</td>\n",
              "    </tr>\n",
              "    <tr>\n",
              "      <th>4</th>\n",
              "      <td>0</td>\n",
              "      <td>0.111935</td>\n",
              "      <td>-0.131320</td>\n",
              "      <td>9.850002e-01</td>\n",
              "      <td>0.000000</td>\n",
              "      <td>-1.0</td>\n",
              "    </tr>\n",
              "    <tr>\n",
              "      <th>...</th>\n",
              "      <td>...</td>\n",
              "      <td>...</td>\n",
              "      <td>...</td>\n",
              "      <td>...</td>\n",
              "      <td>...</td>\n",
              "      <td>...</td>\n",
              "    </tr>\n",
              "    <tr>\n",
              "      <th>7596</th>\n",
              "      <td>54</td>\n",
              "      <td>0.293901</td>\n",
              "      <td>0.088924</td>\n",
              "      <td>7.535930e-01</td>\n",
              "      <td>0.581216</td>\n",
              "      <td>1.0</td>\n",
              "    </tr>\n",
              "    <tr>\n",
              "      <th>7597</th>\n",
              "      <td>54</td>\n",
              "      <td>0.376412</td>\n",
              "      <td>0.113889</td>\n",
              "      <td>4.825792e-01</td>\n",
              "      <td>0.782599</td>\n",
              "      <td>1.0</td>\n",
              "    </tr>\n",
              "    <tr>\n",
              "      <th>7598</th>\n",
              "      <td>54</td>\n",
              "      <td>0.387018</td>\n",
              "      <td>0.117098</td>\n",
              "      <td>2.480884e-01</td>\n",
              "      <td>0.880317</td>\n",
              "      <td>1.0</td>\n",
              "    </tr>\n",
              "    <tr>\n",
              "      <th>7599</th>\n",
              "      <td>54</td>\n",
              "      <td>0.086280</td>\n",
              "      <td>-0.392576</td>\n",
              "      <td>4.314020e-01</td>\n",
              "      <td>0.807671</td>\n",
              "      <td>1.0</td>\n",
              "    </tr>\n",
              "    <tr>\n",
              "      <th>7600</th>\n",
              "      <td>54</td>\n",
              "      <td>0.368348</td>\n",
              "      <td>0.111449</td>\n",
              "      <td>1.180603e-01</td>\n",
              "      <td>0.915402</td>\n",
              "      <td>1.0</td>\n",
              "    </tr>\n",
              "  </tbody>\n",
              "</table>\n",
              "<p>7601 rows × 6 columns</p>\n",
              "</div>\n",
              "      <button class=\"colab-df-convert\" onclick=\"convertToInteractive('df-76854652-310a-48cf-a3f2-8525b0a8f2fe')\"\n",
              "              title=\"Convert this dataframe to an interactive table.\"\n",
              "              style=\"display:none;\">\n",
              "        \n",
              "  <svg xmlns=\"http://www.w3.org/2000/svg\" height=\"24px\"viewBox=\"0 0 24 24\"\n",
              "       width=\"24px\">\n",
              "    <path d=\"M0 0h24v24H0V0z\" fill=\"none\"/>\n",
              "    <path d=\"M18.56 5.44l.94 2.06.94-2.06 2.06-.94-2.06-.94-.94-2.06-.94 2.06-2.06.94zm-11 1L8.5 8.5l.94-2.06 2.06-.94-2.06-.94L8.5 2.5l-.94 2.06-2.06.94zm10 10l.94 2.06.94-2.06 2.06-.94-2.06-.94-.94-2.06-.94 2.06-2.06.94z\"/><path d=\"M17.41 7.96l-1.37-1.37c-.4-.4-.92-.59-1.43-.59-.52 0-1.04.2-1.43.59L10.3 9.45l-7.72 7.72c-.78.78-.78 2.05 0 2.83L4 21.41c.39.39.9.59 1.41.59.51 0 1.02-.2 1.41-.59l7.78-7.78 2.81-2.81c.8-.78.8-2.07 0-2.86zM5.41 20L4 18.59l7.72-7.72 1.47 1.35L5.41 20z\"/>\n",
              "  </svg>\n",
              "      </button>\n",
              "      \n",
              "  <style>\n",
              "    .colab-df-container {\n",
              "      display:flex;\n",
              "      flex-wrap:wrap;\n",
              "      gap: 12px;\n",
              "    }\n",
              "\n",
              "    .colab-df-convert {\n",
              "      background-color: #E8F0FE;\n",
              "      border: none;\n",
              "      border-radius: 50%;\n",
              "      cursor: pointer;\n",
              "      display: none;\n",
              "      fill: #1967D2;\n",
              "      height: 32px;\n",
              "      padding: 0 0 0 0;\n",
              "      width: 32px;\n",
              "    }\n",
              "\n",
              "    .colab-df-convert:hover {\n",
              "      background-color: #E2EBFA;\n",
              "      box-shadow: 0px 1px 2px rgba(60, 64, 67, 0.3), 0px 1px 3px 1px rgba(60, 64, 67, 0.15);\n",
              "      fill: #174EA6;\n",
              "    }\n",
              "\n",
              "    [theme=dark] .colab-df-convert {\n",
              "      background-color: #3B4455;\n",
              "      fill: #D2E3FC;\n",
              "    }\n",
              "\n",
              "    [theme=dark] .colab-df-convert:hover {\n",
              "      background-color: #434B5C;\n",
              "      box-shadow: 0px 1px 3px 1px rgba(0, 0, 0, 0.15);\n",
              "      filter: drop-shadow(0px 1px 2px rgba(0, 0, 0, 0.3));\n",
              "      fill: #FFFFFF;\n",
              "    }\n",
              "  </style>\n",
              "\n",
              "      <script>\n",
              "        const buttonEl =\n",
              "          document.querySelector('#df-76854652-310a-48cf-a3f2-8525b0a8f2fe button.colab-df-convert');\n",
              "        buttonEl.style.display =\n",
              "          google.colab.kernel.accessAllowed ? 'block' : 'none';\n",
              "\n",
              "        async function convertToInteractive(key) {\n",
              "          const element = document.querySelector('#df-76854652-310a-48cf-a3f2-8525b0a8f2fe');\n",
              "          const dataTable =\n",
              "            await google.colab.kernel.invokeFunction('convertToInteractive',\n",
              "                                                     [key], {});\n",
              "          if (!dataTable) return;\n",
              "\n",
              "          const docLinkHtml = 'Like what you see? Visit the ' +\n",
              "            '<a target=\"_blank\" href=https://colab.research.google.com/notebooks/data_table.ipynb>data table notebook</a>'\n",
              "            + ' to learn more about interactive tables.';\n",
              "          element.innerHTML = '';\n",
              "          dataTable['output_type'] = 'display_data';\n",
              "          await google.colab.output.renderOutput(dataTable, element);\n",
              "          const docLink = document.createElement('div');\n",
              "          docLink.innerHTML = docLinkHtml;\n",
              "          element.appendChild(docLink);\n",
              "        }\n",
              "      </script>\n",
              "    </div>\n",
              "  </div>\n",
              "  "
            ]
          },
          "metadata": {},
          "execution_count": 246
        }
      ]
    },
    {
      "cell_type": "markdown",
      "source": [
        "#Подготовка наборов для обучения и тестирования модели "
      ],
      "metadata": {
        "id": "7nJ4bW4ctdwF"
      }
    },
    {
      "cell_type": "code",
      "source": [
        "Y = pd.DataFrame(proccessed_df.pop('Viability, %'))\n",
        "X = proccessed_df"
      ],
      "metadata": {
        "id": "pUx_XolWtFiK"
      },
      "execution_count": null,
      "outputs": []
    },
    {
      "cell_type": "markdown",
      "source": [
        "Разбиение датасета на тренировочную и тестовую выборку"
      ],
      "metadata": {
        "id": "Q-cZNy47tryj"
      }
    },
    {
      "cell_type": "code",
      "source": [
        "X_train, X_test, y_train, y_test = train_test_split( X, Y, random_state=0, train_size = .80)"
      ],
      "metadata": {
        "id": "tR_Au9eBtpPZ"
      },
      "execution_count": null,
      "outputs": []
    },
    {
      "cell_type": "markdown",
      "source": [
        "# Модели обучения МО\n",
        "##Линейная регрессия"
      ],
      "metadata": {
        "id": "4qjCOSputz_g"
      }
    },
    {
      "cell_type": "markdown",
      "source": [
        "Обучение модели"
      ],
      "metadata": {
        "id": "2NkXJiOgvKb6"
      }
    },
    {
      "cell_type": "code",
      "source": [
        "#Linear Regression\n",
        "from sklearn.linear_model import LinearRegression\n",
        "from sklearn.model_selection import cross_val_score, cross_val_predict\n",
        "from sklearn.metrics import mean_absolute_error, mean_squared_error, r2_score\n",
        "\n",
        "\n",
        "regressor = LinearRegression()\n",
        "model = regressor.fit(X_train, y_train)"
      ],
      "metadata": {
        "id": "106wIf_Bt99p"
      },
      "execution_count": null,
      "outputs": []
    },
    {
      "cell_type": "markdown",
      "source": [
        "Вычисление коэффициента детерминации, наклона и подъёма прямой"
      ],
      "metadata": {
        "id": "4Ux4P3-zu37u"
      }
    },
    {
      "cell_type": "code",
      "source": [
        "r_sq = model.score(X_test, y_test)\n",
        "print(f\"coefficient of determination: {r_sq}\")\n",
        "print(f\"intercept: {model.intercept_}\")\n",
        "print(f\"slope: {model.coef_}\")\n",
        "y_pred = model.predict(X_test)"
      ],
      "metadata": {
        "colab": {
          "base_uri": "https://localhost:8080/"
        },
        "id": "JvKAJKhUu0xd",
        "outputId": "39b3aa66-4306-4a92-b7b2-190d9d7896ce"
      },
      "execution_count": null,
      "outputs": [
        {
          "output_type": "stream",
          "name": "stdout",
          "text": [
            "coefficient of determination: 0.7051414286886822\n",
            "intercept: [1.03344178]\n",
            "slope: [[-2.17004796e-04 -7.09021437e-01 -2.43066280e-01 -6.63803095e-01\n",
            "   4.39425963e-02  1.06006989e-02]]\n"
          ]
        }
      ]
    },
    {
      "cell_type": "markdown",
      "source": [
        "Кросс-валидация модели"
      ],
      "metadata": {
        "id": "xCUv2L0UvQ4T"
      }
    },
    {
      "cell_type": "code",
      "source": [
        "# Perform 6-fold cross validation\n",
        "scores = cross_val_score(model, X, Y, cv=10)\n",
        "print(\"Cross-validated scores:\", scores)\n",
        "\n",
        "predictions = cross_val_predict(model, X, Y, cv=10)"
      ],
      "metadata": {
        "colab": {
          "base_uri": "https://localhost:8080/"
        },
        "id": "AvuvK94tvMxR",
        "outputId": "0c99a9aa-7b21-4934-92cd-5dd218cf0a16"
      },
      "execution_count": null,
      "outputs": [
        {
          "output_type": "stream",
          "name": "stdout",
          "text": [
            "Cross-validated scores: [0.59607827 0.66611933 0.77235965 0.74819645 0.65773271 0.72310342\n",
            " 0.69399661 0.5023581  0.75052955 0.54745855]\n"
          ]
        }
      ]
    },
    {
      "cell_type": "markdown",
      "source": [
        "Подсчёт метрик точности модели"
      ],
      "metadata": {
        "id": "rFgcHCXuvXdh"
      }
    },
    {
      "cell_type": "code",
      "source": [
        "mae = mean_absolute_error(y_test, y_pred)\n",
        "mse = mean_squared_error(y_test, y_pred)\n",
        "rmse = np.sqrt(mse)\n",
        "r2_score = r2_score(y_test, y_pred)\n",
        "\n",
        "print(regressor.intercept_)\n",
        "print(regressor.coef_)\n",
        "print(f'Mean absolute error: {mae:.2f}')\n",
        "print(f'Mean squared error: {mse:.2f}')\n",
        "print(f'Root mean squared error: {rmse:.2f}')\n",
        "print(f'Accuracy: {r2_score:.2f}')"
      ],
      "metadata": {
        "colab": {
          "base_uri": "https://localhost:8080/"
        },
        "id": "lqQn9Oa5vYV_",
        "outputId": "6d4e38e3-3ddf-4b09-b127-6b31f8e233f0"
      },
      "execution_count": null,
      "outputs": [
        {
          "output_type": "stream",
          "name": "stdout",
          "text": [
            "[1.03344178]\n",
            "[[-2.17004796e-04 -7.09021437e-01 -2.43066280e-01 -6.63803095e-01\n",
            "   4.39425963e-02  1.06006989e-02]]\n",
            "Mean absolute error: 0.13\n",
            "Mean squared error: 0.03\n",
            "Root mean squared error: 0.16\n",
            "Accuracy: 0.71\n"
          ]
        }
      ]
    },
    {
      "cell_type": "markdown",
      "source": [
        "Визуализация качества модели графиком \"Введено - найдено\""
      ],
      "metadata": {
        "id": "1VhinGeQvkdt"
      }
    },
    {
      "cell_type": "code",
      "source": [
        "plt.scatter(y_test,y_pred)\n",
        "plt.title('LinearRegression \"Introduced - Found\"')"
      ],
      "metadata": {
        "colab": {
          "base_uri": "https://localhost:8080/",
          "height": 298
        },
        "id": "1ZaTGPggvgez",
        "outputId": "5f5c9e4d-88a7-44bc-c8cf-e5c40d477a76"
      },
      "execution_count": null,
      "outputs": [
        {
          "output_type": "execute_result",
          "data": {
            "text/plain": [
              "Text(0.5, 1.0, 'LinearRegression \"Introduced - Found\"')"
            ]
          },
          "metadata": {},
          "execution_count": 210
        },
        {
          "output_type": "display_data",
          "data": {
            "text/plain": [
              "<Figure size 432x288 with 1 Axes>"
            ],
            "image/png": "[encoded data removed]"
          },
          "metadata": {
            "needs_background": "light"
          }
        }
      ]
    },
    {
      "cell_type": "markdown",
      "source": [
        "##Случайный лес"
      ],
      "metadata": {
        "id": "AaOGFMVJvrxF"
      }
    },
    {
      "cell_type": "markdown",
      "source": [
        "Обучение модели"
      ],
      "metadata": {
        "id": "DMRZxjoLv0QD"
      }
    },
    {
      "cell_type": "code",
      "source": [
        "regr = RandomForestRegressor(random_state=0, n_estimators=50, oob_score = True)\n",
        "regr.fit(X_train, y_train)"
      ],
      "metadata": {
        "colab": {
          "base_uri": "https://localhost:8080/",
          "height": 389
        },
        "id": "90e7WUHmvyh8",
        "outputId": "cc434c61-48b1-4c59-ab14-47ba20f9af3c"
      },
      "execution_count": null,
      "outputs": [
        {
          "output_type": "stream",
          "name": "stderr",
          "text": [
            "/usr/local/lib/python3.7/dist-packages/ipykernel_launcher.py:2: DataConversionWarning: A column-vector y was passed when a 1d array was expected. Please change the shape of y to (n_samples,), for example using ravel().\n",
            "  \n",
            "/usr/local/lib/python3.7/dist-packages/sklearn/ensemble/_forest.py:564: UserWarning: Some inputs do not have OOB scores. This probably means too few trees were used to compute any reliable OOB estimates.\n",
            "  UserWarning,\n",
            "/usr/local/lib/python3.7/dist-packages/ipykernel_launcher.py:4: RuntimeWarning: divide by zero encountered in log10\n",
            "  after removing the cwd from sys.path.\n"
          ]
        },
        {
          "output_type": "display_data",
          "data": {
            "text/plain": [
              "<Figure size 432x288 with 1 Axes>"
            ],
            "image/png": "[encoded data removed]"
          },
          "metadata": {
            "needs_background": "light"
          }
        }
      ]
    },
    {
      "cell_type": "markdown",
      "source": [
        "Предсказание"
      ],
      "metadata": {
        "id": "rqbBBlUnv6XH"
      }
    },
    {
      "cell_type": "code",
      "source": [
        "predicted = regr.predict(X_test)"
      ],
      "metadata": {
        "colab": {
          "base_uri": "https://localhost:8080/"
        },
        "id": "qbiEKA7-v5k8",
        "outputId": "31e61de2-d68a-4c87-9043-5b60b0af4289"
      },
      "execution_count": null,
      "outputs": [
        {
          "output_type": "execute_result",
          "data": {
            "text/plain": [
              "array([0.14893044, 0.32736756, 0.58150269, ..., 0.80127706, 0.76056364,\n",
              "       0.34837484])"
            ]
          },
          "metadata": {},
          "execution_count": 212
        }
      ]
    },
    {
      "cell_type": "markdown",
      "source": [
        "Вычисление коэффициента детерминации"
      ],
      "metadata": {
        "id": "TGC1v1Tsv_dk"
      }
    },
    {
      "cell_type": "code",
      "source": [
        "r_sq = regr.score(X_test, y_test)\n",
        "print(f\"coefficient of determination: {r_sq}\")\n",
        "y_pred = regr.predict(X_test)"
      ],
      "metadata": {
        "colab": {
          "base_uri": "https://localhost:8080/"
        },
        "id": "od2gyRA5wBO4",
        "outputId": "f2f68017-142a-469b-bb5c-35372ebc5012"
      },
      "execution_count": null,
      "outputs": [
        {
          "output_type": "stream",
          "name": "stdout",
          "text": [
            "coefficient of determination: 0.9626358844279805\n"
          ]
        }
      ]
    },
    {
      "cell_type": "markdown",
      "source": [
        "Кросс-валидация"
      ],
      "metadata": {
        "id": "uM7SeT_lwH_b"
      }
    },
    {
      "cell_type": "code",
      "source": [
        "# Perform 6-fold cross validation\n",
        "scores = cross_val_score(regr, X, np.ravel(Y), cv=10)\n",
        "print(\"Cross-validated scores:\", scores)\n",
        "\n",
        "predictions = cross_val_predict(regr, X, np.ravel(Y), cv=10)"
      ],
      "metadata": {
        "colab": {
          "base_uri": "https://localhost:8080/"
        },
        "id": "RQZVMB7ewdPU",
        "outputId": "8545f659-10fe-468d-eb17-464407286afa"
      },
      "execution_count": null,
      "outputs": [
        {
          "output_type": "stream",
          "name": "stderr",
          "text": [
            "/usr/local/lib/python3.7/dist-packages/sklearn/ensemble/_forest.py:564: UserWarning: Some inputs do not have OOB scores. This probably means too few trees were used to compute any reliable OOB estimates.\n",
            "  UserWarning,\n",
            "/usr/local/lib/python3.7/dist-packages/sklearn/ensemble/_forest.py:564: UserWarning: Some inputs do not have OOB scores. This probably means too few trees were used to compute any reliable OOB estimates.\n",
            "  UserWarning,\n",
            "/usr/local/lib/python3.7/dist-packages/sklearn/ensemble/_forest.py:564: UserWarning: Some inputs do not have OOB scores. This probably means too few trees were used to compute any reliable OOB estimates.\n",
            "  UserWarning,\n",
            "/usr/local/lib/python3.7/dist-packages/sklearn/ensemble/_forest.py:564: UserWarning: Some inputs do not have OOB scores. This probably means too few trees were used to compute any reliable OOB estimates.\n",
            "  UserWarning,\n",
            "/usr/local/lib/python3.7/dist-packages/sklearn/ensemble/_forest.py:564: UserWarning: Some inputs do not have OOB scores. This probably means too few trees were used to compute any reliable OOB estimates.\n",
            "  UserWarning,\n",
            "/usr/local/lib/python3.7/dist-packages/sklearn/ensemble/_forest.py:564: UserWarning: Some inputs do not have OOB scores. This probably means too few trees were used to compute any reliable OOB estimates.\n",
            "  UserWarning,\n",
            "/usr/local/lib/python3.7/dist-packages/sklearn/ensemble/_forest.py:564: UserWarning: Some inputs do not have OOB scores. This probably means too few trees were used to compute any reliable OOB estimates.\n",
            "  UserWarning,\n",
            "/usr/local/lib/python3.7/dist-packages/sklearn/ensemble/_forest.py:564: UserWarning: Some inputs do not have OOB scores. This probably means too few trees were used to compute any reliable OOB estimates.\n",
            "  UserWarning,\n",
            "/usr/local/lib/python3.7/dist-packages/sklearn/ensemble/_forest.py:564: UserWarning: Some inputs do not have OOB scores. This probably means too few trees were used to compute any reliable OOB estimates.\n",
            "  UserWarning,\n",
            "/usr/local/lib/python3.7/dist-packages/sklearn/ensemble/_forest.py:564: UserWarning: Some inputs do not have OOB scores. This probably means too few trees were used to compute any reliable OOB estimates.\n",
            "  UserWarning,\n"
          ]
        },
        {
          "output_type": "stream",
          "name": "stdout",
          "text": [
            "Cross-validated scores: [0.694411   0.83139383 0.93972757 0.80829241 0.90436774 0.96030355\n",
            " 0.8562571  0.77101683 0.94565314 0.82394976]\n"
          ]
        },
        {
          "output_type": "stream",
          "name": "stderr",
          "text": [
            "/usr/local/lib/python3.7/dist-packages/sklearn/ensemble/_forest.py:564: UserWarning: Some inputs do not have OOB scores. This probably means too few trees were used to compute any reliable OOB estimates.\n",
            "  UserWarning,\n",
            "/usr/local/lib/python3.7/dist-packages/sklearn/ensemble/_forest.py:564: UserWarning: Some inputs do not have OOB scores. This probably means too few trees were used to compute any reliable OOB estimates.\n",
            "  UserWarning,\n",
            "/usr/local/lib/python3.7/dist-packages/sklearn/ensemble/_forest.py:564: UserWarning: Some inputs do not have OOB scores. This probably means too few trees were used to compute any reliable OOB estimates.\n",
            "  UserWarning,\n",
            "/usr/local/lib/python3.7/dist-packages/sklearn/ensemble/_forest.py:564: UserWarning: Some inputs do not have OOB scores. This probably means too few trees were used to compute any reliable OOB estimates.\n",
            "  UserWarning,\n",
            "/usr/local/lib/python3.7/dist-packages/sklearn/ensemble/_forest.py:564: UserWarning: Some inputs do not have OOB scores. This probably means too few trees were used to compute any reliable OOB estimates.\n",
            "  UserWarning,\n",
            "/usr/local/lib/python3.7/dist-packages/sklearn/ensemble/_forest.py:564: UserWarning: Some inputs do not have OOB scores. This probably means too few trees were used to compute any reliable OOB estimates.\n",
            "  UserWarning,\n",
            "/usr/local/lib/python3.7/dist-packages/sklearn/ensemble/_forest.py:564: UserWarning: Some inputs do not have OOB scores. This probably means too few trees were used to compute any reliable OOB estimates.\n",
            "  UserWarning,\n",
            "/usr/local/lib/python3.7/dist-packages/sklearn/ensemble/_forest.py:564: UserWarning: Some inputs do not have OOB scores. This probably means too few trees were used to compute any reliable OOB estimates.\n",
            "  UserWarning,\n",
            "/usr/local/lib/python3.7/dist-packages/sklearn/ensemble/_forest.py:564: UserWarning: Some inputs do not have OOB scores. This probably means too few trees were used to compute any reliable OOB estimates.\n",
            "  UserWarning,\n",
            "/usr/local/lib/python3.7/dist-packages/sklearn/ensemble/_forest.py:564: UserWarning: Some inputs do not have OOB scores. This probably means too few trees were used to compute any reliable OOB estimates.\n",
            "  UserWarning,\n"
          ]
        }
      ]
    },
    {
      "cell_type": "markdown",
      "source": [
        "Подсчёт метрик точности модели"
      ],
      "metadata": {
        "id": "hNO9ApMzwU9u"
      }
    },
    {
      "cell_type": "code",
      "source": [
        "mae = mean_absolute_error(y_test, y_pred)\n",
        "mse = mean_squared_error(y_test, y_pred)\n",
        "rmse = np.sqrt(mse)\n",
        "r_sq = regr.score(X_test, y_test)\n",
        "\n",
        "print(f'Mean absolute error: {mae:.2f}')\n",
        "print(f'Mean squared error: {mse:.2f}')\n",
        "print(f'Root mean squared error: {rmse:.2f}')\n",
        "print(f'Accuracy: {r_sq:.2f}')"
      ],
      "metadata": {
        "colab": {
          "base_uri": "https://localhost:8080/"
        },
        "id": "YuistcbVwKgP",
        "outputId": "7a3d02f0-84de-4ebb-c5a0-9d41b7900d7f"
      },
      "execution_count": null,
      "outputs": [
        {
          "output_type": "stream",
          "name": "stdout",
          "text": [
            "Mean absolute error: 0.02\n",
            "Mean squared error: 0.00\n",
            "Root mean squared error: 0.06\n",
            "Accuracy: 0.96\n"
          ]
        }
      ]
    },
    {
      "cell_type": "markdown",
      "source": [
        "Визуализация качества модели графиком \"Введено - найдено\""
      ],
      "metadata": {
        "id": "tNP8CK2ZyNx8"
      }
    },
    {
      "cell_type": "code",
      "source": [
        "plt.scatter(y_test,y_pred)\n",
        "plt.title('RandomForestRegressor \"Introduced - Found\"')"
      ],
      "metadata": {
        "colab": {
          "base_uri": "https://localhost:8080/",
          "height": 298
        },
        "id": "FXyVSR1XxdYi",
        "outputId": "f3c9d2bd-7e20-4fbe-da0d-55637e5f8e0d"
      },
      "execution_count": null,
      "outputs": [
        {
          "output_type": "execute_result",
          "data": {
            "text/plain": [
              "Text(0.5, 1.0, 'RandomForestRegressor \"Introduced - Found\"')"
            ]
          },
          "metadata": {},
          "execution_count": 216
        },
        {
          "output_type": "display_data",
          "data": {
            "text/plain": [
              "<Figure size 432x288 with 1 Axes>"
            ],
            "image/png": "[encoded data removed]"
          },
          "metadata": {
            "needs_background": "light"
          }
        }
      ]
    },
    {
      "cell_type": "markdown",
      "source": [
        "##Gaussian"
      ],
      "metadata": {
        "id": "vdoTxYxowhHO"
      }
    },
    {
      "cell_type": "markdown",
      "source": [
        "Обучение модели"
      ],
      "metadata": {
        "id": "rLsc9Botw2a0"
      }
    },
    {
      "cell_type": "code",
      "source": [
        "from sklearn import linear_model\n",
        "clf = BayesianRidge()\n",
        "clf.fit(X_train, np.ravel(y_train))"
      ],
      "metadata": {
        "colab": {
          "base_uri": "https://localhost:8080/"
        },
        "id": "YeZYoLlBwqE8",
        "outputId": "0f95d000-10e8-4531-9b2a-bef4549ae11b"
      },
      "execution_count": null,
      "outputs": [
        {
          "output_type": "execute_result",
          "data": {
            "text/plain": [
              "BayesianRidge()"
            ]
          },
          "metadata": {},
          "execution_count": 217
        }
      ]
    },
    {
      "cell_type": "markdown",
      "source": [
        "Предсказание"
      ],
      "metadata": {
        "id": "SdqHcx0Tw_0E"
      }
    },
    {
      "cell_type": "code",
      "source": [
        "y_pred = clf.predict(X_test)"
      ],
      "metadata": {
        "id": "skkJIdn5w1NY"
      },
      "execution_count": null,
      "outputs": []
    },
    {
      "cell_type": "markdown",
      "source": [
        "Кросс-валидация"
      ],
      "metadata": {
        "id": "mnzBoyBLxBCA"
      }
    },
    {
      "cell_type": "code",
      "source": [
        "scores = cross_val_score(clf, X, np.ravel(Y), cv=10)\n",
        "print(\"Cross-validated scores:\", scores)\n",
        "\n",
        "predictions = cross_val_predict(clf, X, np.ravel(Y), cv=10)"
      ],
      "metadata": {
        "colab": {
          "base_uri": "https://localhost:8080/"
        },
        "id": "dj9IqbuHw6pu",
        "outputId": "59d2333e-e1b0-4c90-b70d-b607f34ace2e"
      },
      "execution_count": null,
      "outputs": [
        {
          "output_type": "stream",
          "name": "stdout",
          "text": [
            "Cross-validated scores: [0.59603542 0.66621562 0.77232654 0.74823557 0.65774863 0.72311576\n",
            " 0.69400646 0.50242257 0.75044947 0.54741236]\n"
          ]
        }
      ]
    },
    {
      "cell_type": "markdown",
      "source": [
        "Подсчёт метрик точности модели"
      ],
      "metadata": {
        "id": "bVNNrsALxDli"
      }
    },
    {
      "cell_type": "code",
      "source": [
        "mae = mean_absolute_error(y_test, y_pred)\n",
        "mse = mean_squared_error(y_test, y_pred)\n",
        "rmse = np.sqrt(mse)\n",
        "r2 = clf.score(X_test, np.ravel(y_test))\n",
        "\n",
        "print(f'Mean absolute error: {mae:.2f}')\n",
        "print(f'Mean squared error: {mse:.2f}')\n",
        "print(f'Root mean squared error: {rmse:.2f}')\n",
        "print(f'Accuracy: {r2:.2f}')"
      ],
      "metadata": {
        "colab": {
          "base_uri": "https://localhost:8080/"
        },
        "id": "iacGrPjKxJrW",
        "outputId": "566aa07f-ee0e-4537-9371-00231ad14450"
      },
      "execution_count": null,
      "outputs": [
        {
          "output_type": "stream",
          "name": "stdout",
          "text": [
            "Mean absolute error: 0.13\n",
            "Mean squared error: 0.03\n",
            "Root mean squared error: 0.16\n",
            "Accuracy: 0.71\n"
          ]
        }
      ]
    },
    {
      "cell_type": "markdown",
      "source": [
        "Визуализация качества модели графиком \"Введено - найдено\""
      ],
      "metadata": {
        "id": "2PikRlB_xL9q"
      }
    },
    {
      "cell_type": "code",
      "source": [
        "plt.scatter(y_test,y_pred)\n",
        "plt.title('BayesianRidge \"Introduced - Found\"')"
      ],
      "metadata": {
        "colab": {
          "base_uri": "https://localhost:8080/",
          "height": 298
        },
        "id": "BiZn2hZXxYBW",
        "outputId": "fab4ecb5-222c-4a53-d444-ca7a4fe74cbc"
      },
      "execution_count": null,
      "outputs": [
        {
          "output_type": "execute_result",
          "data": {
            "text/plain": [
              "Text(0.5, 1.0, 'BayesianRidge \"Introduced - Found\"')"
            ]
          },
          "metadata": {},
          "execution_count": 221
        },
        {
          "output_type": "display_data",
          "data": {
            "text/plain": [
              "<Figure size 432x288 with 1 Axes>"
            ],
            "image/png": "[encoded data removed]"
          },
          "metadata": {
            "needs_background": "light"
          }
        }
      ]
    },
    {
      "cell_type": "markdown",
      "source": [
        "##Partial Least Squares"
      ],
      "metadata": {
        "id": "dKHQDiKpxpDe"
      }
    },
    {
      "cell_type": "markdown",
      "source": [
        "Обучение модели"
      ],
      "metadata": {
        "id": "J8Dqg35YxuHa"
      }
    },
    {
      "cell_type": "code",
      "source": [
        "from sklearn.cross_decomposition import PLSRegression\n",
        "pls = PLSRegression(n_components=2)\n",
        "pls.fit(X_train, y_train)"
      ],
      "metadata": {
        "colab": {
          "base_uri": "https://localhost:8080/"
        },
        "id": "lFcySIxrxqcU",
        "outputId": "40cb570d-5fa9-4a1b-b258-2ab952bbd4c3"
      },
      "execution_count": null,
      "outputs": [
        {
          "output_type": "execute_result",
          "data": {
            "text/plain": [
              "PLSRegression()"
            ]
          },
          "metadata": {},
          "execution_count": 222
        }
      ]
    },
    {
      "cell_type": "markdown",
      "source": [
        "Предсказание"
      ],
      "metadata": {
        "id": "qvMOtBy2xynN"
      }
    },
    {
      "cell_type": "code",
      "source": [
        "y_pred = pls.predict(X_test)"
      ],
      "metadata": {
        "id": "LR2zEA64xzyR"
      },
      "execution_count": null,
      "outputs": []
    },
    {
      "cell_type": "markdown",
      "source": [
        "Кросс-валидация"
      ],
      "metadata": {
        "id": "7lzDKyjxx1jr"
      }
    },
    {
      "cell_type": "code",
      "source": [
        "scores = cross_val_score(pls, X, np.ravel(Y), cv=10)\n",
        "print(\"Cross-validated scores:\", scores)\n",
        "\n",
        "predictions = cross_val_predict(pls, X, np.ravel(Y), cv=10)"
      ],
      "metadata": {
        "colab": {
          "base_uri": "https://localhost:8080/"
        },
        "id": "T6wtUpJIx6J4",
        "outputId": "9bc6f667-f74f-42ff-d1f0-34b89eb60b1a"
      },
      "execution_count": null,
      "outputs": [
        {
          "output_type": "stream",
          "name": "stdout",
          "text": [
            "Cross-validated scores: [0.61628842 0.61999805 0.77139889 0.66500608 0.60126924 0.65324013\n",
            " 0.68728495 0.56245883 0.6919467  0.52021418]\n"
          ]
        }
      ]
    },
    {
      "cell_type": "markdown",
      "source": [
        "Подсчёт метрик точности модели"
      ],
      "metadata": {
        "id": "ifn9uc4Mx9ij"
      }
    },
    {
      "cell_type": "code",
      "source": [
        "mae = mean_absolute_error(y_test, y_pred)\n",
        "mse = mean_squared_error(y_test, y_pred)\n",
        "rmse = np.sqrt(mse)\n",
        "r2 = pls.score(X_test, np.ravel(y_test))\n",
        "\n",
        "print(f'Mean absolute error: {mae:.2f}')\n",
        "print(f'Mean squared error: {mse:.2f}')\n",
        "print(f'Root mean squared error: {rmse:.2f}')\n",
        "print(f'Accuracy: {r2:.2f}')"
      ],
      "metadata": {
        "colab": {
          "base_uri": "https://localhost:8080/"
        },
        "id": "CFnZQ-zYyAxT",
        "outputId": "f5558fcd-23af-4e98-d299-b449e64ad1fe"
      },
      "execution_count": null,
      "outputs": [
        {
          "output_type": "stream",
          "name": "stdout",
          "text": [
            "Mean absolute error: 0.13\n",
            "Mean squared error: 0.03\n",
            "Root mean squared error: 0.16\n",
            "Accuracy: 0.70\n"
          ]
        }
      ]
    },
    {
      "cell_type": "markdown",
      "source": [
        "Визуализация качества модели графиком \"Введено - найдено\""
      ],
      "metadata": {
        "id": "Mt5SZyxVyClb"
      }
    },
    {
      "cell_type": "code",
      "source": [
        "plt.scatter(y_test,y_pred)\n",
        "plt.title('Partial Least Squares \"Introduced - Found\"')"
      ],
      "metadata": {
        "colab": {
          "base_uri": "https://localhost:8080/",
          "height": 298
        },
        "id": "Da7s8YXlyGND",
        "outputId": "1e5de889-9810-4f66-d4c9-87773f7c7c54"
      },
      "execution_count": null,
      "outputs": [
        {
          "output_type": "execute_result",
          "data": {
            "text/plain": [
              "Text(0.5, 1.0, 'Partial Least Squares \"Introduced - Found\"')"
            ]
          },
          "metadata": {},
          "execution_count": 226
        },
        {
          "output_type": "display_data",
          "data": {
            "text/plain": [
              "<Figure size 432x288 with 1 Axes>"
            ],
            "image/png": "[encoded data removed]"
          },
          "metadata": {
            "needs_background": "light"
          }
        }
      ]
    }
  ],
  "metadata": {
    "colab": {
      "collapsed_sections": [],
      "name": "Finished_Nanoparticles.ipynb",
      "provenance": []
    },
    "kernelspec": {
      "display_name": "Python 3",
      "name": "python3"
    },
    "language_info": {
      "name": "python"
    }
  },
  "nbformat": 4,
  "nbformat_minor": 0
}